{
 "cells": [
  {
   "cell_type": "code",
   "execution_count": 1,
   "metadata": {},
   "outputs": [],
   "source": [
    "import pickle\n",
    "\n",
    "from tensorflow.keras.models import Model\n",
    "from tensorflow.keras.layers import Dense, Embedding, Conv1D, GlobalAveragePooling1D, Input, Activation, \\\n",
    "    BatchNormalization, MaxPooling1D, concatenate, LSTM\n",
    "\n",
    "from tqdm.notebook import tqdm\n",
    "from tensorflow.keras.preprocessing.sequence import pad_sequences\n",
    "import numpy as np\n",
    "import pandas as pd\n",
    "from tensorflow.keras.metrics import Precision\n",
    "from tensorflow.keras.metrics import Recall\n",
    "from tensorflow.keras.utils import multi_gpu_model\n",
    "from tensorflow.keras.callbacks import EarlyStopping, ModelCheckpoint\n",
    "import tensorflow as tf\n",
    "\n",
    "\n",
    "\n",
    "def RedRNN(max_len=1600, embedding_size=8):\n",
    "    now_pay_input_layer = Input((max_len, ), name='now_pay')\n",
    "    embedding_layer = Embedding(257, embedding_size)(now_pay_input_layer)\n",
    "    \n",
    "    x = LSTM(32)(embedding_layer)\n",
    "    output_layer = Dense(1, activation='sigmoid')(x)\n",
    "    \n",
    "    return Model(inputs=[now_pay_input_layer], outputs=output_layer)"
   ]
  },
  {
   "cell_type": "code",
   "execution_count": 2,
   "metadata": {},
   "outputs": [],
   "source": [
    "from tqdm.notebook import tqdm\n",
    "from tensorflow.keras.preprocessing.sequence import pad_sequences\n",
    "from tensorflow.keras.utils import to_categorical\n",
    "\n",
    "def preprocessing_payload(payloads, max_len=1600):\n",
    "    tmp = []\n",
    "    for payload in tqdm(payloads):\n",
    "        byte_payload = []\n",
    "        for i in range(0, len(payload), 2):\n",
    "            byte_payload.append(int(payload[i:i + 2], 16))\n",
    "        tmp.append(byte_payload)\n",
    "    tmp = pad_sequences(tmp, maxlen=max_len, padding='post', truncating='post', value=256)\n",
    "\n",
    "    return np.array(tmp)"
   ]
  },
  {
   "cell_type": "code",
   "execution_count": 3,
   "metadata": {},
   "outputs": [],
   "source": [
    "def extract(data):\n",
    "    temp_payload = []\n",
    "    temp_y = []\n",
    "    for value in data.values():\n",
    "        for j in range(len(value)):\n",
    "            temp_payload.append(value[j][0])\n",
    "            temp_y.append(2 - value[j][1])\n",
    "    return temp_payload, temp_y\n"
   ]
  },
  {
   "cell_type": "code",
   "execution_count": 4,
   "metadata": {},
   "outputs": [
    {
     "data": {
      "application/vnd.jupyter.widget-view+json": {
       "model_id": "9c33df27954846eb81d2050cf170204e",
       "version_major": 2,
       "version_minor": 0
      },
      "text/plain": [
       "HBox(children=(FloatProgress(value=0.0, max=1443437.0), HTML(value='')))"
      ]
     },
     "metadata": {},
     "output_type": "display_data"
    },
    {
     "name": "stdout",
     "output_type": "stream",
     "text": [
      "\n",
      "Train on 1443437 samples\n",
      "Epoch 1/128\n",
      "1443328/1443437 [============================>.] - ETA: 0s - loss: 0.6555 - acc: 0.5779 - precision: 0.4122 - recall: 1.7729e-04\n",
      "Epoch 00001: loss improved from inf to 0.65550, saving model to E:\\full_data\\keras_embedding_RNN_model.h5\n",
      "1443437/1443437 [==============================] - 601s 416us/sample - loss: 0.6555 - acc: 0.5779 - precision: 0.4122 - recall: 1.7728e-04\n",
      "Epoch 2/128\n",
      "1443328/1443437 [============================>.] - ETA: 0s - loss: 0.6662 - acc: 0.5824 - precision: 0.5879 - recall: 0.0356\n",
      "Epoch 00002: loss did not improve from 0.65550\n",
      "1443437/1443437 [==============================] - 600s 416us/sample - loss: 0.6662 - acc: 0.5824 - precision: 0.5879 - recall: 0.0356\n",
      "Epoch 3/128\n",
      "1443328/1443437 [============================>.] - ETA: 0s - loss: 0.6555 - acc: 0.5779 - precision: 0.0000e+00 - recall: 0.0000e+00\n",
      "Epoch 00003: loss did not improve from 0.65550\n",
      "1443437/1443437 [==============================] - 599s 415us/sample - loss: 0.6555 - acc: 0.5779 - precision: 0.0000e+00 - recall: 0.0000e+00\n",
      "Epoch 4/128\n",
      "1443328/1443437 [============================>.] - ETA: 0s - loss: 0.6550 - acc: 0.5779 - precision: 1.0000 - recall: 3.2832e-06\n",
      "Epoch 00004: loss improved from 0.65550 to 0.65504, saving model to E:\\full_data\\keras_embedding_RNN_model.h5\n",
      "1443437/1443437 [==============================] - 599s 415us/sample - loss: 0.6550 - acc: 0.5779 - precision: 1.0000 - recall: 3.2829e-06\n",
      "Epoch 5/128\n",
      "1443328/1443437 [============================>.] - ETA: 0s - loss: 0.6549 - acc: 0.5779 - precision: 1.0000 - recall: 3.2832e-06\n",
      "Epoch 00005: loss improved from 0.65504 to 0.65494, saving model to E:\\full_data\\keras_embedding_RNN_model.h5\n",
      "1443437/1443437 [==============================] - 598s 414us/sample - loss: 0.6549 - acc: 0.5779 - precision: 1.0000 - recall: 3.2829e-06\n",
      "Epoch 6/128\n",
      "1443328/1443437 [============================>.] - ETA: 0s - loss: 0.6548 - acc: 0.5779 - precision: 1.0000 - recall: 1.6416e-06\n",
      "Epoch 00006: loss improved from 0.65494 to 0.65484, saving model to E:\\full_data\\keras_embedding_RNN_model.h5\n",
      "1443437/1443437 [==============================] - 593s 411us/sample - loss: 0.6548 - acc: 0.5779 - precision: 1.0000 - recall: 1.6415e-06\n",
      "Epoch 7/128\n",
      "1443328/1443437 [============================>.] - ETA: 0s - loss: 0.6209 - acc: 0.6280 - precision: 0.8835 - recall: 0.1367\n",
      "Epoch 00007: loss improved from 0.65484 to 0.62088, saving model to E:\\full_data\\keras_embedding_RNN_model.h5\n",
      "1443437/1443437 [==============================] - 597s 414us/sample - loss: 0.6209 - acc: 0.6280 - precision: 0.8835 - recall: 0.1367\n",
      "Epoch 8/128\n",
      "1443328/1443437 [============================>.] - ETA: 0s - loss: 0.5725 - acc: 0.6935 - precision: 0.9000 - recall: 0.3079\n",
      "Epoch 00008: loss improved from 0.62088 to 0.57255, saving model to E:\\full_data\\keras_embedding_RNN_model.h5\n",
      "1443437/1443437 [==============================] - 599s 415us/sample - loss: 0.5726 - acc: 0.6935 - precision: 0.9000 - recall: 0.3079\n",
      "Epoch 9/128\n",
      "1443328/1443437 [============================>.] - ETA: 0s - loss: 0.5438 - acc: 0.7072 - precision: 0.8813 - recall: 0.3539\n",
      "Epoch 00009: loss improved from 0.57255 to 0.54373, saving model to E:\\full_data\\keras_embedding_RNN_model.h5\n",
      "1443437/1443437 [==============================] - 599s 415us/sample - loss: 0.5437 - acc: 0.7072 - precision: 0.8813 - recall: 0.3540\n",
      "Epoch 10/128\n",
      "1443328/1443437 [============================>.] - ETA: 0s - loss: 0.5351 - acc: 0.6935 - precision: 0.7017 - recall: 0.4762\n",
      "Epoch 00010: loss improved from 0.54373 to 0.53508, saving model to E:\\full_data\\keras_embedding_RNN_model.h5\n",
      "1443437/1443437 [==============================] - 599s 415us/sample - loss: 0.5351 - acc: 0.6935 - precision: 0.7017 - recall: 0.4762\n",
      "Epoch 11/128\n",
      "1443328/1443437 [============================>.] - ETA: 0s - loss: 0.6552 - acc: 0.5779 - precision: 0.5000 - recall: 1.6416e-06\n",
      "Epoch 00011: loss did not improve from 0.53508\n",
      "1443437/1443437 [==============================] - 600s 416us/sample - loss: 0.6552 - acc: 0.5779 - precision: 0.5000 - recall: 1.6415e-06\n",
      "Epoch 12/128\n",
      "1443328/1443437 [============================>.] - ETA: 0s - loss: 0.6549 - acc: 0.5779 - precision: 0.0000e+00 - recall: 0.0000e+00\n",
      "Epoch 00012: loss did not improve from 0.53508\n",
      "1443437/1443437 [==============================] - 597s 413us/sample - loss: 0.6549 - acc: 0.5779 - precision: 0.0000e+00 - recall: 0.0000e+00\n",
      "Epoch 13/128\n",
      "1443328/1443437 [============================>.] - ETA: 0s - loss: 0.6549 - acc: 0.5779 - precision: 0.0000e+00 - recall: 0.0000e+00\n",
      "Epoch 00013: loss did not improve from 0.53508\n",
      "1443437/1443437 [==============================] - 601s 416us/sample - loss: 0.6549 - acc: 0.5779 - precision: 0.0000e+00 - recall: 0.0000e+00\n",
      "Epoch 14/128\n",
      "1443328/1443437 [============================>.] - ETA: 0s - loss: 0.6548 - acc: 0.5780 - precision: 0.7368 - recall: 6.8946e-05\n",
      "Epoch 00014: loss did not improve from 0.53508\n",
      "1443437/1443437 [==============================] - 600s 416us/sample - loss: 0.6548 - acc: 0.5780 - precision: 0.7368 - recall: 6.8942e-05\n"
     ]
    },
    {
     "data": {
      "text/plain": [
       "<tensorflow.python.keras.callbacks.History at 0x1901b605148>"
      ]
     },
     "execution_count": 4,
     "metadata": {},
     "output_type": "execute_result"
    }
   ],
   "source": [
    "data = pd.read_pickle(\"E:/full_data/from_2018_8_to_2019_1.pkl\")\n",
    "X, y = extract(data)\n",
    "X = preprocessing_payload(X)\n",
    "y = np.asarray(y, dtype=np.float32)\n",
    "model = RedRNN()\n",
    "model.compile(loss='binary_crossentropy', optimizer='adam', metrics=['acc', Precision(), Recall()])\n",
    "ear = EarlyStopping(monitor='loss', patience=4)\n",
    "ckpt = ModelCheckpoint(filepath=r\"E:\\full_data\\keras_embedding_RNN_model.h5\", monitor='loss',\n",
    "                       verbose=1, save_best_only=True)\n",
    "model.fit(\n",
    "    {\n",
    "        'now_pay': X,\n",
    "    }, y,\n",
    "    epochs=128, batch_size=256,\n",
    "    verbose=1, callbacks=[ear, ckpt],\n",
    ")"
   ]
  },
  {
   "cell_type": "code",
   "execution_count": null,
   "metadata": {},
   "outputs": [],
   "source": []
  }
 ],
 "metadata": {
  "kernelspec": {
   "display_name": "Python 3",
   "language": "python",
   "name": "python3"
  },
  "language_info": {
   "codemirror_mode": {
    "name": "ipython",
    "version": 3
   },
   "file_extension": ".py",
   "mimetype": "text/x-python",
   "name": "python",
   "nbconvert_exporter": "python",
   "pygments_lexer": "ipython3",
   "version": "3.7.6"
  }
 },
 "nbformat": 4,
 "nbformat_minor": 4
}
