{
 "cells": [
  {
   "cell_type": "code",
   "execution_count": 1,
   "metadata": {},
   "outputs": [],
   "source": [
    "import pickle\n",
    "\n",
    "from tensorflow.keras.models import Model\n",
    "from tensorflow.keras.layers import Dense, Embedding, Conv1D, GlobalAveragePooling1D, Input, Activation, \\\n",
    "    BatchNormalization, MaxPooling1D, concatenate, LSTM\n",
    "\n",
    "from tqdm.notebook import tqdm\n",
    "from tensorflow.keras.preprocessing.sequence import pad_sequences\n",
    "import numpy as np\n",
    "import pandas as pd\n",
    "from tensorflow.keras.metrics import Precision\n",
    "from tensorflow.keras.metrics import Recall\n",
    "from tensorflow.keras.utils import multi_gpu_model\n",
    "from tensorflow.keras.callbacks import EarlyStopping, ModelCheckpoint\n",
    "import tensorflow as tf\n",
    "\n",
    "\n",
    "\n",
    "def RedRNN(max_len=1600):\n",
    "    now_pay_input_layer = Input((max_len, 257), name='now_pay')\n",
    "    #embedding_layer = Embedding(257, embedding_size)(now_pay_input_layer)\n",
    "    \n",
    "    x = LSTM(32)(now_pay_input_layer)\n",
    "    output_layer = Dense(1, activation='sigmoid')(x)\n",
    "    \n",
    "    return Model(inputs=[now_pay_input_layer], outputs=output_layer)"
   ]
  },
  {
   "cell_type": "code",
   "execution_count": 2,
   "metadata": {},
   "outputs": [],
   "source": [
    "from tqdm.notebook import tqdm\n",
    "from tensorflow.keras.preprocessing.sequence import pad_sequences\n",
    "from tensorflow.keras.utils import to_categorical\n",
    "\n",
    "def preprocessing_payload(payloads, max_len=1600):\n",
    "    tmp = []\n",
    "    for payload in payloads:\n",
    "        byte_payload = []\n",
    "        for i in range(0, len(payload), 2):\n",
    "            byte_payload.append(int(payload[i:i + 2], 16))\n",
    "        tmp.append(byte_payload)\n",
    "    tmp = pad_sequences(tmp, maxlen=max_len, padding='post', truncating='post', value=256)\n",
    "\n",
    "    return to_categorical(tmp)"
   ]
  },
  {
   "cell_type": "code",
   "execution_count": 3,
   "metadata": {},
   "outputs": [],
   "source": [
    "def extract(data):\n",
    "    temp_payload = []\n",
    "    temp_y = []\n",
    "    for value in data.values():\n",
    "        for j in range(len(value)):\n",
    "            temp_payload.append(value[j][0])\n",
    "            temp_y.append(2 - value[j][1])\n",
    "    return temp_payload, temp_y"
   ]
  },
  {
   "cell_type": "code",
   "execution_count": 4,
   "metadata": {},
   "outputs": [],
   "source": [
    "def myGenerator():\n",
    "    data = pd.read_pickle(\"E:/full_data/from_2018_8_to_2019_1.pkl\")\n",
    "    X, y = extract(data)\n",
    "    y = np.asarray(y, dtype=np.float32)\n",
    "    length = len(X)\n",
    "    bs = length//1000\n",
    "    while 1:\n",
    "        for i in range(1001): # 1443 * 1000 + remain[437] = 1,443,437 -> # of training samples\n",
    "            tmp_X = preprocessing_payload(X[i*bs:(i+1)*bs])\n",
    "            yield tmp_X, y[i*bs:(i+1)*bs]"
   ]
  },
  {
   "cell_type": "code",
   "execution_count": 5,
   "metadata": {},
   "outputs": [],
   "source": [
    "def evaluateGenerator():\n",
    "    data = pd.read_pickle(\"E:/full_data/from_2019_2_to_2019_3.pkl\")\n",
    "    X, y = extract(data)\n",
    "    y = np.asarray(y, dtype=np.float32)\n",
    "    length = len(X)\n",
    "    bs = length//1000\n",
    "    while 1:\n",
    "        for i in range(1001): # 723 * 1000 + remain[320] = 723,320 -> # of evaluate samples\n",
    "            tmp_X = preprocessing_payload(X[i*bs:(i+1)*bs])\n",
    "            yield tmp_X, y[i*bs:(i+1)*bs]"
   ]
  },
  {
   "cell_type": "code",
   "execution_count": 6,
   "metadata": {},
   "outputs": [],
   "source": [
    "model = RedRNN()\n",
    "\n",
    "model.compile(loss='binary_crossentropy', optimizer='adam', metrics=['acc', Precision(), Recall()])\n",
    "\n",
    "ear = EarlyStopping(monitor='loss', patience=4)\n",
    "ckpt = ModelCheckpoint(filepath=r\"E:\\full_data\\RNN_exp.h5\", monitor='loss',\n",
    "                       verbose=1, save_best_only=True)"
   ]
  },
  {
   "cell_type": "code",
   "execution_count": 9,
   "metadata": {},
   "outputs": [
    {
     "name": "stdout",
     "output_type": "stream",
     "text": [
      "WARNING:tensorflow:From <ipython-input-9-09e96532823a>:1: Model.fit_generator (from tensorflow.python.keras.engine.training) is deprecated and will be removed in a future version.\n",
      "Instructions for updating:\n",
      "Please use Model.fit, which supports generators.\n",
      "WARNING:tensorflow:sample_weight modes were coerced from\n",
      "  ...\n",
      "    to  \n",
      "  ['...']\n",
      "Train for 1001 steps\n",
      "Epoch 1/16\n",
      "1000/1001 [============================>.] - ETA: 1s - loss: 0.6845 - acc: 0.6286 - precision: 0.5675 - recall: 0.5037\n",
      "Epoch 00001: loss improved from inf to 0.68458, saving model to E:\\full_data\\RNN_exp.h5\n",
      "1001/1001 [==============================] - 1170s 1s/step - loss: 0.6847 - acc: 0.6285 - precision: 0.5675 - recall: 0.5035\n",
      "Epoch 2/16\n",
      "1000/1001 [============================>.] - ETA: 1s - loss: 0.6786 - acc: 0.5941 - precision: 0.5252 - recall: 0.3974\n",
      "Epoch 00002: loss improved from 0.68458 to 0.67867, saving model to E:\\full_data\\RNN_exp.h5\n",
      "1001/1001 [==============================] - 1177s 1s/step - loss: 0.6788 - acc: 0.5940 - precision: 0.5252 - recall: 0.3973\n",
      "Epoch 3/16\n",
      "1000/1001 [============================>.] - ETA: 1s - loss: 0.6697 - acc: 0.6110 - precision: 0.5621 - recall: 0.3538\n",
      "Epoch 00003: loss improved from 0.67867 to 0.66975, saving model to E:\\full_data\\RNN_exp.h5\n",
      "1001/1001 [==============================] - 1178s 1s/step - loss: 0.6699 - acc: 0.6109 - precision: 0.5621 - recall: 0.3537\n",
      "Epoch 4/16\n",
      "1000/1001 [============================>.] - ETA: 1s - loss: 0.6775 - acc: 0.5805 - precision: 0.5036 - recall: 0.4178\n",
      "Epoch 00004: loss did not improve from 0.66975\n",
      "1001/1001 [==============================] - 1179s 1s/step - loss: 0.6776 - acc: 0.5805 - precision: 0.5036 - recall: 0.4177\n",
      "Epoch 5/16\n",
      "1000/1001 [============================>.] - ETA: 1s - loss: 0.6574 - acc: 0.6096 - precision: 0.5426 - recall: 0.4769\n",
      "Epoch 00005: loss improved from 0.66975 to 0.65740, saving model to E:\\full_data\\RNN_exp.h5\n",
      "1001/1001 [==============================] - 1183s 1s/step - loss: 0.6575 - acc: 0.6096 - precision: 0.5426 - recall: 0.4767\n",
      "Epoch 6/16\n",
      "1000/1001 [============================>.] - ETA: 1s - loss: 0.6846 - acc: 0.6106 - precision: 0.5573 - recall: 0.3755\n",
      "Epoch 00006: loss did not improve from 0.65740\n",
      "1001/1001 [==============================] - 1179s 1s/step - loss: 0.6848 - acc: 0.6105 - precision: 0.5573 - recall: 0.3754\n",
      "Epoch 7/16\n",
      "1000/1001 [============================>.] - ETA: 1s - loss: 0.6824 - acc: 0.6153 - precision: 0.5774 - recall: 0.3297\n",
      "Epoch 00007: loss did not improve from 0.65740\n",
      "1001/1001 [==============================] - 1181s 1s/step - loss: 0.6826 - acc: 0.6152 - precision: 0.5774 - recall: 0.3296\n",
      "Epoch 8/16\n",
      "1000/1001 [============================>.] - ETA: 1s - loss: 0.6836 - acc: 0.6121 - precision: 0.5804 - recall: 0.2920\n",
      "Epoch 00008: loss did not improve from 0.65740\n",
      "1001/1001 [==============================] - 1171s 1s/step - loss: 0.6837 - acc: 0.6121 - precision: 0.5804 - recall: 0.2919\n",
      "Epoch 9/16\n",
      "1000/1001 [============================>.] - ETA: 1s - loss: 0.6903 - acc: 0.5913 - precision: 0.5266 - recall: 0.3132\n",
      "Epoch 00009: loss did not improve from 0.65740\n",
      "1001/1001 [==============================] - 1150s 1s/step - loss: 0.6904 - acc: 0.5913 - precision: 0.5266 - recall: 0.3130\n"
     ]
    },
    {
     "data": {
      "text/plain": [
       "<tensorflow.python.keras.callbacks.History at 0x28ecacef6c8>"
      ]
     },
     "execution_count": 9,
     "metadata": {},
     "output_type": "execute_result"
    }
   ],
   "source": [
    "model.fit_generator(myGenerator(), steps_per_epoch=1001, epochs = 16, verbose=1, callbacks=[ear, ckpt], validation_data=None, class_weight=None, workers=1, shuffle=False)"
   ]
  },
  {
   "cell_type": "code",
   "execution_count": 5,
   "metadata": {
    "scrolled": true
   },
   "outputs": [
    {
     "name": "stdout",
     "output_type": "stream",
     "text": [
      "Model: \"model\"\n",
      "_________________________________________________________________\n",
      "Layer (type)                 Output Shape              Param #   \n",
      "=================================================================\n",
      "now_pay (InputLayer)         [(None, 1600, 257)]       0         \n",
      "_________________________________________________________________\n",
      "lstm (LSTM)                  (None, 32)                37120     \n",
      "_________________________________________________________________\n",
      "dense (Dense)                (None, 1)                 33        \n",
      "=================================================================\n",
      "Total params: 37,153\n",
      "Trainable params: 37,153\n",
      "Non-trainable params: 0\n",
      "_________________________________________________________________\n"
     ]
    }
   ],
   "source": [
    "model.summary()"
   ]
  },
  {
   "cell_type": "code",
   "execution_count": null,
   "metadata": {},
   "outputs": [],
   "source": []
  }
 ],
 "metadata": {
  "kernelspec": {
   "display_name": "Python 3",
   "language": "python",
   "name": "python3"
  },
  "language_info": {
   "codemirror_mode": {
    "name": "ipython",
    "version": 3
   },
   "file_extension": ".py",
   "mimetype": "text/x-python",
   "name": "python",
   "nbconvert_exporter": "python",
   "pygments_lexer": "ipython3",
   "version": "3.7.6"
  }
 },
 "nbformat": 4,
 "nbformat_minor": 4
}
