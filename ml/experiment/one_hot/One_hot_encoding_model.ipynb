{
 "cells": [
  {
   "cell_type": "code",
   "execution_count": 1,
   "metadata": {},
   "outputs": [],
   "source": [
    "import pickle\n",
    "\n",
    "from tensorflow.keras.models import Model\n",
    "from tensorflow.keras.layers import Dense, Embedding, Conv1D, GlobalAveragePooling1D, Input, Activation, \\\n",
    "    BatchNormalization, MaxPooling1D, concatenate\n",
    "\n",
    "from tqdm.notebook import tqdm\n",
    "from tensorflow.keras.preprocessing.sequence import pad_sequences\n",
    "import numpy as np\n",
    "import pandas as pd\n",
    "from tensorflow.keras.metrics import Precision\n",
    "from tensorflow.keras.metrics import Recall\n",
    "from tensorflow.keras.utils import multi_gpu_model\n",
    "from tensorflow.keras.callbacks import EarlyStopping, ModelCheckpoint\n",
    "import tensorflow as tf\n",
    "\n",
    "\n",
    "\n",
    "def RedDNN(max_len=1600):\n",
    "    now_pay_input_layer = Input((max_len, 257), name='now_pay')\n",
    "    #embedding_layer = Embedding(257, embedding_size)(now_pay_input_layer)\n",
    "    x = Conv1D(32, 3)(now_pay_input_layer)\n",
    "    x = BatchNormalization()(x)\n",
    "    x = Activation('relu')(x)\n",
    "    x = Conv1D(32, 3)(x)\n",
    "    x = BatchNormalization()(x)\n",
    "    x = Activation('relu')(x)\n",
    "    x = GlobalAveragePooling1D()(x)\n",
    "    x = Dense(16)(x)\n",
    "    x = BatchNormalization()(x)\n",
    "    x = Activation('relu')(x)\n",
    "    \n",
    "\n",
    "    output_layer = Dense(1, activation='sigmoid')(x)\n",
    "    return Model(inputs=[now_pay_input_layer], outputs=output_layer)"
   ]
  },
  {
   "cell_type": "code",
   "execution_count": 2,
   "metadata": {},
   "outputs": [],
   "source": [
    "from tqdm.notebook import tqdm\n",
    "from tensorflow.keras.preprocessing.sequence import pad_sequences\n",
    "from tensorflow.keras.utils import to_categorical\n",
    "\n",
    "def preprocessing_payload(payloads, max_len=1600):\n",
    "    tmp = []\n",
    "    for payload in payloads:\n",
    "        byte_payload = []\n",
    "        for i in range(0, len(payload), 2):\n",
    "            byte_payload.append(int(payload[i:i + 2], 16))\n",
    "        tmp.append(byte_payload)\n",
    "    tmp = pad_sequences(tmp, maxlen=max_len, padding='post', truncating='post', value=256)\n",
    "\n",
    "    return to_categorical(tmp)"
   ]
  },
  {
   "cell_type": "code",
   "execution_count": 3,
   "metadata": {},
   "outputs": [],
   "source": [
    "def extract(data):\n",
    "    temp_payload = []\n",
    "    temp_y = []\n",
    "    for value in data.values():\n",
    "        for j in range(len(value)):\n",
    "            temp_payload.append(value[j][0])\n",
    "            temp_y.append(2 - value[j][1])\n",
    "    return temp_payload, temp_y"
   ]
  },
  {
   "cell_type": "code",
   "execution_count": 4,
   "metadata": {},
   "outputs": [],
   "source": [
    "def myGenerator():\n",
    "    data = pd.read_pickle(\"E:/full_data/from_2018_8_to_2019_1.pkl\")\n",
    "    X, y = extract(data)\n",
    "    y = np.asarray(y, dtype=np.float32)\n",
    "    length = len(X)\n",
    "    bs = length//1000\n",
    "    while 1:\n",
    "        for i in range(1001): # 1443 * 1000 + remain[437] = 1,443,437 -> # of training samples\n",
    "            tmp_X = preprocessing_payload(X[i*bs:(i+1)*bs])\n",
    "            yield tmp_X, y[i*bs:(i+1)*bs]"
   ]
  },
  {
   "cell_type": "code",
   "execution_count": 13,
   "metadata": {},
   "outputs": [],
   "source": [
    "def evaluateGenerator():\n",
    "    data = pd.read_pickle(\"E:/full_data/from_2019_2_to_2019_3.pkl\")\n",
    "    X, y = extract(data)\n",
    "    y = np.asarray(y, dtype=np.float32)\n",
    "    length = len(X)\n",
    "    bs = length//1000\n",
    "    while 1:\n",
    "        for i in range(1001): # 723 * 1000 + remain[320] = 723,320 -> # of evaluate samples\n",
    "            tmp_X = preprocessing_payload(X[i*bs:(i+1)*bs])\n",
    "            yield tmp_X, y[i*bs:(i+1)*bs]"
   ]
  },
  {
   "cell_type": "code",
   "execution_count": 5,
   "metadata": {},
   "outputs": [],
   "source": [
    "model = RedDNN()"
   ]
  },
  {
   "cell_type": "code",
   "execution_count": 7,
   "metadata": {},
   "outputs": [],
   "source": [
    "ear = EarlyStopping(monitor='loss', patience=4)\n",
    "ckpt = ModelCheckpoint(filepath=r\"E:\\full_data\\now_one_hot_payload.h5\", monitor='loss',\n",
    "                       verbose=1, save_best_only=True)"
   ]
  },
  {
   "cell_type": "code",
   "execution_count": null,
   "metadata": {},
   "outputs": [],
   "source": []
  },
  {
   "cell_type": "code",
   "execution_count": 8,
   "metadata": {},
   "outputs": [
    {
     "name": "stdout",
     "output_type": "stream",
     "text": [
      "WARNING:tensorflow:From <ipython-input-8-09e96532823a>:1: Model.fit_generator (from tensorflow.python.keras.engine.training) is deprecated and will be removed in a future version.\n",
      "Instructions for updating:\n",
      "Please use Model.fit, which supports generators.\n",
      "WARNING:tensorflow:sample_weight modes were coerced from\n",
      "  ...\n",
      "    to  \n",
      "  ['...']\n",
      "Train for 1001 steps\n",
      "Epoch 1/16\n",
      "1000/1001 [============================>.] - ETA: 1s - loss: 0.5837 - acc: 0.7190 - precision: 0.7188 - recall: 0.5489\n",
      "Epoch 00001: loss improved from inf to 0.58380, saving model to E:\\full_data\\now_no_embedding_only_payload.h5\n",
      "1001/1001 [==============================] - 1163s 1s/step - loss: 0.5839 - acc: 0.7189 - precision: 0.7188 - recall: 0.5487\n",
      "Epoch 2/16\n",
      "1000/1001 [============================>.] - ETA: 1s - loss: 0.4838 - acc: 0.8057 - precision: 0.8503 - recall: 0.6549\n",
      "Epoch 00002: loss improved from 0.58380 to 0.48393, saving model to E:\\full_data\\now_no_embedding_only_payload.h5\n",
      "1001/1001 [==============================] - 1206s 1s/step - loss: 0.4841 - acc: 0.8056 - precision: 0.8503 - recall: 0.6546\n",
      "Epoch 3/16\n",
      "1000/1001 [============================>.] - ETA: 1s - loss: 0.4179 - acc: 0.8296 - precision: 0.8498 - recall: 0.7242\n",
      "Epoch 00003: loss improved from 0.48393 to 0.41794, saving model to E:\\full_data\\now_no_embedding_only_payload.h5\n",
      "1001/1001 [==============================] - 1198s 1s/step - loss: 0.4180 - acc: 0.8295 - precision: 0.8498 - recall: 0.7239\n",
      "Epoch 4/16\n",
      "1000/1001 [============================>.] - ETA: 1s - loss: 0.3138 - acc: 0.8932 - precision: 0.9100 - recall: 0.8290\n",
      "Epoch 00004: loss improved from 0.41794 to 0.31389, saving model to E:\\full_data\\now_no_embedding_only_payload.h5\n",
      "1001/1001 [==============================] - 1198s 1s/step - loss: 0.3140 - acc: 0.8931 - precision: 0.9100 - recall: 0.8287\n",
      "Epoch 5/16\n",
      "1000/1001 [============================>.] - ETA: 1s - loss: 0.2642 - acc: 0.9132 - precision: 0.9073 - recall: 0.8847\n",
      "Epoch 00005: loss improved from 0.31389 to 0.26424, saving model to E:\\full_data\\now_no_embedding_only_payload.h5\n",
      "1001/1001 [==============================] - 1199s 1s/step - loss: 0.2643 - acc: 0.9132 - precision: 0.9074 - recall: 0.8847\n",
      "Epoch 6/16\n",
      "1000/1001 [============================>.] - ETA: 1s - loss: 0.2699 - acc: 0.9117 - precision: 0.9002 - recall: 0.8893\n",
      "Epoch 00006: loss did not improve from 0.26424\n",
      "1001/1001 [==============================] - 1193s 1s/step - loss: 0.2699 - acc: 0.9117 - precision: 0.9002 - recall: 0.8894\n",
      "Epoch 7/16\n",
      "1000/1001 [============================>.] - ETA: 1s - loss: 0.2099 - acc: 0.9328 - precision: 0.9236 - recall: 0.9165\n",
      "Epoch 00007: loss improved from 0.26424 to 0.20992, saving model to E:\\full_data\\now_no_embedding_only_payload.h5\n",
      "1001/1001 [==============================] - 1198s 1s/step - loss: 0.2100 - acc: 0.9328 - precision: 0.9237 - recall: 0.9165\n",
      "Epoch 8/16\n",
      "1000/1001 [============================>.] - ETA: 1s - loss: 0.1915 - acc: 0.9409 - precision: 0.9299 - recall: 0.9301\n",
      "Epoch 00008: loss improved from 0.20992 to 0.19148, saving model to E:\\full_data\\now_no_embedding_only_payload.h5\n",
      "1001/1001 [==============================] - 1195s 1s/step - loss: 0.1915 - acc: 0.9409 - precision: 0.9300 - recall: 0.9301\n",
      "Epoch 9/16\n",
      "1000/1001 [============================>.] - ETA: 1s - loss: 0.1822 - acc: 0.9518 - precision: 0.9358 - recall: 0.9510\n",
      "Epoch 00009: loss improved from 0.19148 to 0.18221, saving model to E:\\full_data\\now_no_embedding_only_payload.h5\n",
      "1001/1001 [==============================] - 1198s 1s/step - loss: 0.1823 - acc: 0.9518 - precision: 0.9359 - recall: 0.9510\n",
      "Epoch 10/16\n",
      "1000/1001 [============================>.] - ETA: 1s - loss: 0.1556 - acc: 0.9570 - precision: 0.9508 - recall: 0.9470\n",
      "Epoch 00010: loss improved from 0.18221 to 0.15555, saving model to E:\\full_data\\now_no_embedding_only_payload.h5\n",
      "1001/1001 [==============================] - 1199s 1s/step - loss: 0.1555 - acc: 0.9570 - precision: 0.9508 - recall: 0.9470\n",
      "Epoch 11/16\n",
      "1000/1001 [============================>.] - ETA: 1s - loss: 0.1396 - acc: 0.9602 - precision: 0.9456 - recall: 0.9608\n",
      "Epoch 00011: loss improved from 0.15555 to 0.13959, saving model to E:\\full_data\\now_no_embedding_only_payload.h5\n",
      "1001/1001 [==============================] - 1197s 1s/step - loss: 0.1396 - acc: 0.9602 - precision: 0.9457 - recall: 0.9608\n",
      "Epoch 12/16\n",
      "1000/1001 [============================>.] - ETA: 1s - loss: 0.1263 - acc: 0.9679 - precision: 0.9564 - recall: 0.9681\n",
      "Epoch 00012: loss improved from 0.13959 to 0.12626, saving model to E:\\full_data\\now_no_embedding_only_payload.h5\n",
      "1001/1001 [==============================] - 1192s 1s/step - loss: 0.1262 - acc: 0.9679 - precision: 0.9564 - recall: 0.9681\n",
      "Epoch 13/16\n",
      "1000/1001 [============================>.] - ETA: 1s - loss: 0.1065 - acc: 0.9719 - precision: 0.9576 - recall: 0.9767\n",
      "Epoch 00013: loss improved from 0.12626 to 0.10649, saving model to E:\\full_data\\now_no_embedding_only_payload.h5\n",
      "1001/1001 [==============================] - 1195s 1s/step - loss: 0.1065 - acc: 0.9719 - precision: 0.9576 - recall: 0.9767\n",
      "Epoch 14/16\n",
      "1000/1001 [============================>.] - ETA: 1s - loss: 0.1352 - acc: 0.9583 - precision: 0.9525 - recall: 0.9485\n",
      "Epoch 00014: loss did not improve from 0.10649\n",
      "1001/1001 [==============================] - 1195s 1s/step - loss: 0.1351 - acc: 0.9583 - precision: 0.9526 - recall: 0.9485\n",
      "Epoch 15/16\n",
      "1000/1001 [============================>.] - ETA: 1s - loss: 0.1027 - acc: 0.9753 - precision: 0.9646 - recall: 0.9773\n",
      "Epoch 00015: loss improved from 0.10649 to 0.10270, saving model to E:\\full_data\\now_no_embedding_only_payload.h5\n",
      "1001/1001 [==============================] - 1197s 1s/step - loss: 0.1027 - acc: 0.9753 - precision: 0.9646 - recall: 0.9773\n",
      "Epoch 16/16\n",
      "1000/1001 [============================>.] - ETA: 1s - loss: 0.1051 - acc: 0.9740 - precision: 0.9607 - recall: 0.9785\n",
      "Epoch 00016: loss did not improve from 0.10270\n",
      "1001/1001 [==============================] - 1199s 1s/step - loss: 0.1050 - acc: 0.9740 - precision: 0.9608 - recall: 0.9785\n"
     ]
    },
    {
     "data": {
      "text/plain": [
       "<tensorflow.python.keras.callbacks.History at 0x27f16b0e6c8>"
      ]
     },
     "execution_count": 8,
     "metadata": {},
     "output_type": "execute_result"
    }
   ],
   "source": [
    "model.fit_generator(myGenerator(), steps_per_epoch=1001, epochs = 16, verbose=1, callbacks=[ear, ckpt], validation_data=None, class_weight=None, workers=1, shuffle=False)"
   ]
  },
  {
   "cell_type": "code",
   "execution_count": 14,
   "metadata": {},
   "outputs": [
    {
     "name": "stdout",
     "output_type": "stream",
     "text": [
      "WARNING:tensorflow:From <ipython-input-14-6fef785f232d>:1: Model.evaluate_generator (from tensorflow.python.keras.engine.training) is deprecated and will be removed in a future version.\n",
      "Instructions for updating:\n",
      "Please use Model.evaluate, which supports generators.\n",
      "WARNING:tensorflow:sample_weight modes were coerced from\n",
      "  ...\n",
      "    to  \n",
      "  ['...']\n"
     ]
    },
    {
     "data": {
      "text/plain": [
       "[0.05492297212275754, 0.98312086, 0.9973903, 0.8262041]"
      ]
     },
     "execution_count": 14,
     "metadata": {},
     "output_type": "execute_result"
    }
   ],
   "source": [
    "model.evaluate_generator(evaluateGenerator(), steps=1001)"
   ]
  },
  {
   "cell_type": "code",
   "execution_count": null,
   "metadata": {},
   "outputs": [],
   "source": []
  }
 ],
 "metadata": {
  "kernelspec": {
   "display_name": "Python 3",
   "language": "python",
   "name": "python3"
  },
  "language_info": {
   "codemirror_mode": {
    "name": "ipython",
    "version": 3
   },
   "file_extension": ".py",
   "mimetype": "text/x-python",
   "name": "python",
   "nbconvert_exporter": "python",
   "pygments_lexer": "ipython3",
   "version": "3.7.5"
  }
 },
 "nbformat": 4,
 "nbformat_minor": 4
}
