{
 "cells": [
  {
   "cell_type": "markdown",
   "metadata": {},
   "source": [
    "# Parsed payload 분석"
   ]
  },
  {
   "cell_type": "markdown",
   "metadata": {},
   "source": [
    "# import"
   ]
  },
  {
   "cell_type": "code",
   "execution_count": 118,
   "metadata": {},
   "outputs": [],
   "source": [
    "import pandas as pd\n",
    "import glob\n",
    "from tqdm.notebook import tqdm"
   ]
  },
  {
   "cell_type": "markdown",
   "metadata": {},
   "source": [
    "# convert Func"
   ]
  },
  {
   "cell_type": "code",
   "execution_count": 98,
   "metadata": {},
   "outputs": [],
   "source": [
    "def concat_mac_to_int(x):\n",
    "    return int(\"\".join(x.split(\":\")), 16)\n",
    "\n",
    "\n",
    "def hex_to_int(x):\n",
    "    return int(x, 16)\n",
    "\n",
    "\n",
    "def ipv4_to_int(x):\n",
    "    x = [int(each) for each in x.split(\".\")]\n",
    "    out = 1\n",
    "    for t_x in x:\n",
    "        out *= t_x\n",
    "    return out"
   ]
  },
  {
   "cell_type": "markdown",
   "metadata": {},
   "source": [
    "# dataLoad"
   ]
  },
  {
   "cell_type": "code",
   "execution_count": 19,
   "metadata": {},
   "outputs": [],
   "source": [
    "pd.set_option('display.max_columns', 50)"
   ]
  },
  {
   "cell_type": "code",
   "execution_count": 4,
   "metadata": {},
   "outputs": [],
   "source": [
    "train_df = pd.read_pickle(\"E:/full_data/data/protocols/network/HH/all_train_df.pkl\")\n",
    "test_df = pd.read_pickle(\"E:/full_data/data/protocols/network/HH/all_test_df.pkl\")"
   ]
  },
  {
   "cell_type": "markdown",
   "metadata": {},
   "source": [
    "# preprocess"
   ]
  },
  {
   "cell_type": "code",
   "execution_count": 6,
   "metadata": {},
   "outputs": [],
   "source": [
    "temptcp = {'Source port': 37748,\n",
    " 'Destination port': 80,\n",
    " 'Sequence number': '0x91d90ca8',\n",
    " 'Acknowledgment number': '0x4ba54335',\n",
    " 'Data offset': 8,\n",
    " 'Reserved': 0,\n",
    " 'Flags': {'NS': 0,\n",
    "  'CWR': 0,\n",
    "  'ECE ': 0,\n",
    "  'URG': 0,\n",
    "  'ACK': 1,\n",
    "  'PSH': 1,\n",
    "  'RST': 0,\n",
    "  'SYN': 0,\n",
    "  'FIN': 0},\n",
    " 'Window size': 229,\n",
    " 'Checksum': '0x7799',\n",
    " 'Urgent pointer': 0}"
   ]
  },
  {
   "cell_type": "code",
   "execution_count": 8,
   "metadata": {},
   "outputs": [],
   "source": [
    "tcp_keys = list(temptcp.keys())"
   ]
  },
  {
   "cell_type": "code",
   "execution_count": 9,
   "metadata": {},
   "outputs": [],
   "source": [
    "def extract_tcp_info(df, tcp_keys):\n",
    "    tcp_data = {}\n",
    "    for idx in tqdm(df.index):\n",
    "        tcp = df[\"TCP\"][idx]\n",
    "        for key in tcp_keys:\n",
    "            if key not in tcp_data:\n",
    "                tcp_data[key] = []\n",
    "            tcp_data[key].append(tcp[key])\n",
    "    return tcp_data"
   ]
  },
  {
   "cell_type": "code",
   "execution_count": 10,
   "metadata": {},
   "outputs": [
    {
     "data": {
      "application/vnd.jupyter.widget-view+json": {
       "model_id": "737ae2e19d614759b39bf304a2932faa",
       "version_major": 2,
       "version_minor": 0
      },
      "text/plain": [
       "HBox(children=(FloatProgress(value=0.0, max=3354174.0), HTML(value='')))"
      ]
     },
     "metadata": {},
     "output_type": "display_data"
    },
    {
     "name": "stdout",
     "output_type": "stream",
     "text": [
      "\n"
     ]
    }
   ],
   "source": [
    "train_tcp = extract_tcp_info(train_df, tcp_keys)"
   ]
  },
  {
   "cell_type": "code",
   "execution_count": 11,
   "metadata": {},
   "outputs": [
    {
     "data": {
      "application/vnd.jupyter.widget-view+json": {
       "model_id": "76f05422a5c84a1581850fc36162048c",
       "version_major": 2,
       "version_minor": 0
      },
      "text/plain": [
       "HBox(children=(FloatProgress(value=0.0, max=1057931.0), HTML(value='')))"
      ]
     },
     "metadata": {},
     "output_type": "display_data"
    },
    {
     "name": "stdout",
     "output_type": "stream",
     "text": [
      "\n"
     ]
    }
   ],
   "source": [
    "test_tcp = extract_tcp_info(test_df, tcp_keys)"
   ]
  },
  {
   "cell_type": "code",
   "execution_count": 13,
   "metadata": {},
   "outputs": [],
   "source": [
    "train_idxs = list(train_df.index)\n",
    "train_tcp_df = pd.DataFrame(data=train_tcp, index=train_idxs)"
   ]
  },
  {
   "cell_type": "code",
   "execution_count": 15,
   "metadata": {},
   "outputs": [],
   "source": [
    "test_idxs = list(test_df.index)\n",
    "test_tcp_df = pd.DataFrame(data=test_tcp, index=test_idxs)"
   ]
  },
  {
   "cell_type": "code",
   "execution_count": 16,
   "metadata": {},
   "outputs": [],
   "source": [
    "train_df_with_tcp = pd.merge(train_df, train_tcp_df, left_index=True, right_index=True, how=\"outer\")"
   ]
  },
  {
   "cell_type": "code",
   "execution_count": 17,
   "metadata": {},
   "outputs": [],
   "source": [
    "test_df_with_tcp = pd.merge(test_df, test_tcp_df, left_index=True, right_index=True, how=\"outer\")"
   ]
  },
  {
   "cell_type": "code",
   "execution_count": 21,
   "metadata": {},
   "outputs": [],
   "source": [
    "del train_df_with_tcp['TCP']\n",
    "del test_df_with_tcp['TCP']"
   ]
  },
  {
   "cell_type": "code",
   "execution_count": 23,
   "metadata": {},
   "outputs": [],
   "source": [
    "train_dst_mac = train_df_with_tcp['Destination MAC Address']\n",
    "train_src_mac = train_df_with_tcp['Source MAC Address']"
   ]
  },
  {
   "cell_type": "code",
   "execution_count": 27,
   "metadata": {},
   "outputs": [],
   "source": [
    "test_dst_mac = test_df_with_tcp['Destination MAC Address']\n",
    "test_src_mac = test_df_with_tcp['Source MAC Address']"
   ]
  },
  {
   "cell_type": "code",
   "execution_count": 24,
   "metadata": {},
   "outputs": [],
   "source": [
    "macs = []\n",
    "for i in range(6):\n",
    "    macs.append(\"dst_mac_addr_\"+str(i))\n",
    "    macs.append(\"src_mac_addr_\"+str(i))"
   ]
  },
  {
   "cell_type": "code",
   "execution_count": 26,
   "metadata": {},
   "outputs": [],
   "source": [
    "concat_train_dst_mac = train_dst_mac.apply(concat_mac_to_int)\n",
    "concat_train_src_mac = train_src_mac.apply(concat_mac_to_int)"
   ]
  },
  {
   "cell_type": "code",
   "execution_count": 28,
   "metadata": {},
   "outputs": [],
   "source": [
    "concat_test_dst_mac = test_dst_mac.apply(concat_mac_to_int)\n",
    "concat_test_src_mac = test_src_mac.apply(concat_mac_to_int)"
   ]
  },
  {
   "cell_type": "code",
   "execution_count": 34,
   "metadata": {},
   "outputs": [],
   "source": [
    "train_df_with_tcp[\"Ether Type\"] = train_df_with_tcp[\"Ether Type\"].apply(hex_to_int)\n",
    "train_df_with_tcp[\"Header Checksum\"] = train_df_with_tcp[\"Header Checksum\"].apply(hex_to_int)\n",
    "train_df_with_tcp[\"Sequence number\"] = train_df_with_tcp[\"Sequence number\"].apply(hex_to_int)\n",
    "train_df_with_tcp[\"Acknowledgment number\"] = train_df_with_tcp[\"Acknowledgment number\"].apply(hex_to_int)\n",
    "train_df_with_tcp[\"Checksum\"] = train_df_with_tcp[\"Checksum\"].apply(hex_to_int)"
   ]
  },
  {
   "cell_type": "code",
   "execution_count": 35,
   "metadata": {},
   "outputs": [],
   "source": [
    "test_df_with_tcp[\"Ether Type\"] = test_df_with_tcp[\"Ether Type\"].apply(hex_to_int)\n",
    "test_df_with_tcp[\"Header Checksum\"] = test_df_with_tcp[\"Header Checksum\"].apply(hex_to_int)\n",
    "test_df_with_tcp[\"Sequence number\"] = test_df_with_tcp[\"Sequence number\"].apply(hex_to_int)\n",
    "test_df_with_tcp[\"Acknowledgment number\"] = test_df_with_tcp[\"Acknowledgment number\"].apply(hex_to_int)\n",
    "test_df_with_tcp[\"Checksum\"] = test_df_with_tcp[\"Checksum\"].apply(hex_to_int)"
   ]
  },
  {
   "cell_type": "code",
   "execution_count": 39,
   "metadata": {},
   "outputs": [
    {
     "data": {
      "application/vnd.jupyter.widget-view+json": {
       "model_id": "89b717adb040491986b1f8176f0351a7",
       "version_major": 2,
       "version_minor": 0
      },
      "text/plain": [
       "HBox(children=(FloatProgress(value=0.0, max=3354174.0), HTML(value='')))"
      ]
     },
     "metadata": {},
     "output_type": "display_data"
    },
    {
     "name": "stdout",
     "output_type": "stream",
     "text": [
      "\n"
     ]
    }
   ],
   "source": [
    "flags = []\n",
    "for _ in range(9):\n",
    "    flags.append([])\n",
    "    \n",
    "for idx in tqdm(train_idxs):\n",
    "    for i, v in enumerate(list(train_df_with_tcp[\"Flags_y\"][idx].values())):\n",
    "        flags[i].append(v)"
   ]
  },
  {
   "cell_type": "code",
   "execution_count": 41,
   "metadata": {},
   "outputs": [],
   "source": [
    "train_flags_df = pd.DataFrame(data={\n",
    "    \"flags0\":flags[0], \"flags0\":flags[0],\n",
    "    \"flags2\":flags[2], \"flags1\":flags[1],\n",
    "    \"flags4\":flags[4], \"flags3\":flags[3],\n",
    "    \"flags6\":flags[6], \"flags5\":flags[5],\n",
    "    \"flags8\":flags[8]    \n",
    "}, index=train_idxs)"
   ]
  },
  {
   "cell_type": "code",
   "execution_count": 42,
   "metadata": {},
   "outputs": [
    {
     "data": {
      "application/vnd.jupyter.widget-view+json": {
       "model_id": "de5db069021742ac803c29ab344baf01",
       "version_major": 2,
       "version_minor": 0
      },
      "text/plain": [
       "HBox(children=(FloatProgress(value=0.0, max=1057931.0), HTML(value='')))"
      ]
     },
     "metadata": {},
     "output_type": "display_data"
    },
    {
     "name": "stdout",
     "output_type": "stream",
     "text": [
      "\n"
     ]
    }
   ],
   "source": [
    "flags = []\n",
    "for _ in range(9):\n",
    "    flags.append([])\n",
    "\n",
    "for idx in tqdm(test_idxs):\n",
    "    for i, v in enumerate(list(test_df_with_tcp[\"Flags_y\"][idx].values())):\n",
    "        flags[i].append(v)\n",
    "        \n",
    "test_flags_df = pd.DataFrame(data={\n",
    "    \"flags0\":flags[0], \"flags0\":flags[0],\n",
    "    \"flags2\":flags[2], \"flags1\":flags[1],\n",
    "    \"flags4\":flags[4], \"flags3\":flags[3],\n",
    "    \"flags6\":flags[6], \"flags5\":flags[5],\n",
    "    \"flags8\":flags[8]    \n",
    "}, index=test_idxs)"
   ]
  },
  {
   "cell_type": "code",
   "execution_count": 43,
   "metadata": {},
   "outputs": [],
   "source": [
    "train_df_with_tcp_flags = pd.merge(train_df_with_tcp, train_flags_df, left_index=True, right_index=True, how=\"outer\")"
   ]
  },
  {
   "cell_type": "code",
   "execution_count": 44,
   "metadata": {},
   "outputs": [],
   "source": [
    "test_df_with_tcp_flags = pd.merge(test_df_with_tcp, test_flags_df, left_index=True, right_index=True, how=\"outer\")"
   ]
  },
  {
   "cell_type": "code",
   "execution_count": 49,
   "metadata": {},
   "outputs": [],
   "source": [
    "train_df_with_tcp_flags[\"Destination MAC Address\"] = concat_train_dst_mac\n",
    "train_df_with_tcp_flags[\"Source MAC Address\"] = concat_train_src_mac"
   ]
  },
  {
   "cell_type": "code",
   "execution_count": 51,
   "metadata": {},
   "outputs": [],
   "source": [
    "test_df_with_tcp_flags[\"Destination MAC Address\"] = concat_test_dst_mac\n",
    "test_df_with_tcp_flags[\"Source MAC Address\"] = concat_test_src_mac"
   ]
  },
  {
   "cell_type": "code",
   "execution_count": 70,
   "metadata": {},
   "outputs": [],
   "source": [
    "train_df_with_tcp_flags[\"Source IP Address\"] = train_df_with_tcp_flags[\"Source IP Address\"].apply(ipv4_to_int)\n",
    "train_df_with_tcp_flags[\"Destination IP Address\"] = train_df_with_tcp_flags[\"Destination IP Address\"].apply(ipv4_to_int)"
   ]
  },
  {
   "cell_type": "code",
   "execution_count": 71,
   "metadata": {},
   "outputs": [],
   "source": [
    "test_df_with_tcp_flags[\"Source IP Address\"] = test_df_with_tcp_flags[\"Source IP Address\"].apply(ipv4_to_int)\n",
    "test_df_with_tcp_flags[\"Destination IP Address\"] = test_df_with_tcp_flags[\"Destination IP Address\"].apply(ipv4_to_int)"
   ]
  },
  {
   "cell_type": "code",
   "execution_count": 74,
   "metadata": {},
   "outputs": [],
   "source": [
    "del train_df_with_tcp_flags[\"Flags_y\"]\n",
    "del test_df_with_tcp_flags['Flags_y']"
   ]
  },
  {
   "cell_type": "code",
   "execution_count": 99,
   "metadata": {},
   "outputs": [],
   "source": [
    "train_df_with_tcp[\"Source IP Address\"] = train_df_with_tcp[\"Source IP Address\"].apply(ipv4_to_int)\n",
    "train_df_with_tcp[\"Destination IP Address\"] = train_df_with_tcp[\"Destination IP Address\"].apply(ipv4_to_int)"
   ]
  },
  {
   "cell_type": "code",
   "execution_count": 100,
   "metadata": {},
   "outputs": [],
   "source": [
    "test_df_with_tcp[\"Source IP Address\"] = test_df_with_tcp[\"Source IP Address\"].apply(ipv4_to_int)\n",
    "test_df_with_tcp[\"Destination IP Address\"] = test_df_with_tcp[\"Destination IP Address\"].apply(ipv4_to_int)"
   ]
  },
  {
   "cell_type": "code",
   "execution_count": 101,
   "metadata": {},
   "outputs": [],
   "source": [
    "train_src_ip = train_df_with_tcp[\"Source IP Address\"]\n",
    "train_dst_ip = train_df_with_tcp[\"Destination IP Address\"]"
   ]
  },
  {
   "cell_type": "code",
   "execution_count": 102,
   "metadata": {},
   "outputs": [],
   "source": [
    "test_src_ip = test_df_with_tcp[\"Source IP Address\"]\n",
    "test_dst_ip = test_df_with_tcp[\"Destination IP Address\"]"
   ]
  },
  {
   "cell_type": "code",
   "execution_count": 103,
   "metadata": {},
   "outputs": [],
   "source": [
    "train_df_with_tcp_flags[\"Source IP Address\"] = train_src_ip\n",
    "train_df_with_tcp_flags[\"Destination IP Address\"] = train_dst_ip"
   ]
  },
  {
   "cell_type": "code",
   "execution_count": 105,
   "metadata": {},
   "outputs": [],
   "source": [
    "test_df_with_tcp_flags[\"Source IP Address\"] = test_src_ip\n",
    "test_df_with_tcp_flags[\"Destination IP Address\"] = test_dst_ip"
   ]
  },
  {
   "cell_type": "code",
   "execution_count": 125,
   "metadata": {},
   "outputs": [
    {
     "data": {
      "text/plain": [
       "{'NS': 0,\n",
       " 'CWR': 0,\n",
       " 'ECE ': 0,\n",
       " 'URG': 0,\n",
       " 'ACK': 1,\n",
       " 'PSH': 0,\n",
       " 'RST': 0,\n",
       " 'SYN': 0,\n",
       " 'FIN': 0}"
      ]
     },
     "execution_count": 125,
     "metadata": {},
     "output_type": "execute_result"
    }
   ],
   "source": [
    "train_df_with_tcp[\"Flags_y\"]['0000127a-3659-4318-8dcf-9ab81f9a4050']"
   ]
  },
  {
   "cell_type": "code",
   "execution_count": 119,
   "metadata": {
    "scrolled": true
   },
   "outputs": [
    {
     "data": {
      "text/html": [
       "<div>\n",
       "<style scoped>\n",
       "    .dataframe tbody tr th:only-of-type {\n",
       "        vertical-align: middle;\n",
       "    }\n",
       "\n",
       "    .dataframe tbody tr th {\n",
       "        vertical-align: top;\n",
       "    }\n",
       "\n",
       "    .dataframe thead th {\n",
       "        text-align: right;\n",
       "    }\n",
       "</style>\n",
       "<table border=\"1\" class=\"dataframe\">\n",
       "  <thead>\n",
       "    <tr style=\"text-align: right;\">\n",
       "      <th></th>\n",
       "      <th>Destination MAC Address</th>\n",
       "      <th>Source MAC Address</th>\n",
       "      <th>Ether Type</th>\n",
       "      <th>Version</th>\n",
       "      <th>Internet Header Length</th>\n",
       "      <th>Differentiated Services Code Point</th>\n",
       "      <th>Explicit Congestion Notification</th>\n",
       "      <th>Total Length</th>\n",
       "      <th>Identification</th>\n",
       "      <th>Flags_x</th>\n",
       "      <th>Fragment Offset</th>\n",
       "      <th>Time To Live</th>\n",
       "      <th>Protocol</th>\n",
       "      <th>Header Checksum</th>\n",
       "      <th>Source IP Address</th>\n",
       "      <th>Destination IP Address</th>\n",
       "      <th>Source port</th>\n",
       "      <th>Destination port</th>\n",
       "      <th>Sequence number</th>\n",
       "      <th>Acknowledgment number</th>\n",
       "      <th>Data offset</th>\n",
       "      <th>Reserved</th>\n",
       "      <th>Window size</th>\n",
       "      <th>Checksum</th>\n",
       "      <th>Urgent pointer</th>\n",
       "      <th>flags0</th>\n",
       "      <th>flags2</th>\n",
       "      <th>flags1</th>\n",
       "      <th>flags4</th>\n",
       "      <th>flags3</th>\n",
       "      <th>flags6</th>\n",
       "      <th>flags5</th>\n",
       "      <th>flags8</th>\n",
       "    </tr>\n",
       "  </thead>\n",
       "  <tbody>\n",
       "    <tr>\n",
       "      <th>0000127a-3659-4318-8dcf-9ab81f9a4050</th>\n",
       "      <td>97113814912</td>\n",
       "      <td>112490399296</td>\n",
       "      <td>2048</td>\n",
       "      <td>4</td>\n",
       "      <td>5</td>\n",
       "      <td>0</td>\n",
       "      <td>0</td>\n",
       "      <td>1500</td>\n",
       "      <td>30401</td>\n",
       "      <td>2</td>\n",
       "      <td>0</td>\n",
       "      <td>124</td>\n",
       "      <td>6</td>\n",
       "      <td>52508</td>\n",
       "      <td>42337680</td>\n",
       "      <td>172523520</td>\n",
       "      <td>31619</td>\n",
       "      <td>80</td>\n",
       "      <td>3275710569</td>\n",
       "      <td>614171435</td>\n",
       "      <td>5</td>\n",
       "      <td>0</td>\n",
       "      <td>256</td>\n",
       "      <td>42027</td>\n",
       "      <td>0</td>\n",
       "      <td>0</td>\n",
       "      <td>0</td>\n",
       "      <td>0</td>\n",
       "      <td>1</td>\n",
       "      <td>0</td>\n",
       "      <td>0</td>\n",
       "      <td>0</td>\n",
       "      <td>0</td>\n",
       "    </tr>\n",
       "    <tr>\n",
       "      <th>0000282d-9cc0-417b-a8ba-e9ddd0f51907</th>\n",
       "      <td>211551555070016</td>\n",
       "      <td>88226781932672</td>\n",
       "      <td>2048</td>\n",
       "      <td>4</td>\n",
       "      <td>5</td>\n",
       "      <td>0</td>\n",
       "      <td>0</td>\n",
       "      <td>345</td>\n",
       "      <td>25865</td>\n",
       "      <td>2</td>\n",
       "      <td>0</td>\n",
       "      <td>59</td>\n",
       "      <td>6</td>\n",
       "      <td>23219</td>\n",
       "      <td>800351552</td>\n",
       "      <td>504509280</td>\n",
       "      <td>60574</td>\n",
       "      <td>443</td>\n",
       "      <td>499434802</td>\n",
       "      <td>3047458819</td>\n",
       "      <td>8</td>\n",
       "      <td>0</td>\n",
       "      <td>229</td>\n",
       "      <td>21253</td>\n",
       "      <td>0</td>\n",
       "      <td>0</td>\n",
       "      <td>0</td>\n",
       "      <td>0</td>\n",
       "      <td>1</td>\n",
       "      <td>0</td>\n",
       "      <td>0</td>\n",
       "      <td>1</td>\n",
       "      <td>0</td>\n",
       "    </tr>\n",
       "    <tr>\n",
       "      <th>00003f54-1a7e-461a-905a-8b338ccf51ed</th>\n",
       "      <td>189803579077441</td>\n",
       "      <td>83200487040</td>\n",
       "      <td>2048</td>\n",
       "      <td>4</td>\n",
       "      <td>5</td>\n",
       "      <td>0</td>\n",
       "      <td>0</td>\n",
       "      <td>60</td>\n",
       "      <td>22946</td>\n",
       "      <td>2</td>\n",
       "      <td>0</td>\n",
       "      <td>50</td>\n",
       "      <td>6</td>\n",
       "      <td>30432</td>\n",
       "      <td>34334520</td>\n",
       "      <td>130559520</td>\n",
       "      <td>45150</td>\n",
       "      <td>443</td>\n",
       "      <td>171426392</td>\n",
       "      <td>3241858359</td>\n",
       "      <td>8</td>\n",
       "      <td>0</td>\n",
       "      <td>315</td>\n",
       "      <td>17132</td>\n",
       "      <td>0</td>\n",
       "      <td>0</td>\n",
       "      <td>0</td>\n",
       "      <td>0</td>\n",
       "      <td>1</td>\n",
       "      <td>0</td>\n",
       "      <td>0</td>\n",
       "      <td>1</td>\n",
       "      <td>0</td>\n",
       "    </tr>\n",
       "    <tr>\n",
       "      <th>00005ba0-df6e-4f2e-8bc7-56587e924323</th>\n",
       "      <td>97113814912</td>\n",
       "      <td>112490399296</td>\n",
       "      <td>2048</td>\n",
       "      <td>4</td>\n",
       "      <td>5</td>\n",
       "      <td>0</td>\n",
       "      <td>0</td>\n",
       "      <td>1500</td>\n",
       "      <td>20320</td>\n",
       "      <td>2</td>\n",
       "      <td>0</td>\n",
       "      <td>124</td>\n",
       "      <td>6</td>\n",
       "      <td>57657</td>\n",
       "      <td>42337680</td>\n",
       "      <td>44204992</td>\n",
       "      <td>20865</td>\n",
       "      <td>80</td>\n",
       "      <td>200267589</td>\n",
       "      <td>1098221861</td>\n",
       "      <td>5</td>\n",
       "      <td>0</td>\n",
       "      <td>256</td>\n",
       "      <td>55433</td>\n",
       "      <td>0</td>\n",
       "      <td>0</td>\n",
       "      <td>0</td>\n",
       "      <td>0</td>\n",
       "      <td>1</td>\n",
       "      <td>0</td>\n",
       "      <td>0</td>\n",
       "      <td>0</td>\n",
       "      <td>0</td>\n",
       "    </tr>\n",
       "    <tr>\n",
       "      <th>000086c0-6c17-4dcb-a3f4-7687bfa50917</th>\n",
       "      <td>47029714112</td>\n",
       "      <td>106225803332964</td>\n",
       "      <td>2048</td>\n",
       "      <td>4</td>\n",
       "      <td>5</td>\n",
       "      <td>0</td>\n",
       "      <td>0</td>\n",
       "      <td>286</td>\n",
       "      <td>50166</td>\n",
       "      <td>2</td>\n",
       "      <td>0</td>\n",
       "      <td>55</td>\n",
       "      <td>6</td>\n",
       "      <td>20864</td>\n",
       "      <td>60096344</td>\n",
       "      <td>37102500</td>\n",
       "      <td>61611</td>\n",
       "      <td>443</td>\n",
       "      <td>1069045392</td>\n",
       "      <td>3290897116</td>\n",
       "      <td>8</td>\n",
       "      <td>0</td>\n",
       "      <td>115</td>\n",
       "      <td>65255</td>\n",
       "      <td>0</td>\n",
       "      <td>0</td>\n",
       "      <td>0</td>\n",
       "      <td>0</td>\n",
       "      <td>1</td>\n",
       "      <td>0</td>\n",
       "      <td>0</td>\n",
       "      <td>1</td>\n",
       "      <td>0</td>\n",
       "    </tr>\n",
       "    <tr>\n",
       "      <th>...</th>\n",
       "      <td>...</td>\n",
       "      <td>...</td>\n",
       "      <td>...</td>\n",
       "      <td>...</td>\n",
       "      <td>...</td>\n",
       "      <td>...</td>\n",
       "      <td>...</td>\n",
       "      <td>...</td>\n",
       "      <td>...</td>\n",
       "      <td>...</td>\n",
       "      <td>...</td>\n",
       "      <td>...</td>\n",
       "      <td>...</td>\n",
       "      <td>...</td>\n",
       "      <td>...</td>\n",
       "      <td>...</td>\n",
       "      <td>...</td>\n",
       "      <td>...</td>\n",
       "      <td>...</td>\n",
       "      <td>...</td>\n",
       "      <td>...</td>\n",
       "      <td>...</td>\n",
       "      <td>...</td>\n",
       "      <td>...</td>\n",
       "      <td>...</td>\n",
       "      <td>...</td>\n",
       "      <td>...</td>\n",
       "      <td>...</td>\n",
       "      <td>...</td>\n",
       "      <td>...</td>\n",
       "      <td>...</td>\n",
       "      <td>...</td>\n",
       "      <td>...</td>\n",
       "    </tr>\n",
       "    <tr>\n",
       "      <th>ffffeffd-e46f-4916-9580-6f67a7d959bf</th>\n",
       "      <td>112490399296</td>\n",
       "      <td>97113814912</td>\n",
       "      <td>2048</td>\n",
       "      <td>4</td>\n",
       "      <td>5</td>\n",
       "      <td>0</td>\n",
       "      <td>0</td>\n",
       "      <td>1500</td>\n",
       "      <td>27455</td>\n",
       "      <td>2</td>\n",
       "      <td>0</td>\n",
       "      <td>53</td>\n",
       "      <td>6</td>\n",
       "      <td>53988</td>\n",
       "      <td>66877184</td>\n",
       "      <td>7283640</td>\n",
       "      <td>80</td>\n",
       "      <td>40400</td>\n",
       "      <td>1126729542</td>\n",
       "      <td>3427396664</td>\n",
       "      <td>5</td>\n",
       "      <td>0</td>\n",
       "      <td>237</td>\n",
       "      <td>45026</td>\n",
       "      <td>0</td>\n",
       "      <td>0</td>\n",
       "      <td>0</td>\n",
       "      <td>0</td>\n",
       "      <td>1</td>\n",
       "      <td>0</td>\n",
       "      <td>0</td>\n",
       "      <td>0</td>\n",
       "      <td>0</td>\n",
       "    </tr>\n",
       "    <tr>\n",
       "      <th>fffff010-6df7-4d05-b014-84248b8d1fad</th>\n",
       "      <td>618663970892</td>\n",
       "      <td>896767197125</td>\n",
       "      <td>2048</td>\n",
       "      <td>4</td>\n",
       "      <td>5</td>\n",
       "      <td>0</td>\n",
       "      <td>0</td>\n",
       "      <td>40</td>\n",
       "      <td>39972</td>\n",
       "      <td>2</td>\n",
       "      <td>0</td>\n",
       "      <td>44</td>\n",
       "      <td>6</td>\n",
       "      <td>50288</td>\n",
       "      <td>70718760</td>\n",
       "      <td>19035324</td>\n",
       "      <td>80</td>\n",
       "      <td>58997</td>\n",
       "      <td>1492736584</td>\n",
       "      <td>2241807964</td>\n",
       "      <td>5</td>\n",
       "      <td>0</td>\n",
       "      <td>65535</td>\n",
       "      <td>23446</td>\n",
       "      <td>0</td>\n",
       "      <td>0</td>\n",
       "      <td>0</td>\n",
       "      <td>0</td>\n",
       "      <td>1</td>\n",
       "      <td>0</td>\n",
       "      <td>0</td>\n",
       "      <td>0</td>\n",
       "      <td>0</td>\n",
       "    </tr>\n",
       "    <tr>\n",
       "      <th>fffff61d-3525-4938-a736-261ccb123c47</th>\n",
       "      <td>29066665506</td>\n",
       "      <td>238257139002241</td>\n",
       "      <td>2048</td>\n",
       "      <td>4</td>\n",
       "      <td>5</td>\n",
       "      <td>0</td>\n",
       "      <td>0</td>\n",
       "      <td>40</td>\n",
       "      <td>8348</td>\n",
       "      <td>2</td>\n",
       "      <td>0</td>\n",
       "      <td>53</td>\n",
       "      <td>6</td>\n",
       "      <td>41241</td>\n",
       "      <td>65572416</td>\n",
       "      <td>665873292</td>\n",
       "      <td>6060</td>\n",
       "      <td>54196</td>\n",
       "      <td>3440026943</td>\n",
       "      <td>1911131628</td>\n",
       "      <td>5</td>\n",
       "      <td>0</td>\n",
       "      <td>123</td>\n",
       "      <td>52669</td>\n",
       "      <td>0</td>\n",
       "      <td>0</td>\n",
       "      <td>0</td>\n",
       "      <td>0</td>\n",
       "      <td>1</td>\n",
       "      <td>0</td>\n",
       "      <td>0</td>\n",
       "      <td>0</td>\n",
       "      <td>0</td>\n",
       "    </tr>\n",
       "    <tr>\n",
       "      <th>fffff716-1f43-4f5f-a62b-2d1c9a26b3ba</th>\n",
       "      <td>893392113664</td>\n",
       "      <td>163544444160</td>\n",
       "      <td>2048</td>\n",
       "      <td>4</td>\n",
       "      <td>5</td>\n",
       "      <td>0</td>\n",
       "      <td>0</td>\n",
       "      <td>40</td>\n",
       "      <td>114</td>\n",
       "      <td>2</td>\n",
       "      <td>0</td>\n",
       "      <td>63</td>\n",
       "      <td>6</td>\n",
       "      <td>55959</td>\n",
       "      <td>77048760</td>\n",
       "      <td>53086000</td>\n",
       "      <td>80</td>\n",
       "      <td>58399</td>\n",
       "      <td>2386332287</td>\n",
       "      <td>798213201</td>\n",
       "      <td>5</td>\n",
       "      <td>0</td>\n",
       "      <td>65535</td>\n",
       "      <td>24060</td>\n",
       "      <td>0</td>\n",
       "      <td>0</td>\n",
       "      <td>0</td>\n",
       "      <td>0</td>\n",
       "      <td>1</td>\n",
       "      <td>0</td>\n",
       "      <td>0</td>\n",
       "      <td>0</td>\n",
       "      <td>1</td>\n",
       "    </tr>\n",
       "    <tr>\n",
       "      <th>fffffad2-1b0d-4b18-a3d2-c496b2b4c966</th>\n",
       "      <td>155569840384</td>\n",
       "      <td>128157406096288</td>\n",
       "      <td>2048</td>\n",
       "      <td>4</td>\n",
       "      <td>5</td>\n",
       "      <td>0</td>\n",
       "      <td>0</td>\n",
       "      <td>40</td>\n",
       "      <td>43142</td>\n",
       "      <td>2</td>\n",
       "      <td>0</td>\n",
       "      <td>54</td>\n",
       "      <td>6</td>\n",
       "      <td>57545</td>\n",
       "      <td>5408000</td>\n",
       "      <td>70400</td>\n",
       "      <td>443</td>\n",
       "      <td>29726</td>\n",
       "      <td>4019582663</td>\n",
       "      <td>2264704735</td>\n",
       "      <td>5</td>\n",
       "      <td>0</td>\n",
       "      <td>31</td>\n",
       "      <td>27169</td>\n",
       "      <td>0</td>\n",
       "      <td>0</td>\n",
       "      <td>0</td>\n",
       "      <td>0</td>\n",
       "      <td>1</td>\n",
       "      <td>0</td>\n",
       "      <td>0</td>\n",
       "      <td>0</td>\n",
       "      <td>1</td>\n",
       "    </tr>\n",
       "  </tbody>\n",
       "</table>\n",
       "<p>3354174 rows × 33 columns</p>\n",
       "</div>"
      ],
      "text/plain": [
       "                                      Destination MAC Address  \\\n",
       "0000127a-3659-4318-8dcf-9ab81f9a4050              97113814912   \n",
       "0000282d-9cc0-417b-a8ba-e9ddd0f51907          211551555070016   \n",
       "00003f54-1a7e-461a-905a-8b338ccf51ed          189803579077441   \n",
       "00005ba0-df6e-4f2e-8bc7-56587e924323              97113814912   \n",
       "000086c0-6c17-4dcb-a3f4-7687bfa50917              47029714112   \n",
       "...                                                       ...   \n",
       "ffffeffd-e46f-4916-9580-6f67a7d959bf             112490399296   \n",
       "fffff010-6df7-4d05-b014-84248b8d1fad             618663970892   \n",
       "fffff61d-3525-4938-a736-261ccb123c47              29066665506   \n",
       "fffff716-1f43-4f5f-a62b-2d1c9a26b3ba             893392113664   \n",
       "fffffad2-1b0d-4b18-a3d2-c496b2b4c966             155569840384   \n",
       "\n",
       "                                      Source MAC Address  Ether Type Version  \\\n",
       "0000127a-3659-4318-8dcf-9ab81f9a4050        112490399296        2048       4   \n",
       "0000282d-9cc0-417b-a8ba-e9ddd0f51907      88226781932672        2048       4   \n",
       "00003f54-1a7e-461a-905a-8b338ccf51ed         83200487040        2048       4   \n",
       "00005ba0-df6e-4f2e-8bc7-56587e924323        112490399296        2048       4   \n",
       "000086c0-6c17-4dcb-a3f4-7687bfa50917     106225803332964        2048       4   \n",
       "...                                                  ...         ...     ...   \n",
       "ffffeffd-e46f-4916-9580-6f67a7d959bf         97113814912        2048       4   \n",
       "fffff010-6df7-4d05-b014-84248b8d1fad        896767197125        2048       4   \n",
       "fffff61d-3525-4938-a736-261ccb123c47     238257139002241        2048       4   \n",
       "fffff716-1f43-4f5f-a62b-2d1c9a26b3ba        163544444160        2048       4   \n",
       "fffffad2-1b0d-4b18-a3d2-c496b2b4c966     128157406096288        2048       4   \n",
       "\n",
       "                                     Internet Header Length  \\\n",
       "0000127a-3659-4318-8dcf-9ab81f9a4050                      5   \n",
       "0000282d-9cc0-417b-a8ba-e9ddd0f51907                      5   \n",
       "00003f54-1a7e-461a-905a-8b338ccf51ed                      5   \n",
       "00005ba0-df6e-4f2e-8bc7-56587e924323                      5   \n",
       "000086c0-6c17-4dcb-a3f4-7687bfa50917                      5   \n",
       "...                                                     ...   \n",
       "ffffeffd-e46f-4916-9580-6f67a7d959bf                      5   \n",
       "fffff010-6df7-4d05-b014-84248b8d1fad                      5   \n",
       "fffff61d-3525-4938-a736-261ccb123c47                      5   \n",
       "fffff716-1f43-4f5f-a62b-2d1c9a26b3ba                      5   \n",
       "fffffad2-1b0d-4b18-a3d2-c496b2b4c966                      5   \n",
       "\n",
       "                                     Differentiated Services Code Point  \\\n",
       "0000127a-3659-4318-8dcf-9ab81f9a4050                                  0   \n",
       "0000282d-9cc0-417b-a8ba-e9ddd0f51907                                  0   \n",
       "00003f54-1a7e-461a-905a-8b338ccf51ed                                  0   \n",
       "00005ba0-df6e-4f2e-8bc7-56587e924323                                  0   \n",
       "000086c0-6c17-4dcb-a3f4-7687bfa50917                                  0   \n",
       "...                                                                 ...   \n",
       "ffffeffd-e46f-4916-9580-6f67a7d959bf                                  0   \n",
       "fffff010-6df7-4d05-b014-84248b8d1fad                                  0   \n",
       "fffff61d-3525-4938-a736-261ccb123c47                                  0   \n",
       "fffff716-1f43-4f5f-a62b-2d1c9a26b3ba                                  0   \n",
       "fffffad2-1b0d-4b18-a3d2-c496b2b4c966                                  0   \n",
       "\n",
       "                                     Explicit Congestion Notification  \\\n",
       "0000127a-3659-4318-8dcf-9ab81f9a4050                                0   \n",
       "0000282d-9cc0-417b-a8ba-e9ddd0f51907                                0   \n",
       "00003f54-1a7e-461a-905a-8b338ccf51ed                                0   \n",
       "00005ba0-df6e-4f2e-8bc7-56587e924323                                0   \n",
       "000086c0-6c17-4dcb-a3f4-7687bfa50917                                0   \n",
       "...                                                               ...   \n",
       "ffffeffd-e46f-4916-9580-6f67a7d959bf                                0   \n",
       "fffff010-6df7-4d05-b014-84248b8d1fad                                0   \n",
       "fffff61d-3525-4938-a736-261ccb123c47                                0   \n",
       "fffff716-1f43-4f5f-a62b-2d1c9a26b3ba                                0   \n",
       "fffffad2-1b0d-4b18-a3d2-c496b2b4c966                                0   \n",
       "\n",
       "                                     Total Length Identification Flags_x  \\\n",
       "0000127a-3659-4318-8dcf-9ab81f9a4050         1500          30401       2   \n",
       "0000282d-9cc0-417b-a8ba-e9ddd0f51907          345          25865       2   \n",
       "00003f54-1a7e-461a-905a-8b338ccf51ed           60          22946       2   \n",
       "00005ba0-df6e-4f2e-8bc7-56587e924323         1500          20320       2   \n",
       "000086c0-6c17-4dcb-a3f4-7687bfa50917          286          50166       2   \n",
       "...                                           ...            ...     ...   \n",
       "ffffeffd-e46f-4916-9580-6f67a7d959bf         1500          27455       2   \n",
       "fffff010-6df7-4d05-b014-84248b8d1fad           40          39972       2   \n",
       "fffff61d-3525-4938-a736-261ccb123c47           40           8348       2   \n",
       "fffff716-1f43-4f5f-a62b-2d1c9a26b3ba           40            114       2   \n",
       "fffffad2-1b0d-4b18-a3d2-c496b2b4c966           40          43142       2   \n",
       "\n",
       "                                     Fragment Offset Time To Live Protocol  \\\n",
       "0000127a-3659-4318-8dcf-9ab81f9a4050               0          124        6   \n",
       "0000282d-9cc0-417b-a8ba-e9ddd0f51907               0           59        6   \n",
       "00003f54-1a7e-461a-905a-8b338ccf51ed               0           50        6   \n",
       "00005ba0-df6e-4f2e-8bc7-56587e924323               0          124        6   \n",
       "000086c0-6c17-4dcb-a3f4-7687bfa50917               0           55        6   \n",
       "...                                              ...          ...      ...   \n",
       "ffffeffd-e46f-4916-9580-6f67a7d959bf               0           53        6   \n",
       "fffff010-6df7-4d05-b014-84248b8d1fad               0           44        6   \n",
       "fffff61d-3525-4938-a736-261ccb123c47               0           53        6   \n",
       "fffff716-1f43-4f5f-a62b-2d1c9a26b3ba               0           63        6   \n",
       "fffffad2-1b0d-4b18-a3d2-c496b2b4c966               0           54        6   \n",
       "\n",
       "                                      Header Checksum  Source IP Address  \\\n",
       "0000127a-3659-4318-8dcf-9ab81f9a4050            52508           42337680   \n",
       "0000282d-9cc0-417b-a8ba-e9ddd0f51907            23219          800351552   \n",
       "00003f54-1a7e-461a-905a-8b338ccf51ed            30432           34334520   \n",
       "00005ba0-df6e-4f2e-8bc7-56587e924323            57657           42337680   \n",
       "000086c0-6c17-4dcb-a3f4-7687bfa50917            20864           60096344   \n",
       "...                                               ...                ...   \n",
       "ffffeffd-e46f-4916-9580-6f67a7d959bf            53988           66877184   \n",
       "fffff010-6df7-4d05-b014-84248b8d1fad            50288           70718760   \n",
       "fffff61d-3525-4938-a736-261ccb123c47            41241           65572416   \n",
       "fffff716-1f43-4f5f-a62b-2d1c9a26b3ba            55959           77048760   \n",
       "fffffad2-1b0d-4b18-a3d2-c496b2b4c966            57545            5408000   \n",
       "\n",
       "                                      Destination IP Address  Source port  \\\n",
       "0000127a-3659-4318-8dcf-9ab81f9a4050               172523520        31619   \n",
       "0000282d-9cc0-417b-a8ba-e9ddd0f51907               504509280        60574   \n",
       "00003f54-1a7e-461a-905a-8b338ccf51ed               130559520        45150   \n",
       "00005ba0-df6e-4f2e-8bc7-56587e924323                44204992        20865   \n",
       "000086c0-6c17-4dcb-a3f4-7687bfa50917                37102500        61611   \n",
       "...                                                      ...          ...   \n",
       "ffffeffd-e46f-4916-9580-6f67a7d959bf                 7283640           80   \n",
       "fffff010-6df7-4d05-b014-84248b8d1fad                19035324           80   \n",
       "fffff61d-3525-4938-a736-261ccb123c47               665873292         6060   \n",
       "fffff716-1f43-4f5f-a62b-2d1c9a26b3ba                53086000           80   \n",
       "fffffad2-1b0d-4b18-a3d2-c496b2b4c966                   70400          443   \n",
       "\n",
       "                                      Destination port  Sequence number  \\\n",
       "0000127a-3659-4318-8dcf-9ab81f9a4050                80       3275710569   \n",
       "0000282d-9cc0-417b-a8ba-e9ddd0f51907               443        499434802   \n",
       "00003f54-1a7e-461a-905a-8b338ccf51ed               443        171426392   \n",
       "00005ba0-df6e-4f2e-8bc7-56587e924323                80        200267589   \n",
       "000086c0-6c17-4dcb-a3f4-7687bfa50917               443       1069045392   \n",
       "...                                                ...              ...   \n",
       "ffffeffd-e46f-4916-9580-6f67a7d959bf             40400       1126729542   \n",
       "fffff010-6df7-4d05-b014-84248b8d1fad             58997       1492736584   \n",
       "fffff61d-3525-4938-a736-261ccb123c47             54196       3440026943   \n",
       "fffff716-1f43-4f5f-a62b-2d1c9a26b3ba             58399       2386332287   \n",
       "fffffad2-1b0d-4b18-a3d2-c496b2b4c966             29726       4019582663   \n",
       "\n",
       "                                      Acknowledgment number  Data offset  \\\n",
       "0000127a-3659-4318-8dcf-9ab81f9a4050              614171435            5   \n",
       "0000282d-9cc0-417b-a8ba-e9ddd0f51907             3047458819            8   \n",
       "00003f54-1a7e-461a-905a-8b338ccf51ed             3241858359            8   \n",
       "00005ba0-df6e-4f2e-8bc7-56587e924323             1098221861            5   \n",
       "000086c0-6c17-4dcb-a3f4-7687bfa50917             3290897116            8   \n",
       "...                                                     ...          ...   \n",
       "ffffeffd-e46f-4916-9580-6f67a7d959bf             3427396664            5   \n",
       "fffff010-6df7-4d05-b014-84248b8d1fad             2241807964            5   \n",
       "fffff61d-3525-4938-a736-261ccb123c47             1911131628            5   \n",
       "fffff716-1f43-4f5f-a62b-2d1c9a26b3ba              798213201            5   \n",
       "fffffad2-1b0d-4b18-a3d2-c496b2b4c966             2264704735            5   \n",
       "\n",
       "                                      Reserved  Window size  Checksum  \\\n",
       "0000127a-3659-4318-8dcf-9ab81f9a4050         0          256     42027   \n",
       "0000282d-9cc0-417b-a8ba-e9ddd0f51907         0          229     21253   \n",
       "00003f54-1a7e-461a-905a-8b338ccf51ed         0          315     17132   \n",
       "00005ba0-df6e-4f2e-8bc7-56587e924323         0          256     55433   \n",
       "000086c0-6c17-4dcb-a3f4-7687bfa50917         0          115     65255   \n",
       "...                                        ...          ...       ...   \n",
       "ffffeffd-e46f-4916-9580-6f67a7d959bf         0          237     45026   \n",
       "fffff010-6df7-4d05-b014-84248b8d1fad         0        65535     23446   \n",
       "fffff61d-3525-4938-a736-261ccb123c47         0          123     52669   \n",
       "fffff716-1f43-4f5f-a62b-2d1c9a26b3ba         0        65535     24060   \n",
       "fffffad2-1b0d-4b18-a3d2-c496b2b4c966         0           31     27169   \n",
       "\n",
       "                                      Urgent pointer  flags0  flags2  flags1  \\\n",
       "0000127a-3659-4318-8dcf-9ab81f9a4050               0       0       0       0   \n",
       "0000282d-9cc0-417b-a8ba-e9ddd0f51907               0       0       0       0   \n",
       "00003f54-1a7e-461a-905a-8b338ccf51ed               0       0       0       0   \n",
       "00005ba0-df6e-4f2e-8bc7-56587e924323               0       0       0       0   \n",
       "000086c0-6c17-4dcb-a3f4-7687bfa50917               0       0       0       0   \n",
       "...                                              ...     ...     ...     ...   \n",
       "ffffeffd-e46f-4916-9580-6f67a7d959bf               0       0       0       0   \n",
       "fffff010-6df7-4d05-b014-84248b8d1fad               0       0       0       0   \n",
       "fffff61d-3525-4938-a736-261ccb123c47               0       0       0       0   \n",
       "fffff716-1f43-4f5f-a62b-2d1c9a26b3ba               0       0       0       0   \n",
       "fffffad2-1b0d-4b18-a3d2-c496b2b4c966               0       0       0       0   \n",
       "\n",
       "                                      flags4  flags3  flags6  flags5  flags8  \n",
       "0000127a-3659-4318-8dcf-9ab81f9a4050       1       0       0       0       0  \n",
       "0000282d-9cc0-417b-a8ba-e9ddd0f51907       1       0       0       1       0  \n",
       "00003f54-1a7e-461a-905a-8b338ccf51ed       1       0       0       1       0  \n",
       "00005ba0-df6e-4f2e-8bc7-56587e924323       1       0       0       0       0  \n",
       "000086c0-6c17-4dcb-a3f4-7687bfa50917       1       0       0       1       0  \n",
       "...                                      ...     ...     ...     ...     ...  \n",
       "ffffeffd-e46f-4916-9580-6f67a7d959bf       1       0       0       0       0  \n",
       "fffff010-6df7-4d05-b014-84248b8d1fad       1       0       0       0       0  \n",
       "fffff61d-3525-4938-a736-261ccb123c47       1       0       0       0       0  \n",
       "fffff716-1f43-4f5f-a62b-2d1c9a26b3ba       1       0       0       0       1  \n",
       "fffffad2-1b0d-4b18-a3d2-c496b2b4c966       1       0       0       0       1  \n",
       "\n",
       "[3354174 rows x 33 columns]"
      ]
     },
     "execution_count": 119,
     "metadata": {},
     "output_type": "execute_result"
    }
   ],
   "source": [
    "train_df_with_tcp_flags"
   ]
  },
  {
   "cell_type": "code",
   "execution_count": 120,
   "metadata": {},
   "outputs": [],
   "source": [
    "pd.to_pickle(train_df_with_tcp_flags, r\"E:\\exp_with_YJ\\train_df_with_tcp_flags.pkl\")"
   ]
  },
  {
   "cell_type": "code",
   "execution_count": 121,
   "metadata": {},
   "outputs": [],
   "source": [
    "pd.to_pickle(test_df_with_tcp_flags, r\"E:\\exp_with_YJ\\test_df_with_tcp_flags.pkl\")"
   ]
  },
  {
   "cell_type": "code",
   "execution_count": null,
   "metadata": {},
   "outputs": [],
   "source": []
  },
  {
   "cell_type": "markdown",
   "metadata": {},
   "source": [
    "# labelling"
   ]
  },
  {
   "cell_type": "code",
   "execution_count": 78,
   "metadata": {},
   "outputs": [],
   "source": [
    "train_analy_1 = pd.read_pickle(\"E:/full_data/data/protocols/network/HH/train_1_df_label.pkl\")\n",
    "train_analy_2 = pd.read_pickle(\"E:/full_data/data/protocols/network/HH/train_2_df_label.pkl\")"
   ]
  },
  {
   "cell_type": "code",
   "execution_count": 79,
   "metadata": {},
   "outputs": [],
   "source": [
    "test_analy_1 = pd.read_pickle(\"E:/full_data/data/protocols/network/HH/test_1_df_label.pkl\")\n",
    "test_analy_2 = pd.read_pickle(\"E:/full_data/data/protocols/network/HH/test_2_df_label.pkl\")"
   ]
  },
  {
   "cell_type": "code",
   "execution_count": 83,
   "metadata": {},
   "outputs": [
    {
     "data": {
      "application/vnd.jupyter.widget-view+json": {
       "model_id": "fead95fbcaea4d2482d717622e112df4",
       "version_major": 2,
       "version_minor": 0
      },
      "text/plain": [
       "HBox(children=(FloatProgress(value=0.0, max=3354174.0), HTML(value='')))"
      ]
     },
     "metadata": {},
     "output_type": "display_data"
    },
    {
     "name": "stdout",
     "output_type": "stream",
     "text": [
      "\n"
     ]
    }
   ],
   "source": [
    "train_labels = []\n",
    "for idx in tqdm(train_df_with_tcp_flags.index):\n",
    "    if idx in train_analy_1:\n",
    "        train_labels.append(1)\n",
    "    elif idx in train_analy_2:\n",
    "        train_labels.append(0)\n",
    "    else:\n",
    "        train_labels.append(3)"
   ]
  },
  {
   "cell_type": "code",
   "execution_count": 84,
   "metadata": {},
   "outputs": [
    {
     "data": {
      "application/vnd.jupyter.widget-view+json": {
       "model_id": "77aeb81aaae3460193e5791c9ee7ba95",
       "version_major": 2,
       "version_minor": 0
      },
      "text/plain": [
       "HBox(children=(FloatProgress(value=0.0, max=1057931.0), HTML(value='')))"
      ]
     },
     "metadata": {},
     "output_type": "display_data"
    },
    {
     "name": "stdout",
     "output_type": "stream",
     "text": [
      "\n"
     ]
    }
   ],
   "source": [
    "test_labels = []\n",
    "for idx in tqdm(test_df_with_tcp_flags.index):\n",
    "    if idx in test_analy_1:\n",
    "        test_labels.append(1)\n",
    "    elif idx in test_analy_2:\n",
    "        test_labels.append(0)\n",
    "    else:\n",
    "        test_labels.append(3)"
   ]
  },
  {
   "cell_type": "code",
   "execution_count": 122,
   "metadata": {},
   "outputs": [],
   "source": [
    "pd.to_pickle(train_labels, r\"E:\\exp_with_YJ\\train_labels.pkl\")\n",
    "pd.to_pickle(test_labels, r\"E:\\exp_with_YJ\\test_labels.pkl\")"
   ]
  },
  {
   "cell_type": "code",
   "execution_count": null,
   "metadata": {},
   "outputs": [],
   "source": []
  },
  {
   "cell_type": "markdown",
   "metadata": {},
   "source": [
    "# EXPERIMENT"
   ]
  },
  {
   "cell_type": "code",
   "execution_count": 76,
   "metadata": {},
   "outputs": [],
   "source": [
    "from sklearn.ensemble import RandomForestClassifier\n",
    "from sklearn import metrics\n"
   ]
  },
  {
   "cell_type": "code",
   "execution_count": 108,
   "metadata": {},
   "outputs": [],
   "source": [
    "forest2 = RandomForestClassifier()"
   ]
  },
  {
   "cell_type": "code",
   "execution_count": 109,
   "metadata": {},
   "outputs": [
    {
     "data": {
      "text/plain": [
       "RandomForestClassifier(bootstrap=True, ccp_alpha=0.0, class_weight=None,\n",
       "                       criterion='gini', max_depth=None, max_features='auto',\n",
       "                       max_leaf_nodes=None, max_samples=None,\n",
       "                       min_impurity_decrease=0.0, min_impurity_split=None,\n",
       "                       min_samples_leaf=1, min_samples_split=2,\n",
       "                       min_weight_fraction_leaf=0.0, n_estimators=100,\n",
       "                       n_jobs=None, oob_score=False, random_state=None,\n",
       "                       verbose=0, warm_start=False)"
      ]
     },
     "execution_count": 109,
     "metadata": {},
     "output_type": "execute_result"
    }
   ],
   "source": [
    "forest2.fit(train_df_with_tcp_flags, train_labels)"
   ]
  },
  {
   "cell_type": "code",
   "execution_count": 110,
   "metadata": {},
   "outputs": [
    {
     "name": "stdout",
     "output_type": "stream",
     "text": [
      "정확도 : 0.8231028299577193\n"
     ]
    }
   ],
   "source": [
    "y_pred = forest2.predict(test_df_with_tcp_flags)\n",
    "\n",
    "# 정확도 확인\n",
    "print('정확도 :', metrics.accuracy_score(test_labels, y_pred))"
   ]
  },
  {
   "cell_type": "code",
   "execution_count": null,
   "metadata": {},
   "outputs": [],
   "source": []
  },
  {
   "cell_type": "code",
   "execution_count": 113,
   "metadata": {},
   "outputs": [],
   "source": [
    "imp = forest2.feature_importances_\n",
    "\n",
    "train_cols = list(train_df_with_tcp_flags.columns)\n",
    "\n",
    "imp_dic = {}\n",
    "for c, i in zip(train_cols, imp):\n",
    "    imp_dic[c]=i\n",
    "\n",
    "sort_imp = sorted(imp_dic.items(), key=(lambda x: x[1]), reverse=False)\n",
    "\n",
    "imp_cols = []\n",
    "imp_imp = []\n",
    "for i in sort_imp:\n",
    "    imp_cols.append(i[0])\n",
    "    imp_imp.append(i[1])"
   ]
  },
  {
   "cell_type": "code",
   "execution_count": 115,
   "metadata": {},
   "outputs": [
    {
     "data": {
      "image/png": "[encoded data removed]",
      "text/plain": [
       "<Figure size 2880x2880 with 1 Axes>"
      ]
     },
     "metadata": {
      "needs_background": "light"
     },
     "output_type": "display_data"
    }
   ],
   "source": [
    "import matplotlib.pyplot as plt\n",
    "\n",
    "plt.figure(figsize=(40, 40))\n",
    "plt.yticks(fontsize=30)\n",
    "plt.xticks(fontsize=30)\n",
    "plt.barh(imp_cols, imp_imp)\n",
    "plt.savefig(r'E:\\concat_ip.png')\n",
    "plt.show()"
   ]
  },
  {
   "cell_type": "code",
   "execution_count": null,
   "metadata": {},
   "outputs": [],
   "source": []
  },
  {
   "cell_type": "code",
   "execution_count": 2,
   "metadata": {},
   "outputs": [],
   "source": [
    "pathes = glob.glob(\"E:/full_data/data/protocols/network/HH/*df.pkl\")"
   ]
  },
  {
   "cell_type": "code",
   "execution_count": 4,
   "metadata": {},
   "outputs": [],
   "source": [
    "train = pathes[2:]"
   ]
  },
  {
   "cell_type": "code",
   "execution_count": 8,
   "metadata": {},
   "outputs": [],
   "source": [
    "test = pathes[:2]"
   ]
  },
  {
   "cell_type": "code",
   "execution_count": 10,
   "metadata": {},
   "outputs": [],
   "source": [
    "train_df = pd.DataFrame()\n",
    "for path in train:\n",
    "    temp = pd.read_pickle(path)\n",
    "    train_df = pd.concat([train_df, temp])"
   ]
  },
  {
   "cell_type": "code",
   "execution_count": 11,
   "metadata": {},
   "outputs": [],
   "source": [
    "test_df = pd.DataFrame()\n",
    "for path in test:\n",
    "    temp = pd.read_pickle(path)\n",
    "    test_df = pd.concat([test_df, temp])"
   ]
  },
  {
   "cell_type": "code",
   "execution_count": 18,
   "metadata": {},
   "outputs": [],
   "source": [
    "pd.to_pickle(train_df, \"E:/full_data/data/protocols/network/HH/all_train_df.pkl\")"
   ]
  },
  {
   "cell_type": "code",
   "execution_count": 19,
   "metadata": {},
   "outputs": [],
   "source": [
    "pd.to_pickle(test_df, \"E:/full_data/data/protocols/network/HH/all_test_df.pkl\")"
   ]
  },
  {
   "cell_type": "code",
   "execution_count": 12,
   "metadata": {
    "scrolled": true
   },
   "outputs": [
    {
     "data": {
      "text/plain": [
       "3354174"
      ]
     },
     "execution_count": 12,
     "metadata": {},
     "output_type": "execute_result"
    }
   ],
   "source": [
    "len(train_df)"
   ]
  },
  {
   "cell_type": "code",
   "execution_count": 13,
   "metadata": {},
   "outputs": [
    {
     "data": {
      "text/plain": [
       "1057931"
      ]
     },
     "execution_count": 13,
     "metadata": {},
     "output_type": "execute_result"
    }
   ],
   "source": [
    "len(test_df)"
   ]
  },
  {
   "cell_type": "code",
   "execution_count": 23,
   "metadata": {},
   "outputs": [],
   "source": [
    "temptemp = {'Source port': 37748,\n",
    " 'Destination port': 80,\n",
    " 'Sequence number': '0x91d90ca8',\n",
    " 'Acknowledgment number': '0x4ba54335',\n",
    " 'Data offset': 8,\n",
    " 'Reserved': 0,\n",
    " 'Flags': {'NS': 0,\n",
    "  'CWR': 0,\n",
    "  'ECE ': 0,\n",
    "  'URG': 0,\n",
    "  'ACK': 1,\n",
    "  'PSH': 1,\n",
    "  'RST': 0,\n",
    "  'SYN': 0,\n",
    "  'FIN': 0},\n",
    " 'Window size': 229,\n",
    " 'Checksum': '0x7799',\n",
    " 'Urgent pointer': 0}"
   ]
  },
  {
   "cell_type": "code",
   "execution_count": 25,
   "metadata": {},
   "outputs": [],
   "source": [
    "tcp_keys = list(temptemp.keys())"
   ]
  },
  {
   "cell_type": "code",
   "execution_count": 26,
   "metadata": {},
   "outputs": [
    {
     "data": {
      "application/vnd.jupyter.widget-view+json": {
       "model_id": "b5abc5c525fd426c837c58d39bf872aa",
       "version_major": 2,
       "version_minor": 0
      },
      "text/plain": [
       "HBox(children=(FloatProgress(value=0.0, max=3354174.0), HTML(value='')))"
      ]
     },
     "metadata": {},
     "output_type": "display_data"
    },
    {
     "name": "stdout",
     "output_type": "stream",
     "text": [
      "\n"
     ]
    }
   ],
   "source": [
    "tcp_data = {}\n",
    "for idx in tqdm(train_df.index):\n",
    "    tcp = train_df[\"TCP\"][idx]\n",
    "    for key in tcp_keys:\n",
    "        if key not in tcp_data:\n",
    "            tcp_data[key] = []\n",
    "        tcp_data[key].append(tcp[key])"
   ]
  },
  {
   "cell_type": "code",
   "execution_count": 31,
   "metadata": {},
   "outputs": [],
   "source": [
    "idxs = list(train_df.index)\n",
    "tcp_df = pd.DataFrame(data=tcp_data, index=idxs)"
   ]
  },
  {
   "cell_type": "code",
   "execution_count": 32,
   "metadata": {},
   "outputs": [
    {
     "data": {
      "text/html": [
       "<div>\n",
       "<style scoped>\n",
       "    .dataframe tbody tr th:only-of-type {\n",
       "        vertical-align: middle;\n",
       "    }\n",
       "\n",
       "    .dataframe tbody tr th {\n",
       "        vertical-align: top;\n",
       "    }\n",
       "\n",
       "    .dataframe thead th {\n",
       "        text-align: right;\n",
       "    }\n",
       "</style>\n",
       "<table border=\"1\" class=\"dataframe\">\n",
       "  <thead>\n",
       "    <tr style=\"text-align: right;\">\n",
       "      <th></th>\n",
       "      <th>Source port</th>\n",
       "      <th>Destination port</th>\n",
       "      <th>Sequence number</th>\n",
       "      <th>Acknowledgment number</th>\n",
       "      <th>Data offset</th>\n",
       "      <th>Reserved</th>\n",
       "      <th>Flags</th>\n",
       "      <th>Window size</th>\n",
       "      <th>Checksum</th>\n",
       "      <th>Urgent pointer</th>\n",
       "    </tr>\n",
       "  </thead>\n",
       "  <tbody>\n",
       "    <tr>\n",
       "      <th>0000127a-3659-4318-8dcf-9ab81f9a4050</th>\n",
       "      <td>31619</td>\n",
       "      <td>80</td>\n",
       "      <td>0xc33f6069</td>\n",
       "      <td>0x249b832b</td>\n",
       "      <td>5</td>\n",
       "      <td>0</td>\n",
       "      <td>{'NS': 0, 'CWR': 0, 'ECE ': 0, 'URG': 0, 'ACK'...</td>\n",
       "      <td>256</td>\n",
       "      <td>0xa42b</td>\n",
       "      <td>0</td>\n",
       "    </tr>\n",
       "    <tr>\n",
       "      <th>0000282d-9cc0-417b-a8ba-e9ddd0f51907</th>\n",
       "      <td>60574</td>\n",
       "      <td>443</td>\n",
       "      <td>0x1dc4c532</td>\n",
       "      <td>0xb5a48803</td>\n",
       "      <td>8</td>\n",
       "      <td>0</td>\n",
       "      <td>{'NS': 0, 'CWR': 0, 'ECE ': 0, 'URG': 0, 'ACK'...</td>\n",
       "      <td>229</td>\n",
       "      <td>0x5305</td>\n",
       "      <td>0</td>\n",
       "    </tr>\n",
       "    <tr>\n",
       "      <th>00003f54-1a7e-461a-905a-8b338ccf51ed</th>\n",
       "      <td>45150</td>\n",
       "      <td>443</td>\n",
       "      <td>0xa37c258</td>\n",
       "      <td>0xc13ad537</td>\n",
       "      <td>8</td>\n",
       "      <td>0</td>\n",
       "      <td>{'NS': 0, 'CWR': 0, 'ECE ': 0, 'URG': 0, 'ACK'...</td>\n",
       "      <td>315</td>\n",
       "      <td>0x42ec</td>\n",
       "      <td>0</td>\n",
       "    </tr>\n",
       "    <tr>\n",
       "      <th>00005ba0-df6e-4f2e-8bc7-56587e924323</th>\n",
       "      <td>20865</td>\n",
       "      <td>80</td>\n",
       "      <td>0xbefd745</td>\n",
       "      <td>0x41758925</td>\n",
       "      <td>5</td>\n",
       "      <td>0</td>\n",
       "      <td>{'NS': 0, 'CWR': 0, 'ECE ': 0, 'URG': 0, 'ACK'...</td>\n",
       "      <td>256</td>\n",
       "      <td>0xd889</td>\n",
       "      <td>0</td>\n",
       "    </tr>\n",
       "    <tr>\n",
       "      <th>000086c0-6c17-4dcb-a3f4-7687bfa50917</th>\n",
       "      <td>61611</td>\n",
       "      <td>443</td>\n",
       "      <td>0x3fb85690</td>\n",
       "      <td>0xc4271adc</td>\n",
       "      <td>8</td>\n",
       "      <td>0</td>\n",
       "      <td>{'NS': 0, 'CWR': 0, 'ECE ': 0, 'URG': 0, 'ACK'...</td>\n",
       "      <td>115</td>\n",
       "      <td>0xfee7</td>\n",
       "      <td>0</td>\n",
       "    </tr>\n",
       "    <tr>\n",
       "      <th>...</th>\n",
       "      <td>...</td>\n",
       "      <td>...</td>\n",
       "      <td>...</td>\n",
       "      <td>...</td>\n",
       "      <td>...</td>\n",
       "      <td>...</td>\n",
       "      <td>...</td>\n",
       "      <td>...</td>\n",
       "      <td>...</td>\n",
       "      <td>...</td>\n",
       "    </tr>\n",
       "    <tr>\n",
       "      <th>ffffeffd-e46f-4916-9580-6f67a7d959bf</th>\n",
       "      <td>80</td>\n",
       "      <td>40400</td>\n",
       "      <td>0x43288746</td>\n",
       "      <td>0xcc49ec38</td>\n",
       "      <td>5</td>\n",
       "      <td>0</td>\n",
       "      <td>{'NS': 0, 'CWR': 0, 'ECE ': 0, 'URG': 0, 'ACK'...</td>\n",
       "      <td>237</td>\n",
       "      <td>0xafe2</td>\n",
       "      <td>0</td>\n",
       "    </tr>\n",
       "    <tr>\n",
       "      <th>fffff010-6df7-4d05-b014-84248b8d1fad</th>\n",
       "      <td>80</td>\n",
       "      <td>58997</td>\n",
       "      <td>0x58f95a48</td>\n",
       "      <td>0x859f465c</td>\n",
       "      <td>5</td>\n",
       "      <td>0</td>\n",
       "      <td>{'NS': 0, 'CWR': 0, 'ECE ': 0, 'URG': 0, 'ACK'...</td>\n",
       "      <td>65535</td>\n",
       "      <td>0x5b96</td>\n",
       "      <td>0</td>\n",
       "    </tr>\n",
       "    <tr>\n",
       "      <th>fffff61d-3525-4938-a736-261ccb123c47</th>\n",
       "      <td>6060</td>\n",
       "      <td>54196</td>\n",
       "      <td>0xcd0aa53f</td>\n",
       "      <td>0x71e98dec</td>\n",
       "      <td>5</td>\n",
       "      <td>0</td>\n",
       "      <td>{'NS': 0, 'CWR': 0, 'ECE ': 0, 'URG': 0, 'ACK'...</td>\n",
       "      <td>123</td>\n",
       "      <td>0xcdbd</td>\n",
       "      <td>0</td>\n",
       "    </tr>\n",
       "    <tr>\n",
       "      <th>fffff716-1f43-4f5f-a62b-2d1c9a26b3ba</th>\n",
       "      <td>80</td>\n",
       "      <td>58399</td>\n",
       "      <td>0x8e3c8a7f</td>\n",
       "      <td>0x2f93c451</td>\n",
       "      <td>5</td>\n",
       "      <td>0</td>\n",
       "      <td>{'NS': 0, 'CWR': 0, 'ECE ': 0, 'URG': 0, 'ACK'...</td>\n",
       "      <td>65535</td>\n",
       "      <td>0x5dfc</td>\n",
       "      <td>0</td>\n",
       "    </tr>\n",
       "    <tr>\n",
       "      <th>fffffad2-1b0d-4b18-a3d2-c496b2b4c966</th>\n",
       "      <td>443</td>\n",
       "      <td>29726</td>\n",
       "      <td>0xef95f6c7</td>\n",
       "      <td>0x86fca6df</td>\n",
       "      <td>5</td>\n",
       "      <td>0</td>\n",
       "      <td>{'NS': 0, 'CWR': 0, 'ECE ': 0, 'URG': 0, 'ACK'...</td>\n",
       "      <td>31</td>\n",
       "      <td>0x6a21</td>\n",
       "      <td>0</td>\n",
       "    </tr>\n",
       "  </tbody>\n",
       "</table>\n",
       "<p>3354174 rows × 10 columns</p>\n",
       "</div>"
      ],
      "text/plain": [
       "                                      Source port  Destination port  \\\n",
       "0000127a-3659-4318-8dcf-9ab81f9a4050        31619                80   \n",
       "0000282d-9cc0-417b-a8ba-e9ddd0f51907        60574               443   \n",
       "00003f54-1a7e-461a-905a-8b338ccf51ed        45150               443   \n",
       "00005ba0-df6e-4f2e-8bc7-56587e924323        20865                80   \n",
       "000086c0-6c17-4dcb-a3f4-7687bfa50917        61611               443   \n",
       "...                                           ...               ...   \n",
       "ffffeffd-e46f-4916-9580-6f67a7d959bf           80             40400   \n",
       "fffff010-6df7-4d05-b014-84248b8d1fad           80             58997   \n",
       "fffff61d-3525-4938-a736-261ccb123c47         6060             54196   \n",
       "fffff716-1f43-4f5f-a62b-2d1c9a26b3ba           80             58399   \n",
       "fffffad2-1b0d-4b18-a3d2-c496b2b4c966          443             29726   \n",
       "\n",
       "                                     Sequence number Acknowledgment number  \\\n",
       "0000127a-3659-4318-8dcf-9ab81f9a4050      0xc33f6069            0x249b832b   \n",
       "0000282d-9cc0-417b-a8ba-e9ddd0f51907      0x1dc4c532            0xb5a48803   \n",
       "00003f54-1a7e-461a-905a-8b338ccf51ed       0xa37c258            0xc13ad537   \n",
       "00005ba0-df6e-4f2e-8bc7-56587e924323       0xbefd745            0x41758925   \n",
       "000086c0-6c17-4dcb-a3f4-7687bfa50917      0x3fb85690            0xc4271adc   \n",
       "...                                              ...                   ...   \n",
       "ffffeffd-e46f-4916-9580-6f67a7d959bf      0x43288746            0xcc49ec38   \n",
       "fffff010-6df7-4d05-b014-84248b8d1fad      0x58f95a48            0x859f465c   \n",
       "fffff61d-3525-4938-a736-261ccb123c47      0xcd0aa53f            0x71e98dec   \n",
       "fffff716-1f43-4f5f-a62b-2d1c9a26b3ba      0x8e3c8a7f            0x2f93c451   \n",
       "fffffad2-1b0d-4b18-a3d2-c496b2b4c966      0xef95f6c7            0x86fca6df   \n",
       "\n",
       "                                      Data offset  Reserved  \\\n",
       "0000127a-3659-4318-8dcf-9ab81f9a4050            5         0   \n",
       "0000282d-9cc0-417b-a8ba-e9ddd0f51907            8         0   \n",
       "00003f54-1a7e-461a-905a-8b338ccf51ed            8         0   \n",
       "00005ba0-df6e-4f2e-8bc7-56587e924323            5         0   \n",
       "000086c0-6c17-4dcb-a3f4-7687bfa50917            8         0   \n",
       "...                                           ...       ...   \n",
       "ffffeffd-e46f-4916-9580-6f67a7d959bf            5         0   \n",
       "fffff010-6df7-4d05-b014-84248b8d1fad            5         0   \n",
       "fffff61d-3525-4938-a736-261ccb123c47            5         0   \n",
       "fffff716-1f43-4f5f-a62b-2d1c9a26b3ba            5         0   \n",
       "fffffad2-1b0d-4b18-a3d2-c496b2b4c966            5         0   \n",
       "\n",
       "                                                                                  Flags  \\\n",
       "0000127a-3659-4318-8dcf-9ab81f9a4050  {'NS': 0, 'CWR': 0, 'ECE ': 0, 'URG': 0, 'ACK'...   \n",
       "0000282d-9cc0-417b-a8ba-e9ddd0f51907  {'NS': 0, 'CWR': 0, 'ECE ': 0, 'URG': 0, 'ACK'...   \n",
       "00003f54-1a7e-461a-905a-8b338ccf51ed  {'NS': 0, 'CWR': 0, 'ECE ': 0, 'URG': 0, 'ACK'...   \n",
       "00005ba0-df6e-4f2e-8bc7-56587e924323  {'NS': 0, 'CWR': 0, 'ECE ': 0, 'URG': 0, 'ACK'...   \n",
       "000086c0-6c17-4dcb-a3f4-7687bfa50917  {'NS': 0, 'CWR': 0, 'ECE ': 0, 'URG': 0, 'ACK'...   \n",
       "...                                                                                 ...   \n",
       "ffffeffd-e46f-4916-9580-6f67a7d959bf  {'NS': 0, 'CWR': 0, 'ECE ': 0, 'URG': 0, 'ACK'...   \n",
       "fffff010-6df7-4d05-b014-84248b8d1fad  {'NS': 0, 'CWR': 0, 'ECE ': 0, 'URG': 0, 'ACK'...   \n",
       "fffff61d-3525-4938-a736-261ccb123c47  {'NS': 0, 'CWR': 0, 'ECE ': 0, 'URG': 0, 'ACK'...   \n",
       "fffff716-1f43-4f5f-a62b-2d1c9a26b3ba  {'NS': 0, 'CWR': 0, 'ECE ': 0, 'URG': 0, 'ACK'...   \n",
       "fffffad2-1b0d-4b18-a3d2-c496b2b4c966  {'NS': 0, 'CWR': 0, 'ECE ': 0, 'URG': 0, 'ACK'...   \n",
       "\n",
       "                                      Window size Checksum  Urgent pointer  \n",
       "0000127a-3659-4318-8dcf-9ab81f9a4050          256   0xa42b               0  \n",
       "0000282d-9cc0-417b-a8ba-e9ddd0f51907          229   0x5305               0  \n",
       "00003f54-1a7e-461a-905a-8b338ccf51ed          315   0x42ec               0  \n",
       "00005ba0-df6e-4f2e-8bc7-56587e924323          256   0xd889               0  \n",
       "000086c0-6c17-4dcb-a3f4-7687bfa50917          115   0xfee7               0  \n",
       "...                                           ...      ...             ...  \n",
       "ffffeffd-e46f-4916-9580-6f67a7d959bf          237   0xafe2               0  \n",
       "fffff010-6df7-4d05-b014-84248b8d1fad        65535   0x5b96               0  \n",
       "fffff61d-3525-4938-a736-261ccb123c47          123   0xcdbd               0  \n",
       "fffff716-1f43-4f5f-a62b-2d1c9a26b3ba        65535   0x5dfc               0  \n",
       "fffffad2-1b0d-4b18-a3d2-c496b2b4c966           31   0x6a21               0  \n",
       "\n",
       "[3354174 rows x 10 columns]"
      ]
     },
     "execution_count": 32,
     "metadata": {},
     "output_type": "execute_result"
    }
   ],
   "source": [
    "tcp_df"
   ]
  },
  {
   "cell_type": "code",
   "execution_count": 34,
   "metadata": {},
   "outputs": [],
   "source": [
    "tcp_train_df = pd.merge(train_df, tcp_df, left_index=True, right_index=True, how=\"outer\")"
   ]
  },
  {
   "cell_type": "code",
   "execution_count": 38,
   "metadata": {},
   "outputs": [
    {
     "data": {
      "text/plain": [
       "Index(['Destination MAC Address', 'Source MAC Address', 'Ether Type',\n",
       "       'Version', 'Internet Header Length',\n",
       "       'Differentiated Services Code Point',\n",
       "       'Explicit Congestion Notification', 'Total Length', 'Identification',\n",
       "       'Flags_x', 'Fragment Offset', 'Time To Live', 'Protocol',\n",
       "       'Header Checksum', 'Source IP Address', 'Destination IP Address', 'TCP',\n",
       "       'Source port', 'Destination port', 'Sequence number',\n",
       "       'Acknowledgment number', 'Data offset', 'Reserved', 'Flags_y',\n",
       "       'Window size', 'Checksum', 'Urgent pointer'],\n",
       "      dtype='object')"
      ]
     },
     "execution_count": 38,
     "metadata": {},
     "output_type": "execute_result"
    }
   ],
   "source": [
    "tcp_train_df.columns"
   ]
  },
  {
   "cell_type": "code",
   "execution_count": 221,
   "metadata": {},
   "outputs": [],
   "source": [
    "train_dst_mac = tcp_train_df['Destination MAC Address']\n",
    "train_src_mac = tcp_train_df['Source MAC Address']"
   ]
  },
  {
   "cell_type": "code",
   "execution_count": 237,
   "metadata": {},
   "outputs": [],
   "source": [
    "macs = []\n",
    "for i in range(6):\n",
    "    macs.append(\"dst_mac_addr_\"+str(i))\n",
    "    macs.append(\"src_mac_addr_\"+str(i))"
   ]
  },
  {
   "cell_type": "code",
   "execution_count": 231,
   "metadata": {},
   "outputs": [],
   "source": [
    "def concat_mac_to_int(x):\n",
    "    return int(\"\".join(x.split(\":\")), 16)"
   ]
  },
  {
   "cell_type": "code",
   "execution_count": 232,
   "metadata": {},
   "outputs": [],
   "source": [
    "concat_train_dst_mac = train_dst_mac.apply(concat_mac_to_int)"
   ]
  },
  {
   "cell_type": "code",
   "execution_count": 234,
   "metadata": {},
   "outputs": [],
   "source": [
    "concat_train_src_mac = train_src_mac.apply(concat_mac_to_int)"
   ]
  },
  {
   "cell_type": "code",
   "execution_count": null,
   "metadata": {},
   "outputs": [],
   "source": []
  },
  {
   "cell_type": "code",
   "execution_count": 40,
   "metadata": {},
   "outputs": [],
   "source": [
    "cols = list(tcp_train_df.columns)"
   ]
  },
  {
   "cell_type": "code",
   "execution_count": 48,
   "metadata": {},
   "outputs": [],
   "source": [
    "def temp(x):\n",
    "    return int(x, 16)"
   ]
  },
  {
   "cell_type": "code",
   "execution_count": 49,
   "metadata": {},
   "outputs": [
    {
     "data": {
      "text/plain": [
       "0000127a-3659-4318-8dcf-9ab81f9a4050    2048\n",
       "0000282d-9cc0-417b-a8ba-e9ddd0f51907    2048\n",
       "00003f54-1a7e-461a-905a-8b338ccf51ed    2048\n",
       "00005ba0-df6e-4f2e-8bc7-56587e924323    2048\n",
       "000086c0-6c17-4dcb-a3f4-7687bfa50917    2048\n",
       "                                        ... \n",
       "ffffeffd-e46f-4916-9580-6f67a7d959bf    2048\n",
       "fffff010-6df7-4d05-b014-84248b8d1fad    2048\n",
       "fffff61d-3525-4938-a736-261ccb123c47    2048\n",
       "fffff716-1f43-4f5f-a62b-2d1c9a26b3ba    2048\n",
       "fffffad2-1b0d-4b18-a3d2-c496b2b4c966    2048\n",
       "Name: Ether Type, Length: 3354174, dtype: int64"
      ]
     },
     "execution_count": 49,
     "metadata": {},
     "output_type": "execute_result"
    }
   ],
   "source": [
    "tcp_train_df['Ether Type'].apply(temp)"
   ]
  },
  {
   "cell_type": "code",
   "execution_count": 57,
   "metadata": {},
   "outputs": [],
   "source": [
    "def Mac_split(x):\n",
    "    temp = [int(each, 16) for each in x.split(\":\")]\n",
    "    return temp"
   ]
  },
  {
   "cell_type": "code",
   "execution_count": 63,
   "metadata": {},
   "outputs": [
    {
     "data": {
      "application/vnd.jupyter.widget-view+json": {
       "model_id": "ebec9d17413c4049820c8d7c4ef80b1b",
       "version_major": 2,
       "version_minor": 0
      },
      "text/plain": [
       "HBox(children=(FloatProgress(value=0.0, max=3354174.0), HTML(value='')))"
      ]
     },
     "metadata": {},
     "output_type": "display_data"
    },
    {
     "name": "stdout",
     "output_type": "stream",
     "text": [
      "\n"
     ]
    }
   ],
   "source": [
    "des_mac = [[],[],[],[],[],[]]\n",
    "src_mac = [[],[],[],[],[],[]]\n",
    "for idx in tqdm(idxs):\n",
    "    ds_mac = tcp_train_df[\"Destination MAC Address\"][idx]\n",
    "    sc_mac = tcp_train_df[\"Source MAC Address\"][idx]\n",
    "    for i, ds in enumerate(Mac_split(ds_mac)):\n",
    "        des_mac[i].append(ds)\n",
    "    for i, sc in enumerate(Mac_split(sc_mac)):\n",
    "        src_mac[i].append(sc)\n",
    "    "
   ]
  },
  {
   "cell_type": "code",
   "execution_count": 89,
   "metadata": {},
   "outputs": [],
   "source": [
    "mac_addr_df = pd.DataFrame(data={\n",
    "    'dst_mac_addr_0':des_mac[0], 'dst_mac_addr_1':des_mac[1],\n",
    "    'dst_mac_addr_2':des_mac[2], 'dst_mac_addr_3':des_mac[3],\n",
    "    'dst_mac_addr_4':des_mac[4], 'dst_mac_addr_5':des_mac[5],\n",
    "    'src_mac_addr_0':src_mac[0], 'src_mac_addr_1':src_mac[1],\n",
    "    'src_mac_addr_2':src_mac[2], 'src_mac_addr_3':src_mac[3],\n",
    "    'src_mac_addr_4':src_mac[4], 'src_mac_addr_5':src_mac[5]\n",
    "}, index=idxs)"
   ]
  },
  {
   "cell_type": "code",
   "execution_count": 92,
   "metadata": {},
   "outputs": [],
   "source": [
    "mac_tcp_train_df = pd.merge(tcp_train_df, mac_addr_df, left_index=True, right_index=True, how=\"outer\")"
   ]
  },
  {
   "cell_type": "code",
   "execution_count": 93,
   "metadata": {},
   "outputs": [],
   "source": [
    "del mac_tcp_train_df[\"Destination MAC Address\"]\n",
    "del mac_tcp_train_df[\"Source MAC Address\"]"
   ]
  },
  {
   "cell_type": "code",
   "execution_count": 94,
   "metadata": {},
   "outputs": [],
   "source": [
    "def int_16(x):\n",
    "    return int(x, 16)"
   ]
  },
  {
   "cell_type": "code",
   "execution_count": 95,
   "metadata": {},
   "outputs": [],
   "source": [
    "mac_tcp_train_df['Ether Type'] = mac_tcp_train_df['Ether Type'].apply(int_16)\n",
    "\n",
    "mac_tcp_train_df[\"Checksum\"] = mac_tcp_train_df[\"Checksum\"].apply(int_16)"
   ]
  },
  {
   "cell_type": "code",
   "execution_count": 84,
   "metadata": {},
   "outputs": [],
   "source": [
    "def ip_split(x):\n",
    "    return x.split(\".\")"
   ]
  },
  {
   "cell_type": "code",
   "execution_count": 85,
   "metadata": {},
   "outputs": [
    {
     "data": {
      "text/plain": [
       "['203', '237', '44', '20']"
      ]
     },
     "execution_count": 85,
     "metadata": {},
     "output_type": "execute_result"
    }
   ],
   "source": [
    "ip_split('203.237.44.20')"
   ]
  },
  {
   "cell_type": "code",
   "execution_count": 86,
   "metadata": {},
   "outputs": [
    {
     "data": {
      "application/vnd.jupyter.widget-view+json": {
       "model_id": "ec22d0382d794c8eac605ce4127cc7d0",
       "version_major": 2,
       "version_minor": 0
      },
      "text/plain": [
       "HBox(children=(FloatProgress(value=0.0, max=3354174.0), HTML(value='')))"
      ]
     },
     "metadata": {},
     "output_type": "display_data"
    },
    {
     "name": "stdout",
     "output_type": "stream",
     "text": [
      "\n"
     ]
    }
   ],
   "source": [
    "des_ip = [[],[],[],[]]\n",
    "src_ip = [[],[],[],[]]\n",
    "for idx in tqdm(idxs):\n",
    "    ds_ip = mac_tcp_train_df[\"Destination IP Address\"][idx]\n",
    "    sc_ip = mac_tcp_train_df[\"Source IP Address\"][idx]\n",
    "    for i, ds in enumerate(ip_split(ds_ip)):\n",
    "        des_ip[i].append(ds)\n",
    "    for i, sc in enumerate(ip_split(sc_ip)):\n",
    "        src_ip[i].append(sc)"
   ]
  },
  {
   "cell_type": "code",
   "execution_count": null,
   "metadata": {},
   "outputs": [],
   "source": []
  },
  {
   "cell_type": "code",
   "execution_count": 98,
   "metadata": {},
   "outputs": [],
   "source": [
    "ip_addr_df = pd.DataFrame(data={\n",
    "    'dst_ip_addr_0':des_ip[0], 'dst_ip_addr_1':des_ip[1],\n",
    "    'dst_ip_addr_2':des_ip[2], 'dst_ip_addr_3':des_ip[3],\n",
    "    'src_ip_addr_0':src_ip[0], 'src_ip_addr_1':src_ip[1],\n",
    "    'src_ip_addr_2':src_ip[2], 'src_ip_addr_3':src_ip[3]\n",
    "}, index=idxs)"
   ]
  },
  {
   "cell_type": "code",
   "execution_count": 99,
   "metadata": {},
   "outputs": [],
   "source": [
    "ip_mac_tcp_train_df = pd.merge(mac_tcp_train_df, ip_addr_df, left_index=True, right_index=True, how=\"outer\")"
   ]
  },
  {
   "cell_type": "code",
   "execution_count": 101,
   "metadata": {},
   "outputs": [],
   "source": [
    "pd.set_option('display.max_columns', 500)"
   ]
  },
  {
   "cell_type": "code",
   "execution_count": 103,
   "metadata": {},
   "outputs": [],
   "source": [
    "ip_mac_tcp_train_df['Header Checksum'] = ip_mac_tcp_train_df['Header Checksum'].apply(int_16)"
   ]
  },
  {
   "cell_type": "code",
   "execution_count": 104,
   "metadata": {},
   "outputs": [],
   "source": [
    "del ip_mac_tcp_train_df['Source IP Address']\n",
    "del ip_mac_tcp_train_df['Destination IP Address']"
   ]
  },
  {
   "cell_type": "code",
   "execution_count": 106,
   "metadata": {},
   "outputs": [],
   "source": [
    "del ip_mac_tcp_train_df[\"TCP\"]"
   ]
  },
  {
   "cell_type": "code",
   "execution_count": 108,
   "metadata": {},
   "outputs": [],
   "source": [
    "ip_mac_tcp_train_df['Sequence number'] = ip_mac_tcp_train_df['Sequence number'].apply(int_16)\n",
    "\n",
    "ip_mac_tcp_train_df['Acknowledgment number'] = ip_mac_tcp_train_df['Acknowledgment number'].apply(int_16)"
   ]
  },
  {
   "cell_type": "code",
   "execution_count": 120,
   "metadata": {},
   "outputs": [
    {
     "data": {
      "application/vnd.jupyter.widget-view+json": {
       "model_id": "f32cc7e190064d7fa1accd841c00bb05",
       "version_major": 2,
       "version_minor": 0
      },
      "text/plain": [
       "HBox(children=(FloatProgress(value=0.0, max=3354174.0), HTML(value='')))"
      ]
     },
     "metadata": {},
     "output_type": "display_data"
    },
    {
     "name": "stdout",
     "output_type": "stream",
     "text": [
      "\n"
     ]
    }
   ],
   "source": [
    "flags = []\n",
    "for _ in range(9):\n",
    "    flags.append([])\n",
    "    \n",
    "for idx in tqdm(idxs):\n",
    "    for i, v in enumerate(list(ip_mac_tcp_train_df[\"Flags_y\"][idx].values())):\n",
    "        flags[i].append(v)"
   ]
  },
  {
   "cell_type": "code",
   "execution_count": 122,
   "metadata": {},
   "outputs": [],
   "source": [
    "flags_df = pd.DataFrame(data={\n",
    "    \"flags0\":flags[0], \"flags0\":flags[0],\n",
    "    \"flags2\":flags[2], \"flags1\":flags[1],\n",
    "    \"flags4\":flags[4], \"flags3\":flags[3],\n",
    "    \"flags6\":flags[6], \"flags5\":flags[5],\n",
    "    \"flags8\":flags[8]    \n",
    "}, index=idxs)"
   ]
  },
  {
   "cell_type": "code",
   "execution_count": 123,
   "metadata": {},
   "outputs": [],
   "source": [
    "flag_ip_mac_tcp_train_df = pd.merge(ip_mac_tcp_train_df, flags_df, left_index=True, right_index=True, how=\"outer\")"
   ]
  },
  {
   "cell_type": "code",
   "execution_count": 125,
   "metadata": {},
   "outputs": [],
   "source": [
    "del flag_ip_mac_tcp_train_df['Flags_y']"
   ]
  },
  {
   "cell_type": "code",
   "execution_count": 235,
   "metadata": {},
   "outputs": [],
   "source": [
    "flag_ip_mac_tcp_train_df[\"concat_src_mac\"] = concat_train_src_mac\n",
    "flag_ip_mac_tcp_train_df[\"concat_dst_mac\"] = concat_train_dst_mac"
   ]
  },
  {
   "cell_type": "code",
   "execution_count": 37,
   "metadata": {},
   "outputs": [],
   "source": [
    "analy_1 = pd.read_pickle(\"E:/full_data/data/protocols/network/HH/train_1_df_label.pkl\")"
   ]
  },
  {
   "cell_type": "code",
   "execution_count": 129,
   "metadata": {},
   "outputs": [],
   "source": [
    "analy_2 = pd.read_pickle(\"E:/full_data/data/protocols/network/HH/train_2_df_label.pkl\")"
   ]
  },
  {
   "cell_type": "code",
   "execution_count": 130,
   "metadata": {},
   "outputs": [
    {
     "data": {
      "application/vnd.jupyter.widget-view+json": {
       "model_id": "cd3bcf08fbfd4c76af699e9a8d32dbe6",
       "version_major": 2,
       "version_minor": 0
      },
      "text/plain": [
       "HBox(children=(FloatProgress(value=0.0, max=3354174.0), HTML(value='')))"
      ]
     },
     "metadata": {},
     "output_type": "display_data"
    },
    {
     "name": "stdout",
     "output_type": "stream",
     "text": [
      "\n"
     ]
    }
   ],
   "source": [
    "label = []\n",
    "for idx in tqdm(idxs):\n",
    "    if idx in analy_1:\n",
    "        label.append(1)\n",
    "    else:\n",
    "        label.append(0)"
   ]
  },
  {
   "cell_type": "code",
   "execution_count": 132,
   "metadata": {},
   "outputs": [],
   "source": [
    "flag_ip_mac_tcp_train_df['label'] = label"
   ]
  },
  {
   "cell_type": "code",
   "execution_count": 134,
   "metadata": {},
   "outputs": [],
   "source": [
    "labels = flag_ip_mac_tcp_train_df['label']"
   ]
  },
  {
   "cell_type": "code",
   "execution_count": 135,
   "metadata": {},
   "outputs": [],
   "source": [
    "del flag_ip_mac_tcp_train_df['label']"
   ]
  },
  {
   "cell_type": "code",
   "execution_count": 136,
   "metadata": {},
   "outputs": [],
   "source": [
    "from sklearn.ensemble import RandomForestClassifier\n",
    "from sklearn import metrics"
   ]
  },
  {
   "cell_type": "code",
   "execution_count": 137,
   "metadata": {},
   "outputs": [
    {
     "data": {
      "text/plain": [
       "RandomForestClassifier(bootstrap=True, ccp_alpha=0.0, class_weight=None,\n",
       "                       criterion='gini', max_depth=None, max_features='auto',\n",
       "                       max_leaf_nodes=None, max_samples=None,\n",
       "                       min_impurity_decrease=0.0, min_impurity_split=None,\n",
       "                       min_samples_leaf=1, min_samples_split=2,\n",
       "                       min_weight_fraction_leaf=0.0, n_estimators=100,\n",
       "                       n_jobs=None, oob_score=False, random_state=None,\n",
       "                       verbose=0, warm_start=False)"
      ]
     },
     "execution_count": 137,
     "metadata": {},
     "output_type": "execute_result"
    }
   ],
   "source": [
    "\n",
    "forest = RandomForestClassifier(n_estimators=100)\n",
    "forest.fit(flag_ip_mac_tcp_train_df, labels)"
   ]
  },
  {
   "cell_type": "code",
   "execution_count": 240,
   "metadata": {},
   "outputs": [],
   "source": [
    "for mac in macs:\n",
    "    del flag_ip_mac_tcp_train_df[mac]"
   ]
  },
  {
   "cell_type": "code",
   "execution_count": 241,
   "metadata": {},
   "outputs": [
    {
     "data": {
      "text/html": [
       "<div>\n",
       "<style scoped>\n",
       "    .dataframe tbody tr th:only-of-type {\n",
       "        vertical-align: middle;\n",
       "    }\n",
       "\n",
       "    .dataframe tbody tr th {\n",
       "        vertical-align: top;\n",
       "    }\n",
       "\n",
       "    .dataframe thead th {\n",
       "        text-align: right;\n",
       "    }\n",
       "</style>\n",
       "<table border=\"1\" class=\"dataframe\">\n",
       "  <thead>\n",
       "    <tr style=\"text-align: right;\">\n",
       "      <th></th>\n",
       "      <th>Ether Type</th>\n",
       "      <th>Version</th>\n",
       "      <th>Internet Header Length</th>\n",
       "      <th>Differentiated Services Code Point</th>\n",
       "      <th>Explicit Congestion Notification</th>\n",
       "      <th>Total Length</th>\n",
       "      <th>Identification</th>\n",
       "      <th>Flags_x</th>\n",
       "      <th>Fragment Offset</th>\n",
       "      <th>Time To Live</th>\n",
       "      <th>Protocol</th>\n",
       "      <th>Header Checksum</th>\n",
       "      <th>Source port</th>\n",
       "      <th>Destination port</th>\n",
       "      <th>Sequence number</th>\n",
       "      <th>Acknowledgment number</th>\n",
       "      <th>Data offset</th>\n",
       "      <th>Reserved</th>\n",
       "      <th>Window size</th>\n",
       "      <th>Checksum</th>\n",
       "      <th>Urgent pointer</th>\n",
       "      <th>dst_ip_addr_0</th>\n",
       "      <th>dst_ip_addr_1</th>\n",
       "      <th>dst_ip_addr_2</th>\n",
       "      <th>dst_ip_addr_3</th>\n",
       "      <th>src_ip_addr_0</th>\n",
       "      <th>src_ip_addr_1</th>\n",
       "      <th>src_ip_addr_2</th>\n",
       "      <th>src_ip_addr_3</th>\n",
       "      <th>flags0</th>\n",
       "      <th>flags2</th>\n",
       "      <th>flags1</th>\n",
       "      <th>flags4</th>\n",
       "      <th>flags3</th>\n",
       "      <th>flags6</th>\n",
       "      <th>flags5</th>\n",
       "      <th>flags8</th>\n",
       "      <th>concat_src_mac</th>\n",
       "      <th>concat_dst_mac</th>\n",
       "    </tr>\n",
       "  </thead>\n",
       "  <tbody>\n",
       "    <tr>\n",
       "      <th>0000127a-3659-4318-8dcf-9ab81f9a4050</th>\n",
       "      <td>2048</td>\n",
       "      <td>4</td>\n",
       "      <td>5</td>\n",
       "      <td>0</td>\n",
       "      <td>0</td>\n",
       "      <td>1500</td>\n",
       "      <td>30401</td>\n",
       "      <td>2</td>\n",
       "      <td>0</td>\n",
       "      <td>124</td>\n",
       "      <td>6</td>\n",
       "      <td>52508</td>\n",
       "      <td>31619</td>\n",
       "      <td>80</td>\n",
       "      <td>3275710569</td>\n",
       "      <td>614171435</td>\n",
       "      <td>5</td>\n",
       "      <td>0</td>\n",
       "      <td>256</td>\n",
       "      <td>42027</td>\n",
       "      <td>0</td>\n",
       "      <td>128</td>\n",
       "      <td>208</td>\n",
       "      <td>60</td>\n",
       "      <td>108</td>\n",
       "      <td>203</td>\n",
       "      <td>237</td>\n",
       "      <td>44</td>\n",
       "      <td>20</td>\n",
       "      <td>0</td>\n",
       "      <td>0</td>\n",
       "      <td>0</td>\n",
       "      <td>1</td>\n",
       "      <td>0</td>\n",
       "      <td>0</td>\n",
       "      <td>0</td>\n",
       "      <td>0</td>\n",
       "      <td>112490399296</td>\n",
       "      <td>97113814912</td>\n",
       "    </tr>\n",
       "    <tr>\n",
       "      <th>0000282d-9cc0-417b-a8ba-e9ddd0f51907</th>\n",
       "      <td>2048</td>\n",
       "      <td>4</td>\n",
       "      <td>5</td>\n",
       "      <td>0</td>\n",
       "      <td>0</td>\n",
       "      <td>345</td>\n",
       "      <td>25865</td>\n",
       "      <td>2</td>\n",
       "      <td>0</td>\n",
       "      <td>59</td>\n",
       "      <td>6</td>\n",
       "      <td>23219</td>\n",
       "      <td>60574</td>\n",
       "      <td>443</td>\n",
       "      <td>499434802</td>\n",
       "      <td>3047458819</td>\n",
       "      <td>8</td>\n",
       "      <td>0</td>\n",
       "      <td>229</td>\n",
       "      <td>21253</td>\n",
       "      <td>0</td>\n",
       "      <td>188</td>\n",
       "      <td>165</td>\n",
       "      <td>214</td>\n",
       "      <td>76</td>\n",
       "      <td>143</td>\n",
       "      <td>248</td>\n",
       "      <td>91</td>\n",
       "      <td>248</td>\n",
       "      <td>0</td>\n",
       "      <td>0</td>\n",
       "      <td>0</td>\n",
       "      <td>1</td>\n",
       "      <td>0</td>\n",
       "      <td>0</td>\n",
       "      <td>1</td>\n",
       "      <td>0</td>\n",
       "      <td>88226781932672</td>\n",
       "      <td>211551555070016</td>\n",
       "    </tr>\n",
       "    <tr>\n",
       "      <th>00003f54-1a7e-461a-905a-8b338ccf51ed</th>\n",
       "      <td>2048</td>\n",
       "      <td>4</td>\n",
       "      <td>5</td>\n",
       "      <td>0</td>\n",
       "      <td>0</td>\n",
       "      <td>60</td>\n",
       "      <td>22946</td>\n",
       "      <td>2</td>\n",
       "      <td>0</td>\n",
       "      <td>50</td>\n",
       "      <td>6</td>\n",
       "      <td>30432</td>\n",
       "      <td>45150</td>\n",
       "      <td>443</td>\n",
       "      <td>171426392</td>\n",
       "      <td>3241858359</td>\n",
       "      <td>8</td>\n",
       "      <td>0</td>\n",
       "      <td>315</td>\n",
       "      <td>17132</td>\n",
       "      <td>0</td>\n",
       "      <td>210</td>\n",
       "      <td>98</td>\n",
       "      <td>26</td>\n",
       "      <td>244</td>\n",
       "      <td>185</td>\n",
       "      <td>222</td>\n",
       "      <td>209</td>\n",
       "      <td>4</td>\n",
       "      <td>0</td>\n",
       "      <td>0</td>\n",
       "      <td>0</td>\n",
       "      <td>1</td>\n",
       "      <td>0</td>\n",
       "      <td>0</td>\n",
       "      <td>1</td>\n",
       "      <td>0</td>\n",
       "      <td>83200487040</td>\n",
       "      <td>189803579077441</td>\n",
       "    </tr>\n",
       "    <tr>\n",
       "      <th>00005ba0-df6e-4f2e-8bc7-56587e924323</th>\n",
       "      <td>2048</td>\n",
       "      <td>4</td>\n",
       "      <td>5</td>\n",
       "      <td>0</td>\n",
       "      <td>0</td>\n",
       "      <td>1500</td>\n",
       "      <td>20320</td>\n",
       "      <td>2</td>\n",
       "      <td>0</td>\n",
       "      <td>124</td>\n",
       "      <td>6</td>\n",
       "      <td>57657</td>\n",
       "      <td>20865</td>\n",
       "      <td>80</td>\n",
       "      <td>200267589</td>\n",
       "      <td>1098221861</td>\n",
       "      <td>5</td>\n",
       "      <td>0</td>\n",
       "      <td>256</td>\n",
       "      <td>55433</td>\n",
       "      <td>0</td>\n",
       "      <td>104</td>\n",
       "      <td>67</td>\n",
       "      <td>104</td>\n",
       "      <td>61</td>\n",
       "      <td>203</td>\n",
       "      <td>237</td>\n",
       "      <td>44</td>\n",
       "      <td>20</td>\n",
       "      <td>0</td>\n",
       "      <td>0</td>\n",
       "      <td>0</td>\n",
       "      <td>1</td>\n",
       "      <td>0</td>\n",
       "      <td>0</td>\n",
       "      <td>0</td>\n",
       "      <td>0</td>\n",
       "      <td>112490399296</td>\n",
       "      <td>97113814912</td>\n",
       "    </tr>\n",
       "    <tr>\n",
       "      <th>000086c0-6c17-4dcb-a3f4-7687bfa50917</th>\n",
       "      <td>2048</td>\n",
       "      <td>4</td>\n",
       "      <td>5</td>\n",
       "      <td>0</td>\n",
       "      <td>0</td>\n",
       "      <td>286</td>\n",
       "      <td>50166</td>\n",
       "      <td>2</td>\n",
       "      <td>0</td>\n",
       "      <td>55</td>\n",
       "      <td>6</td>\n",
       "      <td>20864</td>\n",
       "      <td>61611</td>\n",
       "      <td>443</td>\n",
       "      <td>1069045392</td>\n",
       "      <td>3290897116</td>\n",
       "      <td>8</td>\n",
       "      <td>0</td>\n",
       "      <td>115</td>\n",
       "      <td>65255</td>\n",
       "      <td>0</td>\n",
       "      <td>45</td>\n",
       "      <td>125</td>\n",
       "      <td>194</td>\n",
       "      <td>34</td>\n",
       "      <td>121</td>\n",
       "      <td>181</td>\n",
       "      <td>196</td>\n",
       "      <td>14</td>\n",
       "      <td>0</td>\n",
       "      <td>0</td>\n",
       "      <td>0</td>\n",
       "      <td>1</td>\n",
       "      <td>0</td>\n",
       "      <td>0</td>\n",
       "      <td>1</td>\n",
       "      <td>0</td>\n",
       "      <td>106225803332964</td>\n",
       "      <td>47029714112</td>\n",
       "    </tr>\n",
       "    <tr>\n",
       "      <th>...</th>\n",
       "      <td>...</td>\n",
       "      <td>...</td>\n",
       "      <td>...</td>\n",
       "      <td>...</td>\n",
       "      <td>...</td>\n",
       "      <td>...</td>\n",
       "      <td>...</td>\n",
       "      <td>...</td>\n",
       "      <td>...</td>\n",
       "      <td>...</td>\n",
       "      <td>...</td>\n",
       "      <td>...</td>\n",
       "      <td>...</td>\n",
       "      <td>...</td>\n",
       "      <td>...</td>\n",
       "      <td>...</td>\n",
       "      <td>...</td>\n",
       "      <td>...</td>\n",
       "      <td>...</td>\n",
       "      <td>...</td>\n",
       "      <td>...</td>\n",
       "      <td>...</td>\n",
       "      <td>...</td>\n",
       "      <td>...</td>\n",
       "      <td>...</td>\n",
       "      <td>...</td>\n",
       "      <td>...</td>\n",
       "      <td>...</td>\n",
       "      <td>...</td>\n",
       "      <td>...</td>\n",
       "      <td>...</td>\n",
       "      <td>...</td>\n",
       "      <td>...</td>\n",
       "      <td>...</td>\n",
       "      <td>...</td>\n",
       "      <td>...</td>\n",
       "      <td>...</td>\n",
       "      <td>...</td>\n",
       "      <td>...</td>\n",
       "    </tr>\n",
       "    <tr>\n",
       "      <th>ffffeffd-e46f-4916-9580-6f67a7d959bf</th>\n",
       "      <td>2048</td>\n",
       "      <td>4</td>\n",
       "      <td>5</td>\n",
       "      <td>0</td>\n",
       "      <td>0</td>\n",
       "      <td>1500</td>\n",
       "      <td>27455</td>\n",
       "      <td>2</td>\n",
       "      <td>0</td>\n",
       "      <td>53</td>\n",
       "      <td>6</td>\n",
       "      <td>53988</td>\n",
       "      <td>80</td>\n",
       "      <td>40400</td>\n",
       "      <td>1126729542</td>\n",
       "      <td>3427396664</td>\n",
       "      <td>5</td>\n",
       "      <td>0</td>\n",
       "      <td>237</td>\n",
       "      <td>45026</td>\n",
       "      <td>0</td>\n",
       "      <td>203</td>\n",
       "      <td>230</td>\n",
       "      <td>52</td>\n",
       "      <td>3</td>\n",
       "      <td>121</td>\n",
       "      <td>254</td>\n",
       "      <td>136</td>\n",
       "      <td>16</td>\n",
       "      <td>0</td>\n",
       "      <td>0</td>\n",
       "      <td>0</td>\n",
       "      <td>1</td>\n",
       "      <td>0</td>\n",
       "      <td>0</td>\n",
       "      <td>0</td>\n",
       "      <td>0</td>\n",
       "      <td>97113814912</td>\n",
       "      <td>112490399296</td>\n",
       "    </tr>\n",
       "    <tr>\n",
       "      <th>fffff010-6df7-4d05-b014-84248b8d1fad</th>\n",
       "      <td>2048</td>\n",
       "      <td>4</td>\n",
       "      <td>5</td>\n",
       "      <td>0</td>\n",
       "      <td>0</td>\n",
       "      <td>40</td>\n",
       "      <td>39972</td>\n",
       "      <td>2</td>\n",
       "      <td>0</td>\n",
       "      <td>44</td>\n",
       "      <td>6</td>\n",
       "      <td>50288</td>\n",
       "      <td>80</td>\n",
       "      <td>58997</td>\n",
       "      <td>1492736584</td>\n",
       "      <td>2241807964</td>\n",
       "      <td>5</td>\n",
       "      <td>0</td>\n",
       "      <td>65535</td>\n",
       "      <td>23446</td>\n",
       "      <td>0</td>\n",
       "      <td>218</td>\n",
       "      <td>49</td>\n",
       "      <td>22</td>\n",
       "      <td>81</td>\n",
       "      <td>211</td>\n",
       "      <td>114</td>\n",
       "      <td>42</td>\n",
       "      <td>70</td>\n",
       "      <td>0</td>\n",
       "      <td>0</td>\n",
       "      <td>0</td>\n",
       "      <td>1</td>\n",
       "      <td>0</td>\n",
       "      <td>0</td>\n",
       "      <td>0</td>\n",
       "      <td>0</td>\n",
       "      <td>896767197125</td>\n",
       "      <td>618663970892</td>\n",
       "    </tr>\n",
       "    <tr>\n",
       "      <th>fffff61d-3525-4938-a736-261ccb123c47</th>\n",
       "      <td>2048</td>\n",
       "      <td>4</td>\n",
       "      <td>5</td>\n",
       "      <td>0</td>\n",
       "      <td>0</td>\n",
       "      <td>40</td>\n",
       "      <td>8348</td>\n",
       "      <td>2</td>\n",
       "      <td>0</td>\n",
       "      <td>53</td>\n",
       "      <td>6</td>\n",
       "      <td>41241</td>\n",
       "      <td>6060</td>\n",
       "      <td>54196</td>\n",
       "      <td>3440026943</td>\n",
       "      <td>1911131628</td>\n",
       "      <td>5</td>\n",
       "      <td>0</td>\n",
       "      <td>123</td>\n",
       "      <td>52669</td>\n",
       "      <td>0</td>\n",
       "      <td>203</td>\n",
       "      <td>246</td>\n",
       "      <td>118</td>\n",
       "      <td>113</td>\n",
       "      <td>182</td>\n",
       "      <td>162</td>\n",
       "      <td>139</td>\n",
       "      <td>16</td>\n",
       "      <td>0</td>\n",
       "      <td>0</td>\n",
       "      <td>0</td>\n",
       "      <td>1</td>\n",
       "      <td>0</td>\n",
       "      <td>0</td>\n",
       "      <td>0</td>\n",
       "      <td>0</td>\n",
       "      <td>238257139002241</td>\n",
       "      <td>29066665506</td>\n",
       "    </tr>\n",
       "    <tr>\n",
       "      <th>fffff716-1f43-4f5f-a62b-2d1c9a26b3ba</th>\n",
       "      <td>2048</td>\n",
       "      <td>4</td>\n",
       "      <td>5</td>\n",
       "      <td>0</td>\n",
       "      <td>0</td>\n",
       "      <td>40</td>\n",
       "      <td>114</td>\n",
       "      <td>2</td>\n",
       "      <td>0</td>\n",
       "      <td>63</td>\n",
       "      <td>6</td>\n",
       "      <td>55959</td>\n",
       "      <td>80</td>\n",
       "      <td>58399</td>\n",
       "      <td>2386332287</td>\n",
       "      <td>798213201</td>\n",
       "      <td>5</td>\n",
       "      <td>0</td>\n",
       "      <td>65535</td>\n",
       "      <td>24060</td>\n",
       "      <td>0</td>\n",
       "      <td>220</td>\n",
       "      <td>95</td>\n",
       "      <td>254</td>\n",
       "      <td>10</td>\n",
       "      <td>211</td>\n",
       "      <td>40</td>\n",
       "      <td>179</td>\n",
       "      <td>51</td>\n",
       "      <td>0</td>\n",
       "      <td>0</td>\n",
       "      <td>0</td>\n",
       "      <td>1</td>\n",
       "      <td>0</td>\n",
       "      <td>0</td>\n",
       "      <td>0</td>\n",
       "      <td>1</td>\n",
       "      <td>163544444160</td>\n",
       "      <td>893392113664</td>\n",
       "    </tr>\n",
       "    <tr>\n",
       "      <th>fffffad2-1b0d-4b18-a3d2-c496b2b4c966</th>\n",
       "      <td>2048</td>\n",
       "      <td>4</td>\n",
       "      <td>5</td>\n",
       "      <td>0</td>\n",
       "      <td>0</td>\n",
       "      <td>40</td>\n",
       "      <td>43142</td>\n",
       "      <td>2</td>\n",
       "      <td>0</td>\n",
       "      <td>54</td>\n",
       "      <td>6</td>\n",
       "      <td>57545</td>\n",
       "      <td>443</td>\n",
       "      <td>29726</td>\n",
       "      <td>4019582663</td>\n",
       "      <td>2264704735</td>\n",
       "      <td>5</td>\n",
       "      <td>0</td>\n",
       "      <td>31</td>\n",
       "      <td>27169</td>\n",
       "      <td>0</td>\n",
       "      <td>10</td>\n",
       "      <td>40</td>\n",
       "      <td>8</td>\n",
       "      <td>22</td>\n",
       "      <td>104</td>\n",
       "      <td>16</td>\n",
       "      <td>65</td>\n",
       "      <td>50</td>\n",
       "      <td>0</td>\n",
       "      <td>0</td>\n",
       "      <td>0</td>\n",
       "      <td>1</td>\n",
       "      <td>0</td>\n",
       "      <td>0</td>\n",
       "      <td>0</td>\n",
       "      <td>1</td>\n",
       "      <td>128157406096288</td>\n",
       "      <td>155569840384</td>\n",
       "    </tr>\n",
       "  </tbody>\n",
       "</table>\n",
       "<p>3354174 rows × 39 columns</p>\n",
       "</div>"
      ],
      "text/plain": [
       "                                      Ether Type Version  \\\n",
       "0000127a-3659-4318-8dcf-9ab81f9a4050        2048       4   \n",
       "0000282d-9cc0-417b-a8ba-e9ddd0f51907        2048       4   \n",
       "00003f54-1a7e-461a-905a-8b338ccf51ed        2048       4   \n",
       "00005ba0-df6e-4f2e-8bc7-56587e924323        2048       4   \n",
       "000086c0-6c17-4dcb-a3f4-7687bfa50917        2048       4   \n",
       "...                                          ...     ...   \n",
       "ffffeffd-e46f-4916-9580-6f67a7d959bf        2048       4   \n",
       "fffff010-6df7-4d05-b014-84248b8d1fad        2048       4   \n",
       "fffff61d-3525-4938-a736-261ccb123c47        2048       4   \n",
       "fffff716-1f43-4f5f-a62b-2d1c9a26b3ba        2048       4   \n",
       "fffffad2-1b0d-4b18-a3d2-c496b2b4c966        2048       4   \n",
       "\n",
       "                                     Internet Header Length  \\\n",
       "0000127a-3659-4318-8dcf-9ab81f9a4050                      5   \n",
       "0000282d-9cc0-417b-a8ba-e9ddd0f51907                      5   \n",
       "00003f54-1a7e-461a-905a-8b338ccf51ed                      5   \n",
       "00005ba0-df6e-4f2e-8bc7-56587e924323                      5   \n",
       "000086c0-6c17-4dcb-a3f4-7687bfa50917                      5   \n",
       "...                                                     ...   \n",
       "ffffeffd-e46f-4916-9580-6f67a7d959bf                      5   \n",
       "fffff010-6df7-4d05-b014-84248b8d1fad                      5   \n",
       "fffff61d-3525-4938-a736-261ccb123c47                      5   \n",
       "fffff716-1f43-4f5f-a62b-2d1c9a26b3ba                      5   \n",
       "fffffad2-1b0d-4b18-a3d2-c496b2b4c966                      5   \n",
       "\n",
       "                                     Differentiated Services Code Point  \\\n",
       "0000127a-3659-4318-8dcf-9ab81f9a4050                                  0   \n",
       "0000282d-9cc0-417b-a8ba-e9ddd0f51907                                  0   \n",
       "00003f54-1a7e-461a-905a-8b338ccf51ed                                  0   \n",
       "00005ba0-df6e-4f2e-8bc7-56587e924323                                  0   \n",
       "000086c0-6c17-4dcb-a3f4-7687bfa50917                                  0   \n",
       "...                                                                 ...   \n",
       "ffffeffd-e46f-4916-9580-6f67a7d959bf                                  0   \n",
       "fffff010-6df7-4d05-b014-84248b8d1fad                                  0   \n",
       "fffff61d-3525-4938-a736-261ccb123c47                                  0   \n",
       "fffff716-1f43-4f5f-a62b-2d1c9a26b3ba                                  0   \n",
       "fffffad2-1b0d-4b18-a3d2-c496b2b4c966                                  0   \n",
       "\n",
       "                                     Explicit Congestion Notification  \\\n",
       "0000127a-3659-4318-8dcf-9ab81f9a4050                                0   \n",
       "0000282d-9cc0-417b-a8ba-e9ddd0f51907                                0   \n",
       "00003f54-1a7e-461a-905a-8b338ccf51ed                                0   \n",
       "00005ba0-df6e-4f2e-8bc7-56587e924323                                0   \n",
       "000086c0-6c17-4dcb-a3f4-7687bfa50917                                0   \n",
       "...                                                               ...   \n",
       "ffffeffd-e46f-4916-9580-6f67a7d959bf                                0   \n",
       "fffff010-6df7-4d05-b014-84248b8d1fad                                0   \n",
       "fffff61d-3525-4938-a736-261ccb123c47                                0   \n",
       "fffff716-1f43-4f5f-a62b-2d1c9a26b3ba                                0   \n",
       "fffffad2-1b0d-4b18-a3d2-c496b2b4c966                                0   \n",
       "\n",
       "                                     Total Length Identification Flags_x  \\\n",
       "0000127a-3659-4318-8dcf-9ab81f9a4050         1500          30401       2   \n",
       "0000282d-9cc0-417b-a8ba-e9ddd0f51907          345          25865       2   \n",
       "00003f54-1a7e-461a-905a-8b338ccf51ed           60          22946       2   \n",
       "00005ba0-df6e-4f2e-8bc7-56587e924323         1500          20320       2   \n",
       "000086c0-6c17-4dcb-a3f4-7687bfa50917          286          50166       2   \n",
       "...                                           ...            ...     ...   \n",
       "ffffeffd-e46f-4916-9580-6f67a7d959bf         1500          27455       2   \n",
       "fffff010-6df7-4d05-b014-84248b8d1fad           40          39972       2   \n",
       "fffff61d-3525-4938-a736-261ccb123c47           40           8348       2   \n",
       "fffff716-1f43-4f5f-a62b-2d1c9a26b3ba           40            114       2   \n",
       "fffffad2-1b0d-4b18-a3d2-c496b2b4c966           40          43142       2   \n",
       "\n",
       "                                     Fragment Offset Time To Live Protocol  \\\n",
       "0000127a-3659-4318-8dcf-9ab81f9a4050               0          124        6   \n",
       "0000282d-9cc0-417b-a8ba-e9ddd0f51907               0           59        6   \n",
       "00003f54-1a7e-461a-905a-8b338ccf51ed               0           50        6   \n",
       "00005ba0-df6e-4f2e-8bc7-56587e924323               0          124        6   \n",
       "000086c0-6c17-4dcb-a3f4-7687bfa50917               0           55        6   \n",
       "...                                              ...          ...      ...   \n",
       "ffffeffd-e46f-4916-9580-6f67a7d959bf               0           53        6   \n",
       "fffff010-6df7-4d05-b014-84248b8d1fad               0           44        6   \n",
       "fffff61d-3525-4938-a736-261ccb123c47               0           53        6   \n",
       "fffff716-1f43-4f5f-a62b-2d1c9a26b3ba               0           63        6   \n",
       "fffffad2-1b0d-4b18-a3d2-c496b2b4c966               0           54        6   \n",
       "\n",
       "                                      Header Checksum  Source port  \\\n",
       "0000127a-3659-4318-8dcf-9ab81f9a4050            52508        31619   \n",
       "0000282d-9cc0-417b-a8ba-e9ddd0f51907            23219        60574   \n",
       "00003f54-1a7e-461a-905a-8b338ccf51ed            30432        45150   \n",
       "00005ba0-df6e-4f2e-8bc7-56587e924323            57657        20865   \n",
       "000086c0-6c17-4dcb-a3f4-7687bfa50917            20864        61611   \n",
       "...                                               ...          ...   \n",
       "ffffeffd-e46f-4916-9580-6f67a7d959bf            53988           80   \n",
       "fffff010-6df7-4d05-b014-84248b8d1fad            50288           80   \n",
       "fffff61d-3525-4938-a736-261ccb123c47            41241         6060   \n",
       "fffff716-1f43-4f5f-a62b-2d1c9a26b3ba            55959           80   \n",
       "fffffad2-1b0d-4b18-a3d2-c496b2b4c966            57545          443   \n",
       "\n",
       "                                      Destination port  Sequence number  \\\n",
       "0000127a-3659-4318-8dcf-9ab81f9a4050                80       3275710569   \n",
       "0000282d-9cc0-417b-a8ba-e9ddd0f51907               443        499434802   \n",
       "00003f54-1a7e-461a-905a-8b338ccf51ed               443        171426392   \n",
       "00005ba0-df6e-4f2e-8bc7-56587e924323                80        200267589   \n",
       "000086c0-6c17-4dcb-a3f4-7687bfa50917               443       1069045392   \n",
       "...                                                ...              ...   \n",
       "ffffeffd-e46f-4916-9580-6f67a7d959bf             40400       1126729542   \n",
       "fffff010-6df7-4d05-b014-84248b8d1fad             58997       1492736584   \n",
       "fffff61d-3525-4938-a736-261ccb123c47             54196       3440026943   \n",
       "fffff716-1f43-4f5f-a62b-2d1c9a26b3ba             58399       2386332287   \n",
       "fffffad2-1b0d-4b18-a3d2-c496b2b4c966             29726       4019582663   \n",
       "\n",
       "                                      Acknowledgment number  Data offset  \\\n",
       "0000127a-3659-4318-8dcf-9ab81f9a4050              614171435            5   \n",
       "0000282d-9cc0-417b-a8ba-e9ddd0f51907             3047458819            8   \n",
       "00003f54-1a7e-461a-905a-8b338ccf51ed             3241858359            8   \n",
       "00005ba0-df6e-4f2e-8bc7-56587e924323             1098221861            5   \n",
       "000086c0-6c17-4dcb-a3f4-7687bfa50917             3290897116            8   \n",
       "...                                                     ...          ...   \n",
       "ffffeffd-e46f-4916-9580-6f67a7d959bf             3427396664            5   \n",
       "fffff010-6df7-4d05-b014-84248b8d1fad             2241807964            5   \n",
       "fffff61d-3525-4938-a736-261ccb123c47             1911131628            5   \n",
       "fffff716-1f43-4f5f-a62b-2d1c9a26b3ba              798213201            5   \n",
       "fffffad2-1b0d-4b18-a3d2-c496b2b4c966             2264704735            5   \n",
       "\n",
       "                                      Reserved  Window size  Checksum  \\\n",
       "0000127a-3659-4318-8dcf-9ab81f9a4050         0          256     42027   \n",
       "0000282d-9cc0-417b-a8ba-e9ddd0f51907         0          229     21253   \n",
       "00003f54-1a7e-461a-905a-8b338ccf51ed         0          315     17132   \n",
       "00005ba0-df6e-4f2e-8bc7-56587e924323         0          256     55433   \n",
       "000086c0-6c17-4dcb-a3f4-7687bfa50917         0          115     65255   \n",
       "...                                        ...          ...       ...   \n",
       "ffffeffd-e46f-4916-9580-6f67a7d959bf         0          237     45026   \n",
       "fffff010-6df7-4d05-b014-84248b8d1fad         0        65535     23446   \n",
       "fffff61d-3525-4938-a736-261ccb123c47         0          123     52669   \n",
       "fffff716-1f43-4f5f-a62b-2d1c9a26b3ba         0        65535     24060   \n",
       "fffffad2-1b0d-4b18-a3d2-c496b2b4c966         0           31     27169   \n",
       "\n",
       "                                      Urgent pointer dst_ip_addr_0  \\\n",
       "0000127a-3659-4318-8dcf-9ab81f9a4050               0           128   \n",
       "0000282d-9cc0-417b-a8ba-e9ddd0f51907               0           188   \n",
       "00003f54-1a7e-461a-905a-8b338ccf51ed               0           210   \n",
       "00005ba0-df6e-4f2e-8bc7-56587e924323               0           104   \n",
       "000086c0-6c17-4dcb-a3f4-7687bfa50917               0            45   \n",
       "...                                              ...           ...   \n",
       "ffffeffd-e46f-4916-9580-6f67a7d959bf               0           203   \n",
       "fffff010-6df7-4d05-b014-84248b8d1fad               0           218   \n",
       "fffff61d-3525-4938-a736-261ccb123c47               0           203   \n",
       "fffff716-1f43-4f5f-a62b-2d1c9a26b3ba               0           220   \n",
       "fffffad2-1b0d-4b18-a3d2-c496b2b4c966               0            10   \n",
       "\n",
       "                                     dst_ip_addr_1 dst_ip_addr_2  \\\n",
       "0000127a-3659-4318-8dcf-9ab81f9a4050           208            60   \n",
       "0000282d-9cc0-417b-a8ba-e9ddd0f51907           165           214   \n",
       "00003f54-1a7e-461a-905a-8b338ccf51ed            98            26   \n",
       "00005ba0-df6e-4f2e-8bc7-56587e924323            67           104   \n",
       "000086c0-6c17-4dcb-a3f4-7687bfa50917           125           194   \n",
       "...                                            ...           ...   \n",
       "ffffeffd-e46f-4916-9580-6f67a7d959bf           230            52   \n",
       "fffff010-6df7-4d05-b014-84248b8d1fad            49            22   \n",
       "fffff61d-3525-4938-a736-261ccb123c47           246           118   \n",
       "fffff716-1f43-4f5f-a62b-2d1c9a26b3ba            95           254   \n",
       "fffffad2-1b0d-4b18-a3d2-c496b2b4c966            40             8   \n",
       "\n",
       "                                     dst_ip_addr_3 src_ip_addr_0  \\\n",
       "0000127a-3659-4318-8dcf-9ab81f9a4050           108           203   \n",
       "0000282d-9cc0-417b-a8ba-e9ddd0f51907            76           143   \n",
       "00003f54-1a7e-461a-905a-8b338ccf51ed           244           185   \n",
       "00005ba0-df6e-4f2e-8bc7-56587e924323            61           203   \n",
       "000086c0-6c17-4dcb-a3f4-7687bfa50917            34           121   \n",
       "...                                            ...           ...   \n",
       "ffffeffd-e46f-4916-9580-6f67a7d959bf             3           121   \n",
       "fffff010-6df7-4d05-b014-84248b8d1fad            81           211   \n",
       "fffff61d-3525-4938-a736-261ccb123c47           113           182   \n",
       "fffff716-1f43-4f5f-a62b-2d1c9a26b3ba            10           211   \n",
       "fffffad2-1b0d-4b18-a3d2-c496b2b4c966            22           104   \n",
       "\n",
       "                                     src_ip_addr_1 src_ip_addr_2  \\\n",
       "0000127a-3659-4318-8dcf-9ab81f9a4050           237            44   \n",
       "0000282d-9cc0-417b-a8ba-e9ddd0f51907           248            91   \n",
       "00003f54-1a7e-461a-905a-8b338ccf51ed           222           209   \n",
       "00005ba0-df6e-4f2e-8bc7-56587e924323           237            44   \n",
       "000086c0-6c17-4dcb-a3f4-7687bfa50917           181           196   \n",
       "...                                            ...           ...   \n",
       "ffffeffd-e46f-4916-9580-6f67a7d959bf           254           136   \n",
       "fffff010-6df7-4d05-b014-84248b8d1fad           114            42   \n",
       "fffff61d-3525-4938-a736-261ccb123c47           162           139   \n",
       "fffff716-1f43-4f5f-a62b-2d1c9a26b3ba            40           179   \n",
       "fffffad2-1b0d-4b18-a3d2-c496b2b4c966            16            65   \n",
       "\n",
       "                                     src_ip_addr_3  flags0  flags2  flags1  \\\n",
       "0000127a-3659-4318-8dcf-9ab81f9a4050            20       0       0       0   \n",
       "0000282d-9cc0-417b-a8ba-e9ddd0f51907           248       0       0       0   \n",
       "00003f54-1a7e-461a-905a-8b338ccf51ed             4       0       0       0   \n",
       "00005ba0-df6e-4f2e-8bc7-56587e924323            20       0       0       0   \n",
       "000086c0-6c17-4dcb-a3f4-7687bfa50917            14       0       0       0   \n",
       "...                                            ...     ...     ...     ...   \n",
       "ffffeffd-e46f-4916-9580-6f67a7d959bf            16       0       0       0   \n",
       "fffff010-6df7-4d05-b014-84248b8d1fad            70       0       0       0   \n",
       "fffff61d-3525-4938-a736-261ccb123c47            16       0       0       0   \n",
       "fffff716-1f43-4f5f-a62b-2d1c9a26b3ba            51       0       0       0   \n",
       "fffffad2-1b0d-4b18-a3d2-c496b2b4c966            50       0       0       0   \n",
       "\n",
       "                                      flags4  flags3  flags6  flags5  flags8  \\\n",
       "0000127a-3659-4318-8dcf-9ab81f9a4050       1       0       0       0       0   \n",
       "0000282d-9cc0-417b-a8ba-e9ddd0f51907       1       0       0       1       0   \n",
       "00003f54-1a7e-461a-905a-8b338ccf51ed       1       0       0       1       0   \n",
       "00005ba0-df6e-4f2e-8bc7-56587e924323       1       0       0       0       0   \n",
       "000086c0-6c17-4dcb-a3f4-7687bfa50917       1       0       0       1       0   \n",
       "...                                      ...     ...     ...     ...     ...   \n",
       "ffffeffd-e46f-4916-9580-6f67a7d959bf       1       0       0       0       0   \n",
       "fffff010-6df7-4d05-b014-84248b8d1fad       1       0       0       0       0   \n",
       "fffff61d-3525-4938-a736-261ccb123c47       1       0       0       0       0   \n",
       "fffff716-1f43-4f5f-a62b-2d1c9a26b3ba       1       0       0       0       1   \n",
       "fffffad2-1b0d-4b18-a3d2-c496b2b4c966       1       0       0       0       1   \n",
       "\n",
       "                                       concat_src_mac   concat_dst_mac  \n",
       "0000127a-3659-4318-8dcf-9ab81f9a4050     112490399296      97113814912  \n",
       "0000282d-9cc0-417b-a8ba-e9ddd0f51907   88226781932672  211551555070016  \n",
       "00003f54-1a7e-461a-905a-8b338ccf51ed      83200487040  189803579077441  \n",
       "00005ba0-df6e-4f2e-8bc7-56587e924323     112490399296      97113814912  \n",
       "000086c0-6c17-4dcb-a3f4-7687bfa50917  106225803332964      47029714112  \n",
       "...                                               ...              ...  \n",
       "ffffeffd-e46f-4916-9580-6f67a7d959bf      97113814912     112490399296  \n",
       "fffff010-6df7-4d05-b014-84248b8d1fad     896767197125     618663970892  \n",
       "fffff61d-3525-4938-a736-261ccb123c47  238257139002241      29066665506  \n",
       "fffff716-1f43-4f5f-a62b-2d1c9a26b3ba     163544444160     893392113664  \n",
       "fffffad2-1b0d-4b18-a3d2-c496b2b4c966  128157406096288     155569840384  \n",
       "\n",
       "[3354174 rows x 39 columns]"
      ]
     },
     "execution_count": 241,
     "metadata": {},
     "output_type": "execute_result"
    }
   ],
   "source": [
    "flag_ip_mac_tcp_train_df"
   ]
  },
  {
   "cell_type": "code",
   "execution_count": 258,
   "metadata": {},
   "outputs": [
    {
     "data": {
      "text/html": [
       "<div>\n",
       "<style scoped>\n",
       "    .dataframe tbody tr th:only-of-type {\n",
       "        vertical-align: middle;\n",
       "    }\n",
       "\n",
       "    .dataframe tbody tr th {\n",
       "        vertical-align: top;\n",
       "    }\n",
       "\n",
       "    .dataframe thead th {\n",
       "        text-align: right;\n",
       "    }\n",
       "</style>\n",
       "<table border=\"1\" class=\"dataframe\">\n",
       "  <thead>\n",
       "    <tr style=\"text-align: right;\">\n",
       "      <th></th>\n",
       "      <th>Ether Type</th>\n",
       "      <th>Version</th>\n",
       "      <th>Internet Header Length</th>\n",
       "      <th>Differentiated Services Code Point</th>\n",
       "      <th>Explicit Congestion Notification</th>\n",
       "      <th>Total Length</th>\n",
       "      <th>Identification</th>\n",
       "      <th>Flags_x</th>\n",
       "      <th>Fragment Offset</th>\n",
       "      <th>Time To Live</th>\n",
       "      <th>Protocol</th>\n",
       "      <th>Header Checksum</th>\n",
       "      <th>Source port</th>\n",
       "      <th>Destination port</th>\n",
       "      <th>Sequence number</th>\n",
       "      <th>Acknowledgment number</th>\n",
       "      <th>Data offset</th>\n",
       "      <th>Reserved</th>\n",
       "      <th>Window size</th>\n",
       "      <th>Checksum</th>\n",
       "      <th>Urgent pointer</th>\n",
       "      <th>dst_ip_addr_0</th>\n",
       "      <th>dst_ip_addr_1</th>\n",
       "      <th>dst_ip_addr_2</th>\n",
       "      <th>dst_ip_addr_3</th>\n",
       "      <th>src_ip_addr_0</th>\n",
       "      <th>src_ip_addr_1</th>\n",
       "      <th>src_ip_addr_2</th>\n",
       "      <th>src_ip_addr_3</th>\n",
       "      <th>flags0</th>\n",
       "      <th>flags2</th>\n",
       "      <th>flags1</th>\n",
       "      <th>flags4</th>\n",
       "      <th>flags3</th>\n",
       "      <th>flags6</th>\n",
       "      <th>flags5</th>\n",
       "      <th>flags8</th>\n",
       "      <th>concat_src_mac</th>\n",
       "      <th>concat_dst_mac</th>\n",
       "    </tr>\n",
       "  </thead>\n",
       "  <tbody>\n",
       "    <tr>\n",
       "      <th>0000127a-3659-4318-8dcf-9ab81f9a4050</th>\n",
       "      <td>2048</td>\n",
       "      <td>4</td>\n",
       "      <td>5</td>\n",
       "      <td>0</td>\n",
       "      <td>0</td>\n",
       "      <td>1500</td>\n",
       "      <td>30401</td>\n",
       "      <td>2</td>\n",
       "      <td>0</td>\n",
       "      <td>124</td>\n",
       "      <td>6</td>\n",
       "      <td>52508</td>\n",
       "      <td>31619</td>\n",
       "      <td>80</td>\n",
       "      <td>3275710569</td>\n",
       "      <td>614171435</td>\n",
       "      <td>5</td>\n",
       "      <td>0</td>\n",
       "      <td>256</td>\n",
       "      <td>42027</td>\n",
       "      <td>0</td>\n",
       "      <td>128</td>\n",
       "      <td>208</td>\n",
       "      <td>60</td>\n",
       "      <td>108</td>\n",
       "      <td>203</td>\n",
       "      <td>237</td>\n",
       "      <td>44</td>\n",
       "      <td>20</td>\n",
       "      <td>0</td>\n",
       "      <td>0</td>\n",
       "      <td>0</td>\n",
       "      <td>1</td>\n",
       "      <td>0</td>\n",
       "      <td>0</td>\n",
       "      <td>0</td>\n",
       "      <td>0</td>\n",
       "      <td>112490399296</td>\n",
       "      <td>97113814912</td>\n",
       "    </tr>\n",
       "    <tr>\n",
       "      <th>0000282d-9cc0-417b-a8ba-e9ddd0f51907</th>\n",
       "      <td>2048</td>\n",
       "      <td>4</td>\n",
       "      <td>5</td>\n",
       "      <td>0</td>\n",
       "      <td>0</td>\n",
       "      <td>345</td>\n",
       "      <td>25865</td>\n",
       "      <td>2</td>\n",
       "      <td>0</td>\n",
       "      <td>59</td>\n",
       "      <td>6</td>\n",
       "      <td>23219</td>\n",
       "      <td>60574</td>\n",
       "      <td>443</td>\n",
       "      <td>499434802</td>\n",
       "      <td>3047458819</td>\n",
       "      <td>8</td>\n",
       "      <td>0</td>\n",
       "      <td>229</td>\n",
       "      <td>21253</td>\n",
       "      <td>0</td>\n",
       "      <td>188</td>\n",
       "      <td>165</td>\n",
       "      <td>214</td>\n",
       "      <td>76</td>\n",
       "      <td>143</td>\n",
       "      <td>248</td>\n",
       "      <td>91</td>\n",
       "      <td>248</td>\n",
       "      <td>0</td>\n",
       "      <td>0</td>\n",
       "      <td>0</td>\n",
       "      <td>1</td>\n",
       "      <td>0</td>\n",
       "      <td>0</td>\n",
       "      <td>1</td>\n",
       "      <td>0</td>\n",
       "      <td>88226781932672</td>\n",
       "      <td>211551555070016</td>\n",
       "    </tr>\n",
       "    <tr>\n",
       "      <th>00003f54-1a7e-461a-905a-8b338ccf51ed</th>\n",
       "      <td>2048</td>\n",
       "      <td>4</td>\n",
       "      <td>5</td>\n",
       "      <td>0</td>\n",
       "      <td>0</td>\n",
       "      <td>60</td>\n",
       "      <td>22946</td>\n",
       "      <td>2</td>\n",
       "      <td>0</td>\n",
       "      <td>50</td>\n",
       "      <td>6</td>\n",
       "      <td>30432</td>\n",
       "      <td>45150</td>\n",
       "      <td>443</td>\n",
       "      <td>171426392</td>\n",
       "      <td>3241858359</td>\n",
       "      <td>8</td>\n",
       "      <td>0</td>\n",
       "      <td>315</td>\n",
       "      <td>17132</td>\n",
       "      <td>0</td>\n",
       "      <td>210</td>\n",
       "      <td>98</td>\n",
       "      <td>26</td>\n",
       "      <td>244</td>\n",
       "      <td>185</td>\n",
       "      <td>222</td>\n",
       "      <td>209</td>\n",
       "      <td>4</td>\n",
       "      <td>0</td>\n",
       "      <td>0</td>\n",
       "      <td>0</td>\n",
       "      <td>1</td>\n",
       "      <td>0</td>\n",
       "      <td>0</td>\n",
       "      <td>1</td>\n",
       "      <td>0</td>\n",
       "      <td>83200487040</td>\n",
       "      <td>189803579077441</td>\n",
       "    </tr>\n",
       "    <tr>\n",
       "      <th>00005ba0-df6e-4f2e-8bc7-56587e924323</th>\n",
       "      <td>2048</td>\n",
       "      <td>4</td>\n",
       "      <td>5</td>\n",
       "      <td>0</td>\n",
       "      <td>0</td>\n",
       "      <td>1500</td>\n",
       "      <td>20320</td>\n",
       "      <td>2</td>\n",
       "      <td>0</td>\n",
       "      <td>124</td>\n",
       "      <td>6</td>\n",
       "      <td>57657</td>\n",
       "      <td>20865</td>\n",
       "      <td>80</td>\n",
       "      <td>200267589</td>\n",
       "      <td>1098221861</td>\n",
       "      <td>5</td>\n",
       "      <td>0</td>\n",
       "      <td>256</td>\n",
       "      <td>55433</td>\n",
       "      <td>0</td>\n",
       "      <td>104</td>\n",
       "      <td>67</td>\n",
       "      <td>104</td>\n",
       "      <td>61</td>\n",
       "      <td>203</td>\n",
       "      <td>237</td>\n",
       "      <td>44</td>\n",
       "      <td>20</td>\n",
       "      <td>0</td>\n",
       "      <td>0</td>\n",
       "      <td>0</td>\n",
       "      <td>1</td>\n",
       "      <td>0</td>\n",
       "      <td>0</td>\n",
       "      <td>0</td>\n",
       "      <td>0</td>\n",
       "      <td>112490399296</td>\n",
       "      <td>97113814912</td>\n",
       "    </tr>\n",
       "    <tr>\n",
       "      <th>000086c0-6c17-4dcb-a3f4-7687bfa50917</th>\n",
       "      <td>2048</td>\n",
       "      <td>4</td>\n",
       "      <td>5</td>\n",
       "      <td>0</td>\n",
       "      <td>0</td>\n",
       "      <td>286</td>\n",
       "      <td>50166</td>\n",
       "      <td>2</td>\n",
       "      <td>0</td>\n",
       "      <td>55</td>\n",
       "      <td>6</td>\n",
       "      <td>20864</td>\n",
       "      <td>61611</td>\n",
       "      <td>443</td>\n",
       "      <td>1069045392</td>\n",
       "      <td>3290897116</td>\n",
       "      <td>8</td>\n",
       "      <td>0</td>\n",
       "      <td>115</td>\n",
       "      <td>65255</td>\n",
       "      <td>0</td>\n",
       "      <td>45</td>\n",
       "      <td>125</td>\n",
       "      <td>194</td>\n",
       "      <td>34</td>\n",
       "      <td>121</td>\n",
       "      <td>181</td>\n",
       "      <td>196</td>\n",
       "      <td>14</td>\n",
       "      <td>0</td>\n",
       "      <td>0</td>\n",
       "      <td>0</td>\n",
       "      <td>1</td>\n",
       "      <td>0</td>\n",
       "      <td>0</td>\n",
       "      <td>1</td>\n",
       "      <td>0</td>\n",
       "      <td>106225803332964</td>\n",
       "      <td>47029714112</td>\n",
       "    </tr>\n",
       "    <tr>\n",
       "      <th>...</th>\n",
       "      <td>...</td>\n",
       "      <td>...</td>\n",
       "      <td>...</td>\n",
       "      <td>...</td>\n",
       "      <td>...</td>\n",
       "      <td>...</td>\n",
       "      <td>...</td>\n",
       "      <td>...</td>\n",
       "      <td>...</td>\n",
       "      <td>...</td>\n",
       "      <td>...</td>\n",
       "      <td>...</td>\n",
       "      <td>...</td>\n",
       "      <td>...</td>\n",
       "      <td>...</td>\n",
       "      <td>...</td>\n",
       "      <td>...</td>\n",
       "      <td>...</td>\n",
       "      <td>...</td>\n",
       "      <td>...</td>\n",
       "      <td>...</td>\n",
       "      <td>...</td>\n",
       "      <td>...</td>\n",
       "      <td>...</td>\n",
       "      <td>...</td>\n",
       "      <td>...</td>\n",
       "      <td>...</td>\n",
       "      <td>...</td>\n",
       "      <td>...</td>\n",
       "      <td>...</td>\n",
       "      <td>...</td>\n",
       "      <td>...</td>\n",
       "      <td>...</td>\n",
       "      <td>...</td>\n",
       "      <td>...</td>\n",
       "      <td>...</td>\n",
       "      <td>...</td>\n",
       "      <td>...</td>\n",
       "      <td>...</td>\n",
       "    </tr>\n",
       "    <tr>\n",
       "      <th>ffffeffd-e46f-4916-9580-6f67a7d959bf</th>\n",
       "      <td>2048</td>\n",
       "      <td>4</td>\n",
       "      <td>5</td>\n",
       "      <td>0</td>\n",
       "      <td>0</td>\n",
       "      <td>1500</td>\n",
       "      <td>27455</td>\n",
       "      <td>2</td>\n",
       "      <td>0</td>\n",
       "      <td>53</td>\n",
       "      <td>6</td>\n",
       "      <td>53988</td>\n",
       "      <td>80</td>\n",
       "      <td>40400</td>\n",
       "      <td>1126729542</td>\n",
       "      <td>3427396664</td>\n",
       "      <td>5</td>\n",
       "      <td>0</td>\n",
       "      <td>237</td>\n",
       "      <td>45026</td>\n",
       "      <td>0</td>\n",
       "      <td>203</td>\n",
       "      <td>230</td>\n",
       "      <td>52</td>\n",
       "      <td>3</td>\n",
       "      <td>121</td>\n",
       "      <td>254</td>\n",
       "      <td>136</td>\n",
       "      <td>16</td>\n",
       "      <td>0</td>\n",
       "      <td>0</td>\n",
       "      <td>0</td>\n",
       "      <td>1</td>\n",
       "      <td>0</td>\n",
       "      <td>0</td>\n",
       "      <td>0</td>\n",
       "      <td>0</td>\n",
       "      <td>97113814912</td>\n",
       "      <td>112490399296</td>\n",
       "    </tr>\n",
       "    <tr>\n",
       "      <th>fffff010-6df7-4d05-b014-84248b8d1fad</th>\n",
       "      <td>2048</td>\n",
       "      <td>4</td>\n",
       "      <td>5</td>\n",
       "      <td>0</td>\n",
       "      <td>0</td>\n",
       "      <td>40</td>\n",
       "      <td>39972</td>\n",
       "      <td>2</td>\n",
       "      <td>0</td>\n",
       "      <td>44</td>\n",
       "      <td>6</td>\n",
       "      <td>50288</td>\n",
       "      <td>80</td>\n",
       "      <td>58997</td>\n",
       "      <td>1492736584</td>\n",
       "      <td>2241807964</td>\n",
       "      <td>5</td>\n",
       "      <td>0</td>\n",
       "      <td>65535</td>\n",
       "      <td>23446</td>\n",
       "      <td>0</td>\n",
       "      <td>218</td>\n",
       "      <td>49</td>\n",
       "      <td>22</td>\n",
       "      <td>81</td>\n",
       "      <td>211</td>\n",
       "      <td>114</td>\n",
       "      <td>42</td>\n",
       "      <td>70</td>\n",
       "      <td>0</td>\n",
       "      <td>0</td>\n",
       "      <td>0</td>\n",
       "      <td>1</td>\n",
       "      <td>0</td>\n",
       "      <td>0</td>\n",
       "      <td>0</td>\n",
       "      <td>0</td>\n",
       "      <td>896767197125</td>\n",
       "      <td>618663970892</td>\n",
       "    </tr>\n",
       "    <tr>\n",
       "      <th>fffff61d-3525-4938-a736-261ccb123c47</th>\n",
       "      <td>2048</td>\n",
       "      <td>4</td>\n",
       "      <td>5</td>\n",
       "      <td>0</td>\n",
       "      <td>0</td>\n",
       "      <td>40</td>\n",
       "      <td>8348</td>\n",
       "      <td>2</td>\n",
       "      <td>0</td>\n",
       "      <td>53</td>\n",
       "      <td>6</td>\n",
       "      <td>41241</td>\n",
       "      <td>6060</td>\n",
       "      <td>54196</td>\n",
       "      <td>3440026943</td>\n",
       "      <td>1911131628</td>\n",
       "      <td>5</td>\n",
       "      <td>0</td>\n",
       "      <td>123</td>\n",
       "      <td>52669</td>\n",
       "      <td>0</td>\n",
       "      <td>203</td>\n",
       "      <td>246</td>\n",
       "      <td>118</td>\n",
       "      <td>113</td>\n",
       "      <td>182</td>\n",
       "      <td>162</td>\n",
       "      <td>139</td>\n",
       "      <td>16</td>\n",
       "      <td>0</td>\n",
       "      <td>0</td>\n",
       "      <td>0</td>\n",
       "      <td>1</td>\n",
       "      <td>0</td>\n",
       "      <td>0</td>\n",
       "      <td>0</td>\n",
       "      <td>0</td>\n",
       "      <td>238257139002241</td>\n",
       "      <td>29066665506</td>\n",
       "    </tr>\n",
       "    <tr>\n",
       "      <th>fffff716-1f43-4f5f-a62b-2d1c9a26b3ba</th>\n",
       "      <td>2048</td>\n",
       "      <td>4</td>\n",
       "      <td>5</td>\n",
       "      <td>0</td>\n",
       "      <td>0</td>\n",
       "      <td>40</td>\n",
       "      <td>114</td>\n",
       "      <td>2</td>\n",
       "      <td>0</td>\n",
       "      <td>63</td>\n",
       "      <td>6</td>\n",
       "      <td>55959</td>\n",
       "      <td>80</td>\n",
       "      <td>58399</td>\n",
       "      <td>2386332287</td>\n",
       "      <td>798213201</td>\n",
       "      <td>5</td>\n",
       "      <td>0</td>\n",
       "      <td>65535</td>\n",
       "      <td>24060</td>\n",
       "      <td>0</td>\n",
       "      <td>220</td>\n",
       "      <td>95</td>\n",
       "      <td>254</td>\n",
       "      <td>10</td>\n",
       "      <td>211</td>\n",
       "      <td>40</td>\n",
       "      <td>179</td>\n",
       "      <td>51</td>\n",
       "      <td>0</td>\n",
       "      <td>0</td>\n",
       "      <td>0</td>\n",
       "      <td>1</td>\n",
       "      <td>0</td>\n",
       "      <td>0</td>\n",
       "      <td>0</td>\n",
       "      <td>1</td>\n",
       "      <td>163544444160</td>\n",
       "      <td>893392113664</td>\n",
       "    </tr>\n",
       "    <tr>\n",
       "      <th>fffffad2-1b0d-4b18-a3d2-c496b2b4c966</th>\n",
       "      <td>2048</td>\n",
       "      <td>4</td>\n",
       "      <td>5</td>\n",
       "      <td>0</td>\n",
       "      <td>0</td>\n",
       "      <td>40</td>\n",
       "      <td>43142</td>\n",
       "      <td>2</td>\n",
       "      <td>0</td>\n",
       "      <td>54</td>\n",
       "      <td>6</td>\n",
       "      <td>57545</td>\n",
       "      <td>443</td>\n",
       "      <td>29726</td>\n",
       "      <td>4019582663</td>\n",
       "      <td>2264704735</td>\n",
       "      <td>5</td>\n",
       "      <td>0</td>\n",
       "      <td>31</td>\n",
       "      <td>27169</td>\n",
       "      <td>0</td>\n",
       "      <td>10</td>\n",
       "      <td>40</td>\n",
       "      <td>8</td>\n",
       "      <td>22</td>\n",
       "      <td>104</td>\n",
       "      <td>16</td>\n",
       "      <td>65</td>\n",
       "      <td>50</td>\n",
       "      <td>0</td>\n",
       "      <td>0</td>\n",
       "      <td>0</td>\n",
       "      <td>1</td>\n",
       "      <td>0</td>\n",
       "      <td>0</td>\n",
       "      <td>0</td>\n",
       "      <td>1</td>\n",
       "      <td>128157406096288</td>\n",
       "      <td>155569840384</td>\n",
       "    </tr>\n",
       "  </tbody>\n",
       "</table>\n",
       "<p>3354174 rows × 39 columns</p>\n",
       "</div>"
      ],
      "text/plain": [
       "                                      Ether Type Version  \\\n",
       "0000127a-3659-4318-8dcf-9ab81f9a4050        2048       4   \n",
       "0000282d-9cc0-417b-a8ba-e9ddd0f51907        2048       4   \n",
       "00003f54-1a7e-461a-905a-8b338ccf51ed        2048       4   \n",
       "00005ba0-df6e-4f2e-8bc7-56587e924323        2048       4   \n",
       "000086c0-6c17-4dcb-a3f4-7687bfa50917        2048       4   \n",
       "...                                          ...     ...   \n",
       "ffffeffd-e46f-4916-9580-6f67a7d959bf        2048       4   \n",
       "fffff010-6df7-4d05-b014-84248b8d1fad        2048       4   \n",
       "fffff61d-3525-4938-a736-261ccb123c47        2048       4   \n",
       "fffff716-1f43-4f5f-a62b-2d1c9a26b3ba        2048       4   \n",
       "fffffad2-1b0d-4b18-a3d2-c496b2b4c966        2048       4   \n",
       "\n",
       "                                     Internet Header Length  \\\n",
       "0000127a-3659-4318-8dcf-9ab81f9a4050                      5   \n",
       "0000282d-9cc0-417b-a8ba-e9ddd0f51907                      5   \n",
       "00003f54-1a7e-461a-905a-8b338ccf51ed                      5   \n",
       "00005ba0-df6e-4f2e-8bc7-56587e924323                      5   \n",
       "000086c0-6c17-4dcb-a3f4-7687bfa50917                      5   \n",
       "...                                                     ...   \n",
       "ffffeffd-e46f-4916-9580-6f67a7d959bf                      5   \n",
       "fffff010-6df7-4d05-b014-84248b8d1fad                      5   \n",
       "fffff61d-3525-4938-a736-261ccb123c47                      5   \n",
       "fffff716-1f43-4f5f-a62b-2d1c9a26b3ba                      5   \n",
       "fffffad2-1b0d-4b18-a3d2-c496b2b4c966                      5   \n",
       "\n",
       "                                     Differentiated Services Code Point  \\\n",
       "0000127a-3659-4318-8dcf-9ab81f9a4050                                  0   \n",
       "0000282d-9cc0-417b-a8ba-e9ddd0f51907                                  0   \n",
       "00003f54-1a7e-461a-905a-8b338ccf51ed                                  0   \n",
       "00005ba0-df6e-4f2e-8bc7-56587e924323                                  0   \n",
       "000086c0-6c17-4dcb-a3f4-7687bfa50917                                  0   \n",
       "...                                                                 ...   \n",
       "ffffeffd-e46f-4916-9580-6f67a7d959bf                                  0   \n",
       "fffff010-6df7-4d05-b014-84248b8d1fad                                  0   \n",
       "fffff61d-3525-4938-a736-261ccb123c47                                  0   \n",
       "fffff716-1f43-4f5f-a62b-2d1c9a26b3ba                                  0   \n",
       "fffffad2-1b0d-4b18-a3d2-c496b2b4c966                                  0   \n",
       "\n",
       "                                     Explicit Congestion Notification  \\\n",
       "0000127a-3659-4318-8dcf-9ab81f9a4050                                0   \n",
       "0000282d-9cc0-417b-a8ba-e9ddd0f51907                                0   \n",
       "00003f54-1a7e-461a-905a-8b338ccf51ed                                0   \n",
       "00005ba0-df6e-4f2e-8bc7-56587e924323                                0   \n",
       "000086c0-6c17-4dcb-a3f4-7687bfa50917                                0   \n",
       "...                                                               ...   \n",
       "ffffeffd-e46f-4916-9580-6f67a7d959bf                                0   \n",
       "fffff010-6df7-4d05-b014-84248b8d1fad                                0   \n",
       "fffff61d-3525-4938-a736-261ccb123c47                                0   \n",
       "fffff716-1f43-4f5f-a62b-2d1c9a26b3ba                                0   \n",
       "fffffad2-1b0d-4b18-a3d2-c496b2b4c966                                0   \n",
       "\n",
       "                                     Total Length Identification Flags_x  \\\n",
       "0000127a-3659-4318-8dcf-9ab81f9a4050         1500          30401       2   \n",
       "0000282d-9cc0-417b-a8ba-e9ddd0f51907          345          25865       2   \n",
       "00003f54-1a7e-461a-905a-8b338ccf51ed           60          22946       2   \n",
       "00005ba0-df6e-4f2e-8bc7-56587e924323         1500          20320       2   \n",
       "000086c0-6c17-4dcb-a3f4-7687bfa50917          286          50166       2   \n",
       "...                                           ...            ...     ...   \n",
       "ffffeffd-e46f-4916-9580-6f67a7d959bf         1500          27455       2   \n",
       "fffff010-6df7-4d05-b014-84248b8d1fad           40          39972       2   \n",
       "fffff61d-3525-4938-a736-261ccb123c47           40           8348       2   \n",
       "fffff716-1f43-4f5f-a62b-2d1c9a26b3ba           40            114       2   \n",
       "fffffad2-1b0d-4b18-a3d2-c496b2b4c966           40          43142       2   \n",
       "\n",
       "                                     Fragment Offset Time To Live Protocol  \\\n",
       "0000127a-3659-4318-8dcf-9ab81f9a4050               0          124        6   \n",
       "0000282d-9cc0-417b-a8ba-e9ddd0f51907               0           59        6   \n",
       "00003f54-1a7e-461a-905a-8b338ccf51ed               0           50        6   \n",
       "00005ba0-df6e-4f2e-8bc7-56587e924323               0          124        6   \n",
       "000086c0-6c17-4dcb-a3f4-7687bfa50917               0           55        6   \n",
       "...                                              ...          ...      ...   \n",
       "ffffeffd-e46f-4916-9580-6f67a7d959bf               0           53        6   \n",
       "fffff010-6df7-4d05-b014-84248b8d1fad               0           44        6   \n",
       "fffff61d-3525-4938-a736-261ccb123c47               0           53        6   \n",
       "fffff716-1f43-4f5f-a62b-2d1c9a26b3ba               0           63        6   \n",
       "fffffad2-1b0d-4b18-a3d2-c496b2b4c966               0           54        6   \n",
       "\n",
       "                                      Header Checksum  Source port  \\\n",
       "0000127a-3659-4318-8dcf-9ab81f9a4050            52508        31619   \n",
       "0000282d-9cc0-417b-a8ba-e9ddd0f51907            23219        60574   \n",
       "00003f54-1a7e-461a-905a-8b338ccf51ed            30432        45150   \n",
       "00005ba0-df6e-4f2e-8bc7-56587e924323            57657        20865   \n",
       "000086c0-6c17-4dcb-a3f4-7687bfa50917            20864        61611   \n",
       "...                                               ...          ...   \n",
       "ffffeffd-e46f-4916-9580-6f67a7d959bf            53988           80   \n",
       "fffff010-6df7-4d05-b014-84248b8d1fad            50288           80   \n",
       "fffff61d-3525-4938-a736-261ccb123c47            41241         6060   \n",
       "fffff716-1f43-4f5f-a62b-2d1c9a26b3ba            55959           80   \n",
       "fffffad2-1b0d-4b18-a3d2-c496b2b4c966            57545          443   \n",
       "\n",
       "                                      Destination port  Sequence number  \\\n",
       "0000127a-3659-4318-8dcf-9ab81f9a4050                80       3275710569   \n",
       "0000282d-9cc0-417b-a8ba-e9ddd0f51907               443        499434802   \n",
       "00003f54-1a7e-461a-905a-8b338ccf51ed               443        171426392   \n",
       "00005ba0-df6e-4f2e-8bc7-56587e924323                80        200267589   \n",
       "000086c0-6c17-4dcb-a3f4-7687bfa50917               443       1069045392   \n",
       "...                                                ...              ...   \n",
       "ffffeffd-e46f-4916-9580-6f67a7d959bf             40400       1126729542   \n",
       "fffff010-6df7-4d05-b014-84248b8d1fad             58997       1492736584   \n",
       "fffff61d-3525-4938-a736-261ccb123c47             54196       3440026943   \n",
       "fffff716-1f43-4f5f-a62b-2d1c9a26b3ba             58399       2386332287   \n",
       "fffffad2-1b0d-4b18-a3d2-c496b2b4c966             29726       4019582663   \n",
       "\n",
       "                                      Acknowledgment number  Data offset  \\\n",
       "0000127a-3659-4318-8dcf-9ab81f9a4050              614171435            5   \n",
       "0000282d-9cc0-417b-a8ba-e9ddd0f51907             3047458819            8   \n",
       "00003f54-1a7e-461a-905a-8b338ccf51ed             3241858359            8   \n",
       "00005ba0-df6e-4f2e-8bc7-56587e924323             1098221861            5   \n",
       "000086c0-6c17-4dcb-a3f4-7687bfa50917             3290897116            8   \n",
       "...                                                     ...          ...   \n",
       "ffffeffd-e46f-4916-9580-6f67a7d959bf             3427396664            5   \n",
       "fffff010-6df7-4d05-b014-84248b8d1fad             2241807964            5   \n",
       "fffff61d-3525-4938-a736-261ccb123c47             1911131628            5   \n",
       "fffff716-1f43-4f5f-a62b-2d1c9a26b3ba              798213201            5   \n",
       "fffffad2-1b0d-4b18-a3d2-c496b2b4c966             2264704735            5   \n",
       "\n",
       "                                      Reserved  Window size  Checksum  \\\n",
       "0000127a-3659-4318-8dcf-9ab81f9a4050         0          256     42027   \n",
       "0000282d-9cc0-417b-a8ba-e9ddd0f51907         0          229     21253   \n",
       "00003f54-1a7e-461a-905a-8b338ccf51ed         0          315     17132   \n",
       "00005ba0-df6e-4f2e-8bc7-56587e924323         0          256     55433   \n",
       "000086c0-6c17-4dcb-a3f4-7687bfa50917         0          115     65255   \n",
       "...                                        ...          ...       ...   \n",
       "ffffeffd-e46f-4916-9580-6f67a7d959bf         0          237     45026   \n",
       "fffff010-6df7-4d05-b014-84248b8d1fad         0        65535     23446   \n",
       "fffff61d-3525-4938-a736-261ccb123c47         0          123     52669   \n",
       "fffff716-1f43-4f5f-a62b-2d1c9a26b3ba         0        65535     24060   \n",
       "fffffad2-1b0d-4b18-a3d2-c496b2b4c966         0           31     27169   \n",
       "\n",
       "                                      Urgent pointer dst_ip_addr_0  \\\n",
       "0000127a-3659-4318-8dcf-9ab81f9a4050               0           128   \n",
       "0000282d-9cc0-417b-a8ba-e9ddd0f51907               0           188   \n",
       "00003f54-1a7e-461a-905a-8b338ccf51ed               0           210   \n",
       "00005ba0-df6e-4f2e-8bc7-56587e924323               0           104   \n",
       "000086c0-6c17-4dcb-a3f4-7687bfa50917               0            45   \n",
       "...                                              ...           ...   \n",
       "ffffeffd-e46f-4916-9580-6f67a7d959bf               0           203   \n",
       "fffff010-6df7-4d05-b014-84248b8d1fad               0           218   \n",
       "fffff61d-3525-4938-a736-261ccb123c47               0           203   \n",
       "fffff716-1f43-4f5f-a62b-2d1c9a26b3ba               0           220   \n",
       "fffffad2-1b0d-4b18-a3d2-c496b2b4c966               0            10   \n",
       "\n",
       "                                     dst_ip_addr_1 dst_ip_addr_2  \\\n",
       "0000127a-3659-4318-8dcf-9ab81f9a4050           208            60   \n",
       "0000282d-9cc0-417b-a8ba-e9ddd0f51907           165           214   \n",
       "00003f54-1a7e-461a-905a-8b338ccf51ed            98            26   \n",
       "00005ba0-df6e-4f2e-8bc7-56587e924323            67           104   \n",
       "000086c0-6c17-4dcb-a3f4-7687bfa50917           125           194   \n",
       "...                                            ...           ...   \n",
       "ffffeffd-e46f-4916-9580-6f67a7d959bf           230            52   \n",
       "fffff010-6df7-4d05-b014-84248b8d1fad            49            22   \n",
       "fffff61d-3525-4938-a736-261ccb123c47           246           118   \n",
       "fffff716-1f43-4f5f-a62b-2d1c9a26b3ba            95           254   \n",
       "fffffad2-1b0d-4b18-a3d2-c496b2b4c966            40             8   \n",
       "\n",
       "                                     dst_ip_addr_3 src_ip_addr_0  \\\n",
       "0000127a-3659-4318-8dcf-9ab81f9a4050           108           203   \n",
       "0000282d-9cc0-417b-a8ba-e9ddd0f51907            76           143   \n",
       "00003f54-1a7e-461a-905a-8b338ccf51ed           244           185   \n",
       "00005ba0-df6e-4f2e-8bc7-56587e924323            61           203   \n",
       "000086c0-6c17-4dcb-a3f4-7687bfa50917            34           121   \n",
       "...                                            ...           ...   \n",
       "ffffeffd-e46f-4916-9580-6f67a7d959bf             3           121   \n",
       "fffff010-6df7-4d05-b014-84248b8d1fad            81           211   \n",
       "fffff61d-3525-4938-a736-261ccb123c47           113           182   \n",
       "fffff716-1f43-4f5f-a62b-2d1c9a26b3ba            10           211   \n",
       "fffffad2-1b0d-4b18-a3d2-c496b2b4c966            22           104   \n",
       "\n",
       "                                     src_ip_addr_1 src_ip_addr_2  \\\n",
       "0000127a-3659-4318-8dcf-9ab81f9a4050           237            44   \n",
       "0000282d-9cc0-417b-a8ba-e9ddd0f51907           248            91   \n",
       "00003f54-1a7e-461a-905a-8b338ccf51ed           222           209   \n",
       "00005ba0-df6e-4f2e-8bc7-56587e924323           237            44   \n",
       "000086c0-6c17-4dcb-a3f4-7687bfa50917           181           196   \n",
       "...                                            ...           ...   \n",
       "ffffeffd-e46f-4916-9580-6f67a7d959bf           254           136   \n",
       "fffff010-6df7-4d05-b014-84248b8d1fad           114            42   \n",
       "fffff61d-3525-4938-a736-261ccb123c47           162           139   \n",
       "fffff716-1f43-4f5f-a62b-2d1c9a26b3ba            40           179   \n",
       "fffffad2-1b0d-4b18-a3d2-c496b2b4c966            16            65   \n",
       "\n",
       "                                     src_ip_addr_3  flags0  flags2  flags1  \\\n",
       "0000127a-3659-4318-8dcf-9ab81f9a4050            20       0       0       0   \n",
       "0000282d-9cc0-417b-a8ba-e9ddd0f51907           248       0       0       0   \n",
       "00003f54-1a7e-461a-905a-8b338ccf51ed             4       0       0       0   \n",
       "00005ba0-df6e-4f2e-8bc7-56587e924323            20       0       0       0   \n",
       "000086c0-6c17-4dcb-a3f4-7687bfa50917            14       0       0       0   \n",
       "...                                            ...     ...     ...     ...   \n",
       "ffffeffd-e46f-4916-9580-6f67a7d959bf            16       0       0       0   \n",
       "fffff010-6df7-4d05-b014-84248b8d1fad            70       0       0       0   \n",
       "fffff61d-3525-4938-a736-261ccb123c47            16       0       0       0   \n",
       "fffff716-1f43-4f5f-a62b-2d1c9a26b3ba            51       0       0       0   \n",
       "fffffad2-1b0d-4b18-a3d2-c496b2b4c966            50       0       0       0   \n",
       "\n",
       "                                      flags4  flags3  flags6  flags5  flags8  \\\n",
       "0000127a-3659-4318-8dcf-9ab81f9a4050       1       0       0       0       0   \n",
       "0000282d-9cc0-417b-a8ba-e9ddd0f51907       1       0       0       1       0   \n",
       "00003f54-1a7e-461a-905a-8b338ccf51ed       1       0       0       1       0   \n",
       "00005ba0-df6e-4f2e-8bc7-56587e924323       1       0       0       0       0   \n",
       "000086c0-6c17-4dcb-a3f4-7687bfa50917       1       0       0       1       0   \n",
       "...                                      ...     ...     ...     ...     ...   \n",
       "ffffeffd-e46f-4916-9580-6f67a7d959bf       1       0       0       0       0   \n",
       "fffff010-6df7-4d05-b014-84248b8d1fad       1       0       0       0       0   \n",
       "fffff61d-3525-4938-a736-261ccb123c47       1       0       0       0       0   \n",
       "fffff716-1f43-4f5f-a62b-2d1c9a26b3ba       1       0       0       0       1   \n",
       "fffffad2-1b0d-4b18-a3d2-c496b2b4c966       1       0       0       0       1   \n",
       "\n",
       "                                       concat_src_mac   concat_dst_mac  \n",
       "0000127a-3659-4318-8dcf-9ab81f9a4050     112490399296      97113814912  \n",
       "0000282d-9cc0-417b-a8ba-e9ddd0f51907   88226781932672  211551555070016  \n",
       "00003f54-1a7e-461a-905a-8b338ccf51ed      83200487040  189803579077441  \n",
       "00005ba0-df6e-4f2e-8bc7-56587e924323     112490399296      97113814912  \n",
       "000086c0-6c17-4dcb-a3f4-7687bfa50917  106225803332964      47029714112  \n",
       "...                                               ...              ...  \n",
       "ffffeffd-e46f-4916-9580-6f67a7d959bf      97113814912     112490399296  \n",
       "fffff010-6df7-4d05-b014-84248b8d1fad     896767197125     618663970892  \n",
       "fffff61d-3525-4938-a736-261ccb123c47  238257139002241      29066665506  \n",
       "fffff716-1f43-4f5f-a62b-2d1c9a26b3ba     163544444160     893392113664  \n",
       "fffffad2-1b0d-4b18-a3d2-c496b2b4c966  128157406096288     155569840384  \n",
       "\n",
       "[3354174 rows x 39 columns]"
      ]
     },
     "execution_count": 258,
     "metadata": {},
     "output_type": "execute_result"
    }
   ],
   "source": [
    "flag_ip_mac_tcp_train_df"
   ]
  },
  {
   "cell_type": "code",
   "execution_count": 242,
   "metadata": {},
   "outputs": [
    {
     "data": {
      "text/plain": [
       "RandomForestClassifier(bootstrap=True, ccp_alpha=0.0, class_weight=None,\n",
       "                       criterion='gini', max_depth=None, max_features='auto',\n",
       "                       max_leaf_nodes=None, max_samples=None,\n",
       "                       min_impurity_decrease=0.0, min_impurity_split=None,\n",
       "                       min_samples_leaf=1, min_samples_split=2,\n",
       "                       min_weight_fraction_leaf=0.0, n_estimators=100,\n",
       "                       n_jobs=None, oob_score=False, random_state=None,\n",
       "                       verbose=0, warm_start=False)"
      ]
     },
     "execution_count": 242,
     "metadata": {},
     "output_type": "execute_result"
    }
   ],
   "source": [
    "forest2 = RandomForestClassifier(n_estimators=100)\n",
    "forest2.fit(flag_ip_mac_tcp_train_df, labels)"
   ]
  },
  {
   "cell_type": "code",
   "execution_count": 205,
   "metadata": {},
   "outputs": [],
   "source": [
    "dst_macs = []\n",
    "src_macs = []\n",
    "for i in range(6):\n",
    "    dst_macs.append(\"dst_mac_addr_\"+str(i))\n",
    "    src_macs.append(\"src_mac_addr_\"+str(i))"
   ]
  },
  {
   "cell_type": "code",
   "execution_count": 208,
   "metadata": {},
   "outputs": [
    {
     "data": {
      "text/plain": [
       "['dst_mac_addr_0',\n",
       " 'dst_mac_addr_1',\n",
       " 'dst_mac_addr_2',\n",
       " 'dst_mac_addr_3',\n",
       " 'dst_mac_addr_4',\n",
       " 'dst_mac_addr_5']"
      ]
     },
     "execution_count": 208,
     "metadata": {},
     "output_type": "execute_result"
    }
   ],
   "source": [
    "dst_macs"
   ]
  },
  {
   "cell_type": "code",
   "execution_count": 209,
   "metadata": {},
   "outputs": [
    {
     "data": {
      "text/plain": [
       "['src_mac_addr_0',\n",
       " 'src_mac_addr_1',\n",
       " 'src_mac_addr_2',\n",
       " 'src_mac_addr_3',\n",
       " 'src_mac_addr_4',\n",
       " 'src_mac_addr_5']"
      ]
     },
     "execution_count": 209,
     "metadata": {},
     "output_type": "execute_result"
    }
   ],
   "source": [
    "src_macs"
   ]
  },
  {
   "cell_type": "code",
   "execution_count": 214,
   "metadata": {},
   "outputs": [
    {
     "data": {
      "text/html": [
       "<div>\n",
       "<style scoped>\n",
       "    .dataframe tbody tr th:only-of-type {\n",
       "        vertical-align: middle;\n",
       "    }\n",
       "\n",
       "    .dataframe tbody tr th {\n",
       "        vertical-align: top;\n",
       "    }\n",
       "\n",
       "    .dataframe thead th {\n",
       "        text-align: right;\n",
       "    }\n",
       "</style>\n",
       "<table border=\"1\" class=\"dataframe\">\n",
       "  <thead>\n",
       "    <tr style=\"text-align: right;\">\n",
       "      <th></th>\n",
       "      <th>src_mac_addr_0</th>\n",
       "      <th>src_mac_addr_1</th>\n",
       "      <th>src_mac_addr_2</th>\n",
       "      <th>src_mac_addr_3</th>\n",
       "      <th>src_mac_addr_4</th>\n",
       "      <th>src_mac_addr_5</th>\n",
       "    </tr>\n",
       "  </thead>\n",
       "  <tbody>\n",
       "    <tr>\n",
       "      <th>0000127a-3659-4318-8dcf-9ab81f9a4050</th>\n",
       "      <td>0</td>\n",
       "      <td>26</td>\n",
       "      <td>48</td>\n",
       "      <td>243</td>\n",
       "      <td>70</td>\n",
       "      <td>64</td>\n",
       "    </tr>\n",
       "    <tr>\n",
       "      <th>0000282d-9cc0-417b-a8ba-e9ddd0f51907</th>\n",
       "      <td>80</td>\n",
       "      <td>61</td>\n",
       "      <td>229</td>\n",
       "      <td>255</td>\n",
       "      <td>44</td>\n",
       "      <td>128</td>\n",
       "    </tr>\n",
       "    <tr>\n",
       "      <th>00003f54-1a7e-461a-905a-8b338ccf51ed</th>\n",
       "      <td>0</td>\n",
       "      <td>19</td>\n",
       "      <td>95</td>\n",
       "      <td>34</td>\n",
       "      <td>174</td>\n",
       "      <td>128</td>\n",
       "    </tr>\n",
       "    <tr>\n",
       "      <th>00005ba0-df6e-4f2e-8bc7-56587e924323</th>\n",
       "      <td>0</td>\n",
       "      <td>26</td>\n",
       "      <td>48</td>\n",
       "      <td>243</td>\n",
       "      <td>70</td>\n",
       "      <td>64</td>\n",
       "    </tr>\n",
       "    <tr>\n",
       "      <th>000086c0-6c17-4dcb-a3f4-7687bfa50917</th>\n",
       "      <td>96</td>\n",
       "      <td>156</td>\n",
       "      <td>159</td>\n",
       "      <td>70</td>\n",
       "      <td>13</td>\n",
       "      <td>100</td>\n",
       "    </tr>\n",
       "    <tr>\n",
       "      <th>...</th>\n",
       "      <td>...</td>\n",
       "      <td>...</td>\n",
       "      <td>...</td>\n",
       "      <td>...</td>\n",
       "      <td>...</td>\n",
       "      <td>...</td>\n",
       "    </tr>\n",
       "    <tr>\n",
       "      <th>ffffeffd-e46f-4916-9580-6f67a7d959bf</th>\n",
       "      <td>0</td>\n",
       "      <td>22</td>\n",
       "      <td>156</td>\n",
       "      <td>111</td>\n",
       "      <td>55</td>\n",
       "      <td>128</td>\n",
       "    </tr>\n",
       "    <tr>\n",
       "      <th>fffff010-6df7-4d05-b014-84248b8d1fad</th>\n",
       "      <td>0</td>\n",
       "      <td>208</td>\n",
       "      <td>203</td>\n",
       "      <td>125</td>\n",
       "      <td>127</td>\n",
       "      <td>197</td>\n",
       "    </tr>\n",
       "    <tr>\n",
       "      <th>fffff61d-3525-4938-a736-261ccb123c47</th>\n",
       "      <td>216</td>\n",
       "      <td>177</td>\n",
       "      <td>144</td>\n",
       "      <td>34</td>\n",
       "      <td>171</td>\n",
       "      <td>129</td>\n",
       "    </tr>\n",
       "    <tr>\n",
       "      <th>fffff716-1f43-4f5f-a62b-2d1c9a26b3ba</th>\n",
       "      <td>0</td>\n",
       "      <td>38</td>\n",
       "      <td>20</td>\n",
       "      <td>2</td>\n",
       "      <td>45</td>\n",
       "      <td>0</td>\n",
       "    </tr>\n",
       "    <tr>\n",
       "      <th>fffffad2-1b0d-4b18-a3d2-c496b2b4c966</th>\n",
       "      <td>116</td>\n",
       "      <td>142</td>\n",
       "      <td>248</td>\n",
       "      <td>170</td>\n",
       "      <td>107</td>\n",
       "      <td>160</td>\n",
       "    </tr>\n",
       "  </tbody>\n",
       "</table>\n",
       "<p>3354174 rows × 6 columns</p>\n",
       "</div>"
      ],
      "text/plain": [
       "                                      src_mac_addr_0  src_mac_addr_1  \\\n",
       "0000127a-3659-4318-8dcf-9ab81f9a4050               0              26   \n",
       "0000282d-9cc0-417b-a8ba-e9ddd0f51907              80              61   \n",
       "00003f54-1a7e-461a-905a-8b338ccf51ed               0              19   \n",
       "00005ba0-df6e-4f2e-8bc7-56587e924323               0              26   \n",
       "000086c0-6c17-4dcb-a3f4-7687bfa50917              96             156   \n",
       "...                                              ...             ...   \n",
       "ffffeffd-e46f-4916-9580-6f67a7d959bf               0              22   \n",
       "fffff010-6df7-4d05-b014-84248b8d1fad               0             208   \n",
       "fffff61d-3525-4938-a736-261ccb123c47             216             177   \n",
       "fffff716-1f43-4f5f-a62b-2d1c9a26b3ba               0              38   \n",
       "fffffad2-1b0d-4b18-a3d2-c496b2b4c966             116             142   \n",
       "\n",
       "                                      src_mac_addr_2  src_mac_addr_3  \\\n",
       "0000127a-3659-4318-8dcf-9ab81f9a4050              48             243   \n",
       "0000282d-9cc0-417b-a8ba-e9ddd0f51907             229             255   \n",
       "00003f54-1a7e-461a-905a-8b338ccf51ed              95              34   \n",
       "00005ba0-df6e-4f2e-8bc7-56587e924323              48             243   \n",
       "000086c0-6c17-4dcb-a3f4-7687bfa50917             159              70   \n",
       "...                                              ...             ...   \n",
       "ffffeffd-e46f-4916-9580-6f67a7d959bf             156             111   \n",
       "fffff010-6df7-4d05-b014-84248b8d1fad             203             125   \n",
       "fffff61d-3525-4938-a736-261ccb123c47             144              34   \n",
       "fffff716-1f43-4f5f-a62b-2d1c9a26b3ba              20               2   \n",
       "fffffad2-1b0d-4b18-a3d2-c496b2b4c966             248             170   \n",
       "\n",
       "                                      src_mac_addr_4  src_mac_addr_5  \n",
       "0000127a-3659-4318-8dcf-9ab81f9a4050              70              64  \n",
       "0000282d-9cc0-417b-a8ba-e9ddd0f51907              44             128  \n",
       "00003f54-1a7e-461a-905a-8b338ccf51ed             174             128  \n",
       "00005ba0-df6e-4f2e-8bc7-56587e924323              70              64  \n",
       "000086c0-6c17-4dcb-a3f4-7687bfa50917              13             100  \n",
       "...                                              ...             ...  \n",
       "ffffeffd-e46f-4916-9580-6f67a7d959bf              55             128  \n",
       "fffff010-6df7-4d05-b014-84248b8d1fad             127             197  \n",
       "fffff61d-3525-4938-a736-261ccb123c47             171             129  \n",
       "fffff716-1f43-4f5f-a62b-2d1c9a26b3ba              45               0  \n",
       "fffffad2-1b0d-4b18-a3d2-c496b2b4c966             107             160  \n",
       "\n",
       "[3354174 rows x 6 columns]"
      ]
     },
     "execution_count": 214,
     "metadata": {},
     "output_type": "execute_result"
    }
   ],
   "source": [
    "flag_ip_mac_tcp_train_df[src_macs]"
   ]
  },
  {
   "cell_type": "code",
   "execution_count": 213,
   "metadata": {},
   "outputs": [
    {
     "data": {
      "text/plain": [
       "0000127a-3659-4318-8dcf-9ab81f9a4050      0\n",
       "0000282d-9cc0-417b-a8ba-e9ddd0f51907     80\n",
       "00003f54-1a7e-461a-905a-8b338ccf51ed      0\n",
       "00005ba0-df6e-4f2e-8bc7-56587e924323      0\n",
       "000086c0-6c17-4dcb-a3f4-7687bfa50917     96\n",
       "                                       ... \n",
       "ffffeffd-e46f-4916-9580-6f67a7d959bf      0\n",
       "fffff010-6df7-4d05-b014-84248b8d1fad      0\n",
       "fffff61d-3525-4938-a736-261ccb123c47    216\n",
       "fffff716-1f43-4f5f-a62b-2d1c9a26b3ba      0\n",
       "fffffad2-1b0d-4b18-a3d2-c496b2b4c966    116\n",
       "Name: src_mac_addr_0, Length: 3354174, dtype: int64"
      ]
     },
     "execution_count": 213,
     "metadata": {},
     "output_type": "execute_result"
    }
   ],
   "source": [
    "flag_ip_mac_tcp_train_df[src_macs[0]]*flag_ip_mac_tcp_train_df[src_macs[1]]"
   ]
  },
  {
   "cell_type": "code",
   "execution_count": 204,
   "metadata": {},
   "outputs": [
    {
     "data": {
      "text/plain": [
       "Index(['Ether Type', 'Version', 'Internet Header Length',\n",
       "       'Differentiated Services Code Point',\n",
       "       'Explicit Congestion Notification', 'Total Length', 'Identification',\n",
       "       'Flags_x', 'Fragment Offset', 'Time To Live', 'Protocol',\n",
       "       'Header Checksum', 'Source port', 'Destination port', 'Sequence number',\n",
       "       'Acknowledgment number', 'Data offset', 'Reserved', 'Window size',\n",
       "       'Checksum', 'Urgent pointer', 'dst_mac_addr_0', 'dst_mac_addr_1',\n",
       "       'dst_mac_addr_2', 'dst_mac_addr_3', 'dst_mac_addr_4', 'dst_mac_addr_5',\n",
       "       'src_mac_addr_0', 'src_mac_addr_1', 'src_mac_addr_2', 'src_mac_addr_3',\n",
       "       'src_mac_addr_4', 'src_mac_addr_5', 'dst_ip_addr_0', 'dst_ip_addr_1',\n",
       "       'dst_ip_addr_2', 'dst_ip_addr_3', 'src_ip_addr_0', 'src_ip_addr_1',\n",
       "       'src_ip_addr_2', 'src_ip_addr_3', 'flags0', 'flags2', 'flags1',\n",
       "       'flags4', 'flags3', 'flags6', 'flags5', 'flags8'],\n",
       "      dtype='object')"
      ]
     },
     "execution_count": 204,
     "metadata": {},
     "output_type": "execute_result"
    }
   ],
   "source": [
    "flag_ip_mac_tcp_train_df.columns"
   ]
  },
  {
   "cell_type": "code",
   "execution_count": 207,
   "metadata": {},
   "outputs": [
    {
     "data": {
      "text/plain": [
       "0.16560381184756665"
      ]
     },
     "execution_count": 207,
     "metadata": {},
     "output_type": "execute_result"
    }
   ],
   "source": [
    "sum(labels)/len(labels)"
   ]
  },
  {
   "cell_type": "code",
   "execution_count": null,
   "metadata": {},
   "outputs": [],
   "source": []
  },
  {
   "cell_type": "markdown",
   "metadata": {},
   "source": [
    "# test\n",
    "---"
   ]
  },
  {
   "cell_type": "code",
   "execution_count": 138,
   "metadata": {},
   "outputs": [
    {
     "data": {
      "application/vnd.jupyter.widget-view+json": {
       "model_id": "d464acc23cd7441db1109fa561f4a12a",
       "version_major": 2,
       "version_minor": 0
      },
      "text/plain": [
       "HBox(children=(FloatProgress(value=0.0, max=1057931.0), HTML(value='')))"
      ]
     },
     "metadata": {},
     "output_type": "display_data"
    },
    {
     "name": "stdout",
     "output_type": "stream",
     "text": [
      "\n"
     ]
    }
   ],
   "source": [
    "tcp_data = {}\n",
    "idxs = list(test_df.index)\n",
    "for idx in tqdm(test_df.index):\n",
    "    tcp = test_df[\"TCP\"][idx]\n",
    "    for key in tcp_keys:\n",
    "        if key not in tcp_data:\n",
    "            tcp_data[key] = []\n",
    "        tcp_data[key].append(tcp[key])"
   ]
  },
  {
   "cell_type": "code",
   "execution_count": 139,
   "metadata": {},
   "outputs": [],
   "source": [
    "test_tcp_df = pd.DataFrame(data=tcp_data, index=idxs)"
   ]
  },
  {
   "cell_type": "code",
   "execution_count": 140,
   "metadata": {},
   "outputs": [],
   "source": [
    "tcp_test_df = pd.merge(test_df, test_tcp_df, left_index=True, right_index=True, how=\"outer\")"
   ]
  },
  {
   "cell_type": "code",
   "execution_count": 141,
   "metadata": {},
   "outputs": [],
   "source": [
    "cols = list(tcp_test_df.columns)"
   ]
  },
  {
   "cell_type": "code",
   "execution_count": 142,
   "metadata": {},
   "outputs": [
    {
     "data": {
      "application/vnd.jupyter.widget-view+json": {
       "model_id": "36cf99cf0a4541fab9168930641133e3",
       "version_major": 2,
       "version_minor": 0
      },
      "text/plain": [
       "HBox(children=(FloatProgress(value=0.0, max=1057931.0), HTML(value='')))"
      ]
     },
     "metadata": {},
     "output_type": "display_data"
    },
    {
     "name": "stdout",
     "output_type": "stream",
     "text": [
      "\n"
     ]
    }
   ],
   "source": [
    "des_mac = [[],[],[],[],[],[]]\n",
    "src_mac = [[],[],[],[],[],[]]\n",
    "for idx in tqdm(idxs):\n",
    "    ds_mac = tcp_test_df[\"Destination MAC Address\"][idx]\n",
    "    sc_mac = tcp_test_df[\"Source MAC Address\"][idx]\n",
    "    for i, ds in enumerate(Mac_split(ds_mac)):\n",
    "        des_mac[i].append(ds)\n",
    "    for i, sc in enumerate(Mac_split(sc_mac)):\n",
    "        src_mac[i].append(sc)\n",
    "    "
   ]
  },
  {
   "cell_type": "code",
   "execution_count": 143,
   "metadata": {},
   "outputs": [],
   "source": [
    "mac_addr_df = pd.DataFrame(data={\n",
    "    'dst_mac_addr_0':des_mac[0], 'dst_mac_addr_1':des_mac[1],\n",
    "    'dst_mac_addr_2':des_mac[2], 'dst_mac_addr_3':des_mac[3],\n",
    "    'dst_mac_addr_4':des_mac[4], 'dst_mac_addr_5':des_mac[5],\n",
    "    'src_mac_addr_0':src_mac[0], 'src_mac_addr_1':src_mac[1],\n",
    "    'src_mac_addr_2':src_mac[2], 'src_mac_addr_3':src_mac[3],\n",
    "    'src_mac_addr_4':src_mac[4], 'src_mac_addr_5':src_mac[5]\n",
    "}, index=idxs)"
   ]
  },
  {
   "cell_type": "code",
   "execution_count": 144,
   "metadata": {},
   "outputs": [],
   "source": [
    "mac_tcp_test_df = pd.merge(tcp_test_df, mac_addr_df, left_index=True, right_index=True, how=\"outer\")"
   ]
  },
  {
   "cell_type": "code",
   "execution_count": 145,
   "metadata": {},
   "outputs": [],
   "source": [
    "del mac_tcp_test_df[\"Destination MAC Address\"]\n",
    "del mac_tcp_test_df[\"Source MAC Address\"]"
   ]
  },
  {
   "cell_type": "code",
   "execution_count": 146,
   "metadata": {},
   "outputs": [],
   "source": [
    "mac_tcp_test_df['Ether Type'] = mac_tcp_test_df['Ether Type'].apply(int_16)\n",
    "\n",
    "mac_tcp_test_df[\"Checksum\"] = mac_tcp_test_df[\"Checksum\"].apply(int_16)"
   ]
  },
  {
   "cell_type": "code",
   "execution_count": 147,
   "metadata": {},
   "outputs": [
    {
     "data": {
      "application/vnd.jupyter.widget-view+json": {
       "model_id": "741b4e6fa7fa4204b59b9d0e1a2700cc",
       "version_major": 2,
       "version_minor": 0
      },
      "text/plain": [
       "HBox(children=(FloatProgress(value=0.0, max=1057931.0), HTML(value='')))"
      ]
     },
     "metadata": {},
     "output_type": "display_data"
    },
    {
     "name": "stdout",
     "output_type": "stream",
     "text": [
      "\n"
     ]
    }
   ],
   "source": [
    "des_ip = [[],[],[],[]]\n",
    "src_ip = [[],[],[],[]]\n",
    "for idx in tqdm(idxs):\n",
    "    ds_ip = mac_tcp_test_df[\"Destination IP Address\"][idx]\n",
    "    sc_ip = mac_tcp_test_df[\"Source IP Address\"][idx]\n",
    "    for i, ds in enumerate(ip_split(ds_ip)):\n",
    "        des_ip[i].append(ds)\n",
    "    for i, sc in enumerate(ip_split(sc_ip)):\n",
    "        src_ip[i].append(sc)"
   ]
  },
  {
   "cell_type": "code",
   "execution_count": 148,
   "metadata": {},
   "outputs": [],
   "source": [
    "ip_addr_df = pd.DataFrame(data={\n",
    "    'dst_ip_addr_0':des_ip[0], 'dst_ip_addr_1':des_ip[1],\n",
    "    'dst_ip_addr_2':des_ip[2], 'dst_ip_addr_3':des_ip[3],\n",
    "    'src_ip_addr_0':src_ip[0], 'src_ip_addr_1':src_ip[1],\n",
    "    'src_ip_addr_2':src_ip[2], 'src_ip_addr_3':src_ip[3]\n",
    "}, index=idxs)"
   ]
  },
  {
   "cell_type": "code",
   "execution_count": 149,
   "metadata": {},
   "outputs": [],
   "source": [
    "ip_mac_tcp_test_df = pd.merge(mac_tcp_test_df, ip_addr_df, left_index=True, right_index=True, how=\"outer\")"
   ]
  },
  {
   "cell_type": "code",
   "execution_count": 150,
   "metadata": {},
   "outputs": [],
   "source": [
    "del ip_mac_tcp_test_df['Source IP Address']\n",
    "del ip_mac_tcp_test_df['Destination IP Address']\n",
    "del ip_mac_tcp_test_df[\"TCP\"]"
   ]
  },
  {
   "cell_type": "code",
   "execution_count": 151,
   "metadata": {},
   "outputs": [],
   "source": [
    "ip_mac_tcp_test_df['Sequence number'] = ip_mac_tcp_test_df['Sequence number'].apply(int_16)\n",
    "\n",
    "ip_mac_tcp_test_df['Acknowledgment number'] = ip_mac_tcp_test_df['Acknowledgment number'].apply(int_16)"
   ]
  },
  {
   "cell_type": "code",
   "execution_count": 152,
   "metadata": {},
   "outputs": [
    {
     "data": {
      "application/vnd.jupyter.widget-view+json": {
       "model_id": "e0ae48fa8b7448f0a598e38a7b755df5",
       "version_major": 2,
       "version_minor": 0
      },
      "text/plain": [
       "HBox(children=(FloatProgress(value=0.0, max=1057931.0), HTML(value='')))"
      ]
     },
     "metadata": {},
     "output_type": "display_data"
    },
    {
     "name": "stdout",
     "output_type": "stream",
     "text": [
      "\n"
     ]
    }
   ],
   "source": [
    "flags = []\n",
    "for _ in range(9):\n",
    "    flags.append([])\n",
    "    \n",
    "for idx in tqdm(idxs):\n",
    "    for i, v in enumerate(list(ip_mac_tcp_test_df[\"Flags_y\"][idx].values())):\n",
    "        flags[i].append(v)"
   ]
  },
  {
   "cell_type": "code",
   "execution_count": 153,
   "metadata": {},
   "outputs": [],
   "source": [
    "flags_df = pd.DataFrame(data={\n",
    "    \"flags0\":flags[0], \"flags0\":flags[0],\n",
    "    \"flags2\":flags[2], \"flags1\":flags[1],\n",
    "    \"flags4\":flags[4], \"flags3\":flags[3],\n",
    "    \"flags6\":flags[6], \"flags5\":flags[5],\n",
    "    \"flags8\":flags[8]    \n",
    "}, index=idxs)"
   ]
  },
  {
   "cell_type": "code",
   "execution_count": 154,
   "metadata": {},
   "outputs": [],
   "source": [
    "flag_ip_mac_tcp_test_df = pd.merge(ip_mac_tcp_test_df, flags_df, left_index=True, right_index=True, how=\"outer\")"
   ]
  },
  {
   "cell_type": "code",
   "execution_count": 155,
   "metadata": {},
   "outputs": [],
   "source": [
    "del flag_ip_mac_tcp_test_df['Flags_y']"
   ]
  },
  {
   "cell_type": "code",
   "execution_count": 157,
   "metadata": {},
   "outputs": [],
   "source": [
    "flag_ip_mac_tcp_test_df[\"Header Checksum\"] = flag_ip_mac_tcp_test_df[\"Header Checksum\"].apply(int_16)"
   ]
  },
  {
   "cell_type": "code",
   "execution_count": 159,
   "metadata": {},
   "outputs": [],
   "source": [
    "test_analy_1 = pd.read_pickle(\"E:/full_data/data/protocols/network/HH/test_1_df_label.pkl\")\n",
    "test_analy_2 = pd.read_pickle(\"E:/full_data/data/protocols/network/HH/test_2_df_label.pkl\")"
   ]
  },
  {
   "cell_type": "code",
   "execution_count": 160,
   "metadata": {},
   "outputs": [
    {
     "data": {
      "application/vnd.jupyter.widget-view+json": {
       "model_id": "2d9df16b049148798577c112e69ba4ba",
       "version_major": 2,
       "version_minor": 0
      },
      "text/plain": [
       "HBox(children=(FloatProgress(value=0.0, max=1057931.0), HTML(value='')))"
      ]
     },
     "metadata": {},
     "output_type": "display_data"
    },
    {
     "name": "stdout",
     "output_type": "stream",
     "text": [
      "\n"
     ]
    }
   ],
   "source": [
    "label = []\n",
    "for idx in tqdm(idxs):\n",
    "    if idx in test_analy_1:\n",
    "        label.append(1)\n",
    "    else:\n",
    "        label.append(0)"
   ]
  },
  {
   "cell_type": "code",
   "execution_count": 161,
   "metadata": {},
   "outputs": [],
   "source": [
    "flag_ip_mac_tcp_test_df['label'] = label"
   ]
  },
  {
   "cell_type": "code",
   "execution_count": 162,
   "metadata": {},
   "outputs": [],
   "source": [
    "test_labels = flag_ip_mac_tcp_test_df['label']"
   ]
  },
  {
   "cell_type": "code",
   "execution_count": 164,
   "metadata": {},
   "outputs": [],
   "source": [
    "del flag_ip_mac_tcp_test_df['label']"
   ]
  },
  {
   "cell_type": "code",
   "execution_count": 166,
   "metadata": {},
   "outputs": [
    {
     "name": "stdout",
     "output_type": "stream",
     "text": [
      "정확도 : 0.6950708505564163\n"
     ]
    }
   ],
   "source": [
    "y_pred = forest.predict(flag_ip_mac_tcp_test_df)\n",
    "#print(y_pred)\n",
    "#print(list(y_test))\n",
    "\n",
    "# 정확도 확인\n",
    "print('정확도 :', metrics.accuracy_score(test_labels, y_pred))"
   ]
  },
  {
   "cell_type": "code",
   "execution_count": 168,
   "metadata": {},
   "outputs": [],
   "source": [
    "from sklearn.metrics import confusion_matrix"
   ]
  },
  {
   "cell_type": "code",
   "execution_count": 169,
   "metadata": {},
   "outputs": [
    {
     "data": {
      "text/plain": [
       "array([[704436, 163986],\n",
       "       [158608,  30901]], dtype=int64)"
      ]
     },
     "execution_count": 169,
     "metadata": {},
     "output_type": "execute_result"
    }
   ],
   "source": [
    "confusion_matrix(test_labels, y_pred)"
   ]
  },
  {
   "cell_type": "code",
   "execution_count": 1,
   "metadata": {},
   "outputs": [
    {
     "ename": "NameError",
     "evalue": "name 'mac_tcp_test_df' is not defined",
     "output_type": "error",
     "traceback": [
      "\u001b[1;31m---------------------------------------------------------------------------\u001b[0m",
      "\u001b[1;31mNameError\u001b[0m                                 Traceback (most recent call last)",
      "\u001b[1;32m<ipython-input-1-491abc822253>\u001b[0m in \u001b[0;36m<module>\u001b[1;34m\u001b[0m\n\u001b[1;32m----> 1\u001b[1;33m \u001b[0mmac_tcp_test_df\u001b[0m\u001b[1;33m\u001b[0m\u001b[1;33m\u001b[0m\u001b[0m\n\u001b[0m",
      "\u001b[1;31mNameError\u001b[0m: name 'mac_tcp_test_df' is not defined"
     ]
    }
   ],
   "source": [
    "mac_tcp_test_df"
   ]
  },
  {
   "cell_type": "code",
   "execution_count": 244,
   "metadata": {},
   "outputs": [],
   "source": [
    "test_dst_mac = tcp_test_df['Destination MAC Address']\n",
    "test_src_mac = tcp_test_df['Source MAC Address']"
   ]
  },
  {
   "cell_type": "code",
   "execution_count": 245,
   "metadata": {},
   "outputs": [],
   "source": [
    "concat_test_dst_mac = test_dst_mac.apply(concat_mac_to_int)\n",
    "concat_test_src_mac = test_src_mac.apply(concat_mac_to_int)"
   ]
  },
  {
   "cell_type": "code",
   "execution_count": 246,
   "metadata": {},
   "outputs": [],
   "source": [
    "flag_ip_mac_tcp_test_df[\"concat_src_mac\"] = concat_test_src_mac\n",
    "flag_ip_mac_tcp_test_df[\"concat_dst_mac\"] = concat_test_dst_mac"
   ]
  },
  {
   "cell_type": "code",
   "execution_count": 257,
   "metadata": {},
   "outputs": [
    {
     "data": {
      "text/plain": [
       "['dst_mac_addr_0',\n",
       " 'src_mac_addr_0',\n",
       " 'dst_mac_addr_1',\n",
       " 'src_mac_addr_1',\n",
       " 'dst_mac_addr_2',\n",
       " 'src_mac_addr_2',\n",
       " 'dst_mac_addr_3',\n",
       " 'src_mac_addr_3',\n",
       " 'dst_mac_addr_4',\n",
       " 'src_mac_addr_4',\n",
       " 'dst_mac_addr_5',\n",
       " 'src_mac_addr_5']"
      ]
     },
     "execution_count": 257,
     "metadata": {},
     "output_type": "execute_result"
    }
   ],
   "source": [
    "macs"
   ]
  },
  {
   "cell_type": "code",
   "execution_count": 247,
   "metadata": {},
   "outputs": [],
   "source": [
    "for mac in macs:\n",
    "    del flag_ip_mac_tcp_test_df[mac]"
   ]
  },
  {
   "cell_type": "code",
   "execution_count": 248,
   "metadata": {},
   "outputs": [],
   "source": [
    "y_pred2 = forest2.predict(flag_ip_mac_tcp_test_df)"
   ]
  },
  {
   "cell_type": "code",
   "execution_count": 249,
   "metadata": {},
   "outputs": [
    {
     "name": "stdout",
     "output_type": "stream",
     "text": [
      "정확도 : 0.6201935664991384\n"
     ]
    }
   ],
   "source": [
    "print('정확도 :', metrics.accuracy_score(test_labels, y_pred2))"
   ]
  },
  {
   "cell_type": "code",
   "execution_count": 250,
   "metadata": {},
   "outputs": [],
   "source": [
    "fimp2 = forest2.feature_importances_"
   ]
  },
  {
   "cell_type": "code",
   "execution_count": 260,
   "metadata": {},
   "outputs": [
    {
     "data": {
      "text/plain": [
       "Index(['Ether Type', 'Version', 'Internet Header Length',\n",
       "       'Differentiated Services Code Point',\n",
       "       'Explicit Congestion Notification', 'Total Length', 'Identification',\n",
       "       'Flags_x', 'Fragment Offset', 'Time To Live', 'Protocol',\n",
       "       'Header Checksum', 'Source port', 'Destination port', 'Sequence number',\n",
       "       'Acknowledgment number', 'Data offset', 'Reserved', 'Window size',\n",
       "       'Checksum', 'Urgent pointer', 'dst_ip_addr_0', 'dst_ip_addr_1',\n",
       "       'dst_ip_addr_2', 'dst_ip_addr_3', 'src_ip_addr_0', 'src_ip_addr_1',\n",
       "       'src_ip_addr_2', 'src_ip_addr_3', 'flags0', 'flags2', 'flags1',\n",
       "       'flags4', 'flags3', 'flags6', 'flags5', 'flags8', 'concat_src_mac',\n",
       "       'concat_dst_mac'],\n",
       "      dtype='object')"
      ]
     },
     "execution_count": 260,
     "metadata": {},
     "output_type": "execute_result"
    }
   ],
   "source": [
    "flag_ip_mac_tcp_train_df.columns"
   ]
  },
  {
   "cell_type": "code",
   "execution_count": 251,
   "metadata": {},
   "outputs": [],
   "source": [
    "train_cols2 = list(flag_ip_mac_tcp_train_df.columns)"
   ]
  },
  {
   "cell_type": "code",
   "execution_count": 261,
   "metadata": {},
   "outputs": [],
   "source": [
    "imp_dic = {}\n",
    "for c, i in zip(train_cols2, fimp2):\n",
    "    imp_dic[c]=i"
   ]
  },
  {
   "cell_type": "code",
   "execution_count": 262,
   "metadata": {},
   "outputs": [],
   "source": [
    "sort_imp = sorted(imp_dic.items(), key=(lambda x: x[1]), reverse=False)"
   ]
  },
  {
   "cell_type": "code",
   "execution_count": 263,
   "metadata": {},
   "outputs": [],
   "source": [
    "imp_cols = []\n",
    "imp_imp = []\n",
    "for i in sort_imp:\n",
    "    imp_cols.append(i[0])\n",
    "    imp_imp.append(i[1])"
   ]
  },
  {
   "cell_type": "code",
   "execution_count": 264,
   "metadata": {},
   "outputs": [
    {
     "data": {
      "image/png": "[encoded data removed]",
      "text/plain": [
       "<Figure size 2880x3600 with 1 Axes>"
      ]
     },
     "metadata": {
      "needs_background": "light"
     },
     "output_type": "display_data"
    }
   ],
   "source": [
    "plt.figure(figsize=(40, 50))\n",
    "plt.yticks(fontsize=30)\n",
    "plt.xticks(fontsize=30)\n",
    "plt.barh(imp_cols, imp_imp)\n",
    "plt.savefig('E:/full_data/kcc_res/TCP_exp_img/49_feature_imp2.png')\n",
    "plt.show()"
   ]
  },
  {
   "cell_type": "code",
   "execution_count": 175,
   "metadata": {},
   "outputs": [],
   "source": [
    "train_cols = list(flag_ip_mac_tcp_train_df.columns)"
   ]
  },
  {
   "cell_type": "code",
   "execution_count": 171,
   "metadata": {},
   "outputs": [],
   "source": [
    "fimp = forest.feature_importances_"
   ]
  },
  {
   "cell_type": "code",
   "execution_count": 174,
   "metadata": {},
   "outputs": [
    {
     "data": {
      "text/plain": [
       "49"
      ]
     },
     "execution_count": 174,
     "metadata": {},
     "output_type": "execute_result"
    }
   ],
   "source": [
    "len(fimp)"
   ]
  },
  {
   "cell_type": "code",
   "execution_count": 177,
   "metadata": {},
   "outputs": [],
   "source": [
    "import matplotlib.pyplot as plt"
   ]
  },
  {
   "cell_type": "code",
   "execution_count": 191,
   "metadata": {},
   "outputs": [],
   "source": [
    "imp_dic = {}\n",
    "for c, i in zip(train_cols, fimp):\n",
    "    imp_dic[c]=i"
   ]
  },
  {
   "cell_type": "code",
   "execution_count": 199,
   "metadata": {},
   "outputs": [],
   "source": [
    "sort_imp = sorted(imp_dic.items(), key=(lambda x: x[1]), reverse=False)"
   ]
  },
  {
   "cell_type": "code",
   "execution_count": 200,
   "metadata": {},
   "outputs": [
    {
     "data": {
      "text/plain": [
       "('Ether Type', 0.0)"
      ]
     },
     "execution_count": 200,
     "metadata": {},
     "output_type": "execute_result"
    }
   ],
   "source": [
    "sort_imp[0]"
   ]
  },
  {
   "cell_type": "code",
   "execution_count": 201,
   "metadata": {},
   "outputs": [],
   "source": [
    "imp_cols = []\n",
    "imp_imp = []\n",
    "for i in sort_imp:\n",
    "    imp_cols.append(i[0])\n",
    "    imp_imp.append(i[1])"
   ]
  },
  {
   "cell_type": "code",
   "execution_count": 203,
   "metadata": {},
   "outputs": [
    {
     "data": {
      "image/png": "[encoded data removed]",
      "text/plain": [
       "<Figure size 2880x3600 with 1 Axes>"
      ]
     },
     "metadata": {
      "needs_background": "light"
     },
     "output_type": "display_data"
    }
   ],
   "source": [
    "plt.figure(figsize=(40, 50))\n",
    "plt.yticks(fontsize=30)\n",
    "plt.xticks(fontsize=30)\n",
    "plt.barh(imp_cols, imp_imp)\n",
    "plt.savefig('E:/full_data/kcc_res/TCP_exp_img/49_feature_imp.png')\n",
    "plt.show()"
   ]
  },
  {
   "cell_type": "code",
   "execution_count": null,
   "metadata": {},
   "outputs": [],
   "source": []
  },
  {
   "cell_type": "code",
   "execution_count": 172,
   "metadata": {},
   "outputs": [],
   "source": [
    "def graph_generator(model,importances, X):\n",
    "    std = np.std([tree.feature_importances_ for tree in model.estimators_],\n",
    "                 axis=0)\n",
    "    indices = np.argsort(importances)[::-1]\n",
    "\n",
    "    # Print the feature ranking\n",
    "    print(\"Feature ranking:\")\n",
    "\n",
    "    for f in range(X.shape[1]):\n",
    "        print(\"%d. feature %d (%f)\" % (f + 1, indices[f], importances[indices[f]]))\n",
    "\n",
    "    # Plot the feature importances of the forest\n",
    "    plt.figure()\n",
    "    plt.title(\"Feature importances\")\n",
    "    plt.bar(range(X.shape[1]), importances[indices],\n",
    "           color=\"r\", yerr=std[indices], align=\"center\")\n",
    "    plt.xticks(range(X.shape[1]), indices)\n",
    "    plt.xlim([-1, X.shape[1]])\n",
    "    plt.show()"
   ]
  },
  {
   "cell_type": "code",
   "execution_count": null,
   "metadata": {},
   "outputs": [],
   "source": []
  }
 ],
 "metadata": {
  "kernelspec": {
   "display_name": "Python 3",
   "language": "python",
   "name": "python3"
  },
  "language_info": {
   "codemirror_mode": {
    "name": "ipython",
    "version": 3
   },
   "file_extension": ".py",
   "mimetype": "text/x-python",
   "name": "python",
   "nbconvert_exporter": "python",
   "pygments_lexer": "ipython3",
   "version": "3.7.6"
  }
 },
 "nbformat": 4,
 "nbformat_minor": 4
}
